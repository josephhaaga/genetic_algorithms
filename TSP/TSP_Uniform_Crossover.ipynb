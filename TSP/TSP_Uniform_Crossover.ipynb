{
 "cells": [
  {
   "cell_type": "code",
   "execution_count": 108,
   "metadata": {
    "collapsed": false
   },
   "outputs": [],
   "source": [
    "import deap as dp\n",
    "import array\n",
    "import random\n",
    "import json\n",
    "import pandas as pd\n",
    "import numpy as np\n",
    "%matplotlib inline\n",
    "from deap import algorithms\n",
    "from deap import base\n",
    "from deap import creator\n",
    "from deap import tools"
   ]
  },
  {
   "cell_type": "code",
   "execution_count": null,
   "metadata": {
    "collapsed": true
   },
   "outputs": [],
   "source": []
  },
  {
   "cell_type": "code",
   "execution_count": 109,
   "metadata": {
    "collapsed": false,
    "scrolled": false
   },
   "outputs": [],
   "source": [
    "# gr*.json contains the distance map in list of list style in JSON format\n",
    "# Optimal solutions are : gr17 = 2085, gr24 = 1272, gr120 = 6942\n",
    "with open(\"gr17.json\", \"r\") as tsp_data:\n",
    "    tsp = json.load(tsp_data)\n",
    "\n",
    "distance_map = tsp[\"DistanceMatrix\"]\n",
    "IND_SIZE = tsp[\"TourSize\"]\n",
    "\n",
    "creator.create(\"FitnessMin\", base.Fitness, weights=(-1.0,))\n",
    "creator.create(\"Individual\", array.array, typecode='i', fitness=creator.FitnessMin)\n"
   ]
  },
  {
   "cell_type": "code",
   "execution_count": 110,
   "metadata": {
    "collapsed": true
   },
   "outputs": [],
   "source": [
    "toolbox = base.Toolbox()\n",
    "\n",
    "# Attribute generator\n",
    "toolbox.register(\"indices\", random.sample, range(IND_SIZE), IND_SIZE)\n",
    "\n",
    "# Structure initializers\n",
    "toolbox.register(\"individual\", tools.initIterate, creator.Individual, toolbox.indices)\n",
    "toolbox.register(\"population\", tools.initRepeat, list, toolbox.individual)\n",
    "\n",
    "def evalTSP(individual):\n",
    "    distance = distance_map[individual[-1]][individual[0]]\n",
    "    for gene1, gene2 in zip(individual[0:-1], individual[1:]):\n",
    "        distance += distance_map[gene1][gene2]\n",
    "    return distance,\n",
    "\n",
    "toolbox.register(\"mate\", tools.cxUniform,indpb=0.50)\n",
    "toolbox.register(\"mutate\", tools.mutShuffleIndexes, indpb=0.25)\n",
    "toolbox.register(\"select\", tools.selTournament, tournsize=3)\n",
    "toolbox.register(\"evaluate\", evalTSP)"
   ]
  },
  {
   "cell_type": "code",
   "execution_count": 111,
   "metadata": {
    "collapsed": false,
    "scrolled": true
   },
   "outputs": [
    {
     "name": "stdout",
     "output_type": "stream",
     "text": [
      "gen\tnevals\tavg   \tstd    \tmin \tmax \n",
      "0  \t300   \t4700.7\t424.386\t3606\t5842\n",
      "1  \t219   \t4427.3\t566.363\t2102\t6490\n",
      "2  \t227   \t4048.89\t687.649\t2294\t5912\n",
      "3  \t221   \t3627.9 \t643.068\t2117\t5690\n",
      "4  \t235   \t3301.63\t663.255\t1646\t5305\n",
      "5  \t229   \t2869.67\t595.61 \t1211\t4907\n",
      "6  \t240   \t2506.35\t559.961\t1224\t5148\n",
      "7  \t224   \t2162.91\t505.996\t856 \t3919\n",
      "8  \t244   \t1793.76\t402.72 \t808 \t3318\n",
      "9  \t214   \t1507.79\t353.687\t738 \t2746\n",
      "10 \t242   \t1259.26\t267.275\t510 \t2120\n",
      "11 \t221   \t1081.56\t240.481\t413 \t1921\n",
      "12 \t225   \t945.453\t202.167\t315 \t1686\n",
      "13 \t240   \t835.823\t188.792\t315 \t1531\n",
      "14 \t228   \t738.46 \t167.94 \t274 \t1460\n",
      "15 \t226   \t652.75 \t153.318\t303 \t1182\n",
      "16 \t226   \t569.237\t128.654\t262 \t988 \n",
      "17 \t236   \t526.91 \t117.073\t248 \t1039\n",
      "18 \t252   \t489.4  \t114.167\t248 \t868 \n",
      "19 \t228   \t466.247\t108.574\t152 \t933 \n",
      "20 \t224   \t428.75 \t102.574\t187 \t784 \n",
      "21 \t239   \t396.883\t100.407\t174 \t719 \n",
      "22 \t214   \t365.407\t94.6637\t116 \t617 \n",
      "23 \t241   \t336.33 \t103.835\t116 \t729 \n",
      "24 \t225   \t292.853\t91.6123\t58  \t628 \n",
      "25 \t231   \t259.057\t86.1408\t58  \t568 \n",
      "26 \t229   \t219.47 \t82.6474\t58  \t581 \n",
      "27 \t236   \t180.543\t76.2502\t58  \t458 \n",
      "28 \t231   \t145.097\t66.8755\t58  \t384 \n",
      "29 \t233   \t111.447\t61.5484\t58  \t348 \n",
      "30 \t232   \t93.46  \t59.0454\t58  \t348 \n",
      "31 \t223   \t88.3733\t57.1876\t58  \t290 \n",
      "32 \t236   \t87.5067\t53.4463\t58  \t290 \n",
      "33 \t217   \t81.9733\t52.3873\t58  \t348 \n",
      "34 \t225   \t88.5467\t60.534 \t58  \t290 \n",
      "35 \t231   \t85.4533\t57.6885\t58  \t290 \n",
      "36 \t236   \t80.8133\t50.9594\t58  \t290 \n",
      "37 \t223   \t85.6467\t57.8874\t58  \t348 \n",
      "38 \t230   \t85.6467\t58.0808\t58  \t290 \n",
      "39 \t200   \t79.8467\t51.0528\t58  \t348 \n",
      "40 \t242   \t84.8733\t61.4359\t58  \t348 \n"
     ]
    }
   ],
   "source": [
    "# main() exposed\n",
    "\n",
    "random.seed(169)\n",
    "\n",
    "pop = toolbox.population(n=300)\n",
    "\n",
    "hof = tools.HallOfFame(1)\n",
    "stats = tools.Statistics(lambda ind: ind.fitness.values)\n",
    "stats.register(\"avg\", np.mean)\n",
    "stats.register(\"std\", np.std)\n",
    "stats.register(\"min\", np.min)\n",
    "stats.register(\"max\", np.max)\n",
    "\n",
    "result_object=algorithms.eaSimple(pop, toolbox, 0.7, 0.2, 40, stats=stats, \n",
    "                    halloffame=hof)"
   ]
  },
  {
   "cell_type": "code",
   "execution_count": null,
   "metadata": {
    "collapsed": true
   },
   "outputs": [],
   "source": []
  },
  {
   "cell_type": "code",
   "execution_count": 112,
   "metadata": {
    "collapsed": false
   },
   "outputs": [
    {
     "data": {
      "text/plain": [
       "566.36339746569865"
      ]
     },
     "execution_count": 112,
     "metadata": {},
     "output_type": "execute_result"
    }
   ],
   "source": [
    "result_object[1][1]['std']"
   ]
  },
  {
   "cell_type": "code",
   "execution_count": 113,
   "metadata": {
    "collapsed": false
   },
   "outputs": [
    {
     "data": {
      "text/plain": [
       "dict"
      ]
     },
     "execution_count": 113,
     "metadata": {},
     "output_type": "execute_result"
    }
   ],
   "source": [
    "type(result_object[1][1])"
   ]
  },
  {
   "cell_type": "code",
   "execution_count": 114,
   "metadata": {
    "collapsed": false
   },
   "outputs": [
    {
     "data": {
      "text/plain": [
       "<matplotlib.axes._subplots.AxesSubplot at 0x7f0fd0f19a50>"
      ]
     },
     "execution_count": 114,
     "metadata": {},
     "output_type": "execute_result"
    },
    {
     "data": {
      "image/png": "[encoded data removed]",
      "text/plain": [
       "<matplotlib.figure.Figure at 0x7f0fd1073e90>"
      ]
     },
     "metadata": {},
     "output_type": "display_data"
    }
   ],
   "source": [
    "pd.DataFrame(data=result_object[1]).plot()"
   ]
  },
  {
   "cell_type": "code",
   "execution_count": 115,
   "metadata": {
    "collapsed": false
   },
   "outputs": [
    {
     "data": {
      "text/plain": [
       "<bound method DataFrame.to_csv of             avg  gen     max     min  nevals         std\n",
       "0   4700.700000    0  5842.0  3606.0     300  424.385536\n",
       "1   4427.303333    1  6490.0  2102.0     219  566.363397\n",
       "2   4048.890000    2  5912.0  2294.0     227  687.649003\n",
       "3   3627.896667    3  5690.0  2117.0     221  643.067570\n",
       "4   3301.633333    4  5305.0  1646.0     235  663.255294\n",
       "5   2869.673333    5  4907.0  1211.0     229  595.609587\n",
       "6   2506.346667    6  5148.0  1224.0     240  559.961278\n",
       "7   2162.913333    7  3919.0   856.0     224  505.996178\n",
       "8   1793.763333    8  3318.0   808.0     244  402.720168\n",
       "9   1507.793333    9  2746.0   738.0     214  353.686986\n",
       "10  1259.260000   10  2120.0   510.0     242  267.274589\n",
       "11  1081.563333   11  1921.0   413.0     221  240.480656\n",
       "12   945.453333   12  1686.0   315.0     225  202.166848\n",
       "13   835.823333   13  1531.0   315.0     240  188.792352\n",
       "14   738.460000   14  1460.0   274.0     228  167.939816\n",
       "15   652.750000   15  1182.0   303.0     226  153.318103\n",
       "16   569.236667   16   988.0   262.0     226  128.654475\n",
       "17   526.910000   17  1039.0   248.0     236  117.073233\n",
       "18   489.400000   18   868.0   248.0     252  114.166837\n",
       "19   466.246667   19   933.0   152.0     228  108.574057\n",
       "20   428.750000   20   784.0   187.0     224  102.573717\n",
       "21   396.883333   21   719.0   174.0     239  100.407186\n",
       "22   365.406667   22   617.0   116.0     214   94.663657\n",
       "23   336.330000   23   729.0   116.0     241  103.835099\n",
       "24   292.853333   24   628.0    58.0     225   91.612327\n",
       "25   259.056667   25   568.0    58.0     231   86.140777\n",
       "26   219.470000   26   581.0    58.0     229   82.647418\n",
       "27   180.543333   27   458.0    58.0     236   76.250168\n",
       "28   145.096667   28   384.0    58.0     231   66.875511\n",
       "29   111.446667   29   348.0    58.0     233   61.548413\n",
       "30    93.460000   30   348.0    58.0     232   59.045364\n",
       "31    88.373333   31   290.0    58.0     223   57.187592\n",
       "32    87.506667   32   290.0    58.0     236   53.446265\n",
       "33    81.973333   33   348.0    58.0     217   52.387269\n",
       "34    88.546667   34   290.0    58.0     225   60.534022\n",
       "35    85.453333   35   290.0    58.0     231   57.688542\n",
       "36    80.813333   36   290.0    58.0     236   50.959381\n",
       "37    85.646667   37   348.0    58.0     223   57.887435\n",
       "38    85.646667   38   290.0    58.0     230   58.080821\n",
       "39    79.846667   39   348.0    58.0     200   51.052814\n",
       "40    84.873333   40   348.0    58.0     242   61.435907>"
      ]
     },
     "execution_count": 115,
     "metadata": {},
     "output_type": "execute_result"
    }
   ],
   "source": [
    "pd.DataFrame(data=result_object[1]).to_csv"
   ]
  },
  {
   "cell_type": "code",
   "execution_count": 116,
   "metadata": {
    "collapsed": false
   },
   "outputs": [
    {
     "data": {
      "text/plain": [
       "{'avg': 3627.8966666666665,\n",
       " 'gen': 3,\n",
       " 'max': 5690.0,\n",
       " 'min': 2117.0,\n",
       " 'nevals': 221,\n",
       " 'std': 643.06756979513614}"
      ]
     },
     "execution_count": 116,
     "metadata": {},
     "output_type": "execute_result"
    }
   ],
   "source": [
    "result_object[1][3]"
   ]
  },
  {
   "cell_type": "code",
   "execution_count": 117,
   "metadata": {
    "collapsed": false
   },
   "outputs": [],
   "source": [
    "df = pd.DataFrame().from_dict(result_object[1])"
   ]
  },
  {
   "cell_type": "code",
   "execution_count": 118,
   "metadata": {
    "collapsed": false
   },
   "outputs": [
    {
     "data": {
      "text/plain": [
       "<matplotlib.axes._subplots.AxesSubplot at 0x7f0fd10e06d0>"
      ]
     },
     "execution_count": 118,
     "metadata": {},
     "output_type": "execute_result"
    },
    {
     "data": {
      "image/png": "[encoded data removed]",
      "text/plain": [
       "<matplotlib.figure.Figure at 0x7f0fd0eb6ad0>"
      ]
     },
     "metadata": {},
     "output_type": "display_data"
    }
   ],
   "source": [
    "df.plot(y='std')"
   ]
  },
  {
   "cell_type": "code",
   "execution_count": 119,
   "metadata": {
    "collapsed": false
   },
   "outputs": [
    {
     "data": {
      "text/plain": [
       "<matplotlib.axes._subplots.AxesSubplot at 0x7f0fd1e1fa50>"
      ]
     },
     "execution_count": 119,
     "metadata": {},
     "output_type": "execute_result"
    },
    {
     "data": {
      "image/png": "[encoded data removed]",
      "text/plain": [
       "<matplotlib.figure.Figure at 0x7f0fd1530b90>"
      ]
     },
     "metadata": {},
     "output_type": "display_data"
    }
   ],
   "source": [
    "df.plot(y='min')"
   ]
  },
  {
   "cell_type": "code",
   "execution_count": 120,
   "metadata": {
    "collapsed": false
   },
   "outputs": [
    {
     "data": {
      "text/plain": [
       "[array('i', [6, 16, 6, 6, 16, 16, 16, 16, 16, 16, 6, 6, 6, 6, 6, 6, 6]),\n",
       " array('i', [6, 6, 6, 6, 16, 16, 16, 16, 16, 16, 6, 6, 6, 6, 6, 6, 6]),\n",
       " array('i', [6, 6, 6, 16, 16, 16, 16, 16, 16, 6, 6, 6, 6, 6, 6, 6, 6]),\n",
       " array('i', [6, 6, 6, 6, 16, 16, 16, 16, 16, 6, 6, 6, 6, 6, 6, 6, 6]),\n",
       " array('i', [6, 6, 6, 6, 16, 16, 16, 16, 16, 16, 6, 6, 6, 6, 6, 6, 6]),\n",
       " array('i', [6, 6, 6, 6, 16, 16, 16, 16, 16, 16, 6, 6, 6, 6, 6, 6, 6]),\n",
       " array('i', [6, 6, 6, 6, 16, 16, 16, 16, 16, 6, 6, 6, 6, 6, 6, 6, 6]),\n",
       " array('i', [6, 6, 6, 16, 16, 16, 16, 16, 16, 16, 6, 6, 6, 6, 6, 6, 6]),\n",
       " array('i', [6, 6, 6, 6, 16, 16, 16, 16, 16, 16, 6, 6, 6, 6, 6, 6, 6]),\n",
       " array('i', [6, 6, 6, 6, 16, 16, 16, 16, 16, 16, 16, 6, 6, 6, 6, 6, 6]),\n",
       " array('i', [6, 6, 6, 6, 16, 16, 16, 16, 16, 6, 6, 6, 6, 6, 6, 6, 6]),\n",
       " array('i', [6, 6, 6, 6, 16, 16, 16, 16, 16, 16, 6, 6, 6, 6, 6, 6, 6]),\n",
       " array('i', [6, 6, 6, 6, 16, 16, 16, 16, 16, 16, 6, 6, 6, 6, 6, 6, 6]),\n",
       " array('i', [6, 16, 6, 6, 16, 6, 16, 6, 16, 16, 6, 16, 6, 6, 6, 6, 6]),\n",
       " array('i', [6, 6, 6, 6, 16, 16, 16, 16, 16, 16, 6, 6, 6, 6, 6, 6, 6]),\n",
       " array('i', [6, 6, 6, 6, 16, 16, 16, 16, 16, 16, 6, 6, 6, 6, 6, 6, 6]),\n",
       " array('i', [6, 6, 6, 6, 16, 16, 16, 16, 16, 16, 6, 6, 6, 6, 6, 6, 6]),\n",
       " array('i', [6, 6, 6, 6, 6, 16, 16, 16, 16, 16, 6, 6, 6, 6, 6, 6, 6]),\n",
       " array('i', [6, 6, 6, 6, 6, 16, 16, 16, 16, 16, 6, 6, 6, 6, 6, 6, 6]),\n",
       " array('i', [6, 6, 6, 6, 16, 16, 16, 16, 16, 16, 6, 6, 6, 6, 6, 6, 6]),\n",
       " array('i', [6, 6, 6, 6, 16, 16, 16, 16, 16, 16, 6, 6, 6, 6, 6, 6, 6]),\n",
       " array('i', [6, 6, 6, 16, 16, 16, 16, 16, 16, 16, 6, 6, 6, 6, 6, 6, 6]),\n",
       " array('i', [6, 6, 6, 16, 6, 16, 16, 16, 16, 6, 6, 6, 6, 16, 6, 6, 6]),\n",
       " array('i', [6, 6, 6, 6, 16, 16, 16, 16, 16, 6, 6, 6, 6, 6, 6, 6, 6]),\n",
       " array('i', [6, 6, 6, 6, 16, 16, 16, 16, 16, 6, 6, 6, 6, 6, 6, 6, 6]),\n",
       " array('i', [6, 6, 6, 6, 16, 16, 16, 16, 16, 6, 6, 6, 6, 6, 6, 6, 6]),\n",
       " array('i', [6, 6, 6, 6, 16, 16, 16, 16, 16, 16, 6, 6, 6, 6, 6, 6, 6]),\n",
       " array('i', [6, 6, 6, 6, 16, 16, 16, 16, 16, 16, 16, 6, 6, 6, 6, 6, 6]),\n",
       " array('i', [6, 6, 6, 6, 16, 16, 16, 16, 16, 16, 6, 6, 6, 6, 6, 6, 6]),\n",
       " array('i', [6, 6, 6, 6, 16, 6, 16, 6, 6, 16, 6, 16, 6, 6, 6, 16, 6]),\n",
       " array('i', [6, 6, 6, 6, 16, 16, 16, 16, 16, 6, 6, 6, 6, 6, 6, 6, 6]),\n",
       " array('i', [6, 6, 6, 6, 16, 16, 16, 16, 16, 16, 6, 6, 6, 6, 6, 6, 6]),\n",
       " array('i', [6, 6, 6, 6, 16, 16, 16, 16, 16, 16, 6, 6, 6, 6, 6, 6, 6]),\n",
       " array('i', [6, 6, 6, 6, 16, 16, 16, 16, 16, 16, 6, 6, 6, 6, 6, 6, 6]),\n",
       " array('i', [6, 6, 6, 6, 6, 16, 16, 16, 16, 16, 6, 6, 6, 6, 6, 6, 6]),\n",
       " array('i', [6, 6, 6, 16, 16, 16, 16, 16, 16, 16, 6, 6, 6, 6, 6, 6, 6]),\n",
       " array('i', [6, 6, 6, 6, 16, 16, 16, 16, 16, 16, 6, 6, 6, 6, 6, 6, 6]),\n",
       " array('i', [6, 6, 6, 6, 16, 16, 16, 16, 16, 16, 16, 6, 6, 6, 6, 6, 6]),\n",
       " array('i', [6, 6, 6, 16, 16, 16, 6, 16, 6, 6, 16, 6, 6, 6, 6, 6, 16]),\n",
       " array('i', [6, 6, 6, 16, 16, 16, 16, 16, 16, 16, 16, 6, 6, 6, 6, 6, 6]),\n",
       " array('i', [6, 6, 6, 6, 16, 16, 16, 16, 16, 16, 6, 6, 6, 6, 6, 6, 6]),\n",
       " array('i', [6, 6, 6, 6, 16, 16, 16, 16, 16, 16, 16, 6, 6, 6, 6, 6, 6]),\n",
       " array('i', [6, 6, 6, 16, 16, 16, 16, 16, 16, 6, 6, 6, 6, 6, 6, 6, 6]),\n",
       " array('i', [6, 6, 6, 6, 16, 16, 16, 16, 16, 16, 6, 6, 6, 6, 6, 6, 6]),\n",
       " array('i', [6, 6, 6, 6, 16, 16, 16, 16, 16, 16, 6, 6, 6, 6, 6, 6, 6]),\n",
       " array('i', [6, 6, 6, 6, 16, 16, 16, 16, 16, 16, 6, 6, 6, 6, 6, 6, 6]),\n",
       " array('i', [6, 6, 6, 6, 6, 16, 16, 16, 16, 6, 6, 6, 6, 6, 16, 6, 6]),\n",
       " array('i', [6, 6, 6, 6, 16, 16, 16, 16, 16, 16, 16, 6, 6, 6, 6, 6, 6]),\n",
       " array('i', [6, 6, 6, 16, 16, 16, 16, 16, 16, 6, 6, 6, 6, 6, 6, 6, 6]),\n",
       " array('i', [6, 6, 6, 6, 16, 16, 16, 16, 16, 16, 6, 6, 6, 6, 6, 6, 6]),\n",
       " array('i', [6, 6, 6, 6, 16, 16, 16, 16, 16, 16, 6, 6, 6, 6, 6, 6, 6]),\n",
       " array('i', [6, 6, 6, 6, 16, 16, 16, 16, 16, 6, 6, 6, 6, 6, 6, 6, 6]),\n",
       " array('i', [16, 16, 6, 16, 6, 16, 16, 6, 6, 16, 6, 6, 6, 6, 6, 6, 6]),\n",
       " array('i', [6, 6, 6, 16, 16, 16, 16, 16, 16, 16, 6, 6, 6, 6, 6, 6, 6]),\n",
       " array('i', [6, 6, 6, 6, 16, 16, 16, 16, 16, 6, 6, 6, 6, 6, 6, 6, 6]),\n",
       " array('i', [6, 6, 6, 6, 16, 16, 16, 16, 16, 6, 6, 6, 6, 6, 6, 6, 6]),\n",
       " array('i', [6, 6, 6, 6, 16, 6, 16, 16, 16, 16, 6, 6, 6, 6, 16, 6, 6]),\n",
       " array('i', [16, 6, 6, 16, 16, 16, 6, 6, 16, 6, 6, 6, 6, 6, 6, 16, 6]),\n",
       " array('i', [6, 6, 6, 6, 16, 16, 16, 16, 16, 16, 6, 6, 6, 6, 6, 6, 6]),\n",
       " array('i', [6, 6, 6, 16, 16, 16, 16, 16, 16, 16, 6, 6, 6, 6, 6, 6, 6]),\n",
       " array('i', [6, 6, 6, 6, 16, 16, 16, 16, 16, 16, 6, 6, 6, 6, 6, 6, 6]),\n",
       " array('i', [6, 16, 6, 16, 6, 6, 16, 6, 6, 16, 6, 6, 6, 6, 6, 16, 6]),\n",
       " array('i', [6, 6, 6, 6, 16, 16, 16, 16, 16, 6, 6, 6, 6, 6, 6, 6, 6]),\n",
       " array('i', [6, 6, 6, 6, 16, 16, 16, 16, 16, 16, 6, 6, 6, 6, 6, 6, 6]),\n",
       " array('i', [6, 6, 6, 6, 16, 16, 16, 16, 16, 16, 6, 6, 6, 6, 6, 6, 6]),\n",
       " array('i', [6, 6, 6, 6, 16, 16, 16, 16, 16, 16, 6, 6, 6, 6, 6, 6, 6]),\n",
       " array('i', [6, 6, 16, 6, 6, 16, 16, 16, 16, 16, 6, 6, 6, 6, 6, 6, 6]),\n",
       " array('i', [6, 6, 6, 16, 16, 16, 16, 16, 16, 16, 6, 6, 6, 6, 6, 6, 6]),\n",
       " array('i', [6, 6, 6, 6, 16, 16, 16, 16, 16, 16, 6, 6, 6, 6, 6, 6, 6]),\n",
       " array('i', [6, 6, 6, 6, 16, 16, 16, 16, 16, 16, 6, 6, 6, 6, 6, 6, 6]),\n",
       " array('i', [6, 6, 6, 6, 16, 16, 16, 16, 16, 16, 6, 6, 6, 6, 6, 6, 6]),\n",
       " array('i', [6, 6, 6, 6, 6, 16, 16, 16, 16, 16, 6, 6, 6, 6, 6, 6, 6]),\n",
       " array('i', [6, 6, 6, 6, 16, 16, 16, 16, 16, 16, 6, 6, 6, 6, 6, 6, 6]),\n",
       " array('i', [6, 6, 6, 6, 16, 16, 16, 16, 16, 6, 6, 6, 6, 6, 6, 6, 6]),\n",
       " array('i', [6, 6, 6, 6, 16, 16, 16, 16, 16, 6, 6, 6, 6, 6, 6, 6, 6]),\n",
       " array('i', [6, 6, 6, 6, 16, 16, 16, 16, 16, 6, 6, 6, 6, 6, 6, 6, 6]),\n",
       " array('i', [6, 6, 6, 6, 16, 16, 16, 16, 16, 6, 16, 6, 6, 6, 6, 6, 6]),\n",
       " array('i', [6, 6, 6, 16, 16, 16, 16, 16, 16, 16, 6, 6, 6, 6, 6, 6, 6]),\n",
       " array('i', [6, 6, 6, 16, 16, 16, 16, 16, 16, 16, 6, 6, 6, 6, 6, 6, 6]),\n",
       " array('i', [6, 6, 6, 6, 16, 16, 16, 16, 16, 16, 6, 6, 6, 6, 6, 6, 6]),\n",
       " array('i', [6, 6, 6, 6, 16, 16, 16, 16, 16, 6, 6, 6, 6, 6, 6, 6, 6]),\n",
       " array('i', [6, 6, 6, 6, 16, 16, 16, 16, 16, 16, 6, 6, 6, 6, 6, 6, 6]),\n",
       " array('i', [6, 6, 6, 6, 16, 16, 16, 16, 16, 16, 6, 6, 6, 6, 6, 6, 6]),\n",
       " array('i', [6, 6, 6, 6, 16, 16, 16, 16, 16, 16, 6, 6, 6, 6, 6, 6, 6]),\n",
       " array('i', [6, 6, 6, 6, 16, 16, 16, 16, 16, 16, 6, 6, 6, 6, 6, 6, 6]),\n",
       " array('i', [6, 6, 6, 16, 16, 16, 16, 16, 16, 16, 16, 6, 6, 6, 6, 6, 6]),\n",
       " array('i', [6, 6, 16, 16, 16, 16, 16, 16, 16, 16, 6, 6, 6, 6, 6, 6, 6]),\n",
       " array('i', [6, 6, 6, 6, 16, 16, 16, 16, 16, 16, 6, 6, 6, 6, 6, 6, 6]),\n",
       " array('i', [6, 6, 6, 6, 16, 16, 16, 16, 16, 6, 6, 6, 6, 6, 6, 6, 6]),\n",
       " array('i', [6, 6, 6, 6, 16, 16, 16, 16, 16, 16, 6, 6, 6, 6, 6, 6, 6]),\n",
       " array('i', [6, 6, 6, 6, 16, 16, 16, 16, 16, 16, 6, 6, 6, 6, 6, 6, 6]),\n",
       " array('i', [6, 6, 6, 16, 16, 6, 16, 16, 6, 16, 6, 16, 6, 6, 6, 6, 6]),\n",
       " array('i', [6, 6, 6, 6, 16, 16, 16, 16, 16, 16, 6, 6, 6, 6, 6, 6, 6]),\n",
       " array('i', [6, 6, 6, 16, 16, 16, 16, 16, 16, 6, 6, 6, 6, 6, 6, 6, 6]),\n",
       " array('i', [6, 6, 6, 6, 16, 16, 16, 16, 16, 16, 6, 16, 6, 6, 6, 6, 6]),\n",
       " array('i', [6, 6, 6, 6, 16, 16, 16, 16, 16, 6, 6, 6, 6, 6, 6, 6, 6]),\n",
       " array('i', [6, 6, 6, 6, 6, 16, 16, 16, 16, 16, 6, 6, 6, 6, 6, 6, 6]),\n",
       " array('i', [6, 6, 6, 6, 16, 16, 16, 16, 16, 6, 6, 6, 6, 6, 6, 6, 6]),\n",
       " array('i', [6, 6, 6, 6, 16, 16, 16, 16, 16, 16, 6, 6, 6, 6, 6, 6, 6]),\n",
       " array('i', [6, 6, 6, 6, 16, 6, 16, 16, 6, 16, 16, 6, 6, 6, 6, 16, 6]),\n",
       " array('i', [16, 6, 16, 16, 16, 6, 16, 6, 16, 16, 6, 6, 6, 6, 6, 6, 6]),\n",
       " array('i', [6, 6, 6, 6, 16, 16, 16, 16, 16, 6, 6, 6, 6, 6, 6, 6, 6]),\n",
       " array('i', [6, 6, 6, 6, 16, 16, 16, 16, 16, 6, 6, 6, 6, 6, 6, 6, 6]),\n",
       " array('i', [6, 6, 6, 6, 16, 16, 16, 16, 16, 16, 6, 6, 6, 6, 6, 6, 6]),\n",
       " array('i', [6, 6, 6, 6, 16, 16, 16, 16, 16, 16, 6, 6, 6, 6, 6, 6, 6]),\n",
       " array('i', [6, 6, 6, 6, 16, 16, 16, 16, 16, 16, 6, 6, 6, 6, 6, 6, 6]),\n",
       " array('i', [6, 6, 6, 6, 16, 16, 16, 16, 16, 16, 6, 6, 6, 6, 6, 6, 6]),\n",
       " array('i', [6, 6, 6, 6, 16, 16, 16, 16, 16, 6, 16, 6, 6, 6, 6, 6, 6]),\n",
       " array('i', [6, 6, 6, 6, 16, 16, 16, 16, 16, 6, 6, 6, 6, 6, 6, 6, 6]),\n",
       " array('i', [6, 6, 6, 6, 16, 16, 16, 16, 16, 16, 6, 6, 6, 6, 6, 6, 6]),\n",
       " array('i', [6, 6, 6, 6, 16, 16, 16, 16, 16, 16, 6, 6, 6, 6, 6, 6, 6]),\n",
       " array('i', [6, 6, 6, 6, 16, 16, 16, 16, 16, 16, 6, 6, 6, 6, 6, 6, 6]),\n",
       " array('i', [6, 6, 6, 6, 16, 16, 16, 16, 16, 16, 6, 6, 6, 6, 6, 6, 6]),\n",
       " array('i', [6, 6, 6, 6, 16, 16, 16, 16, 16, 6, 6, 6, 6, 6, 6, 6, 6]),\n",
       " array('i', [6, 6, 6, 6, 16, 16, 16, 16, 16, 16, 6, 6, 6, 6, 6, 6, 6]),\n",
       " array('i', [16, 6, 16, 6, 16, 16, 16, 16, 6, 16, 6, 6, 6, 6, 6, 6, 6]),\n",
       " array('i', [6, 6, 6, 6, 16, 16, 16, 16, 16, 6, 6, 6, 6, 6, 6, 6, 6]),\n",
       " array('i', [6, 6, 6, 6, 16, 16, 16, 16, 16, 16, 6, 6, 6, 6, 6, 6, 6]),\n",
       " array('i', [6, 6, 6, 6, 16, 16, 6, 6, 16, 16, 6, 16, 6, 16, 6, 6, 6]),\n",
       " array('i', [16, 6, 6, 6, 6, 16, 6, 16, 16, 6, 6, 6, 6, 6, 6, 6, 16]),\n",
       " array('i', [6, 6, 6, 6, 16, 16, 16, 16, 16, 6, 6, 6, 6, 6, 6, 6, 6]),\n",
       " array('i', [6, 6, 6, 16, 16, 16, 16, 16, 16, 6, 6, 6, 6, 6, 6, 6, 6]),\n",
       " array('i', [6, 6, 6, 6, 16, 16, 16, 16, 16, 16, 6, 6, 6, 6, 6, 6, 6]),\n",
       " array('i', [16, 6, 6, 6, 6, 16, 16, 16, 6, 6, 16, 6, 6, 6, 16, 6, 6]),\n",
       " array('i', [6, 6, 16, 6, 6, 16, 16, 16, 16, 16, 6, 6, 6, 6, 6, 6, 6]),\n",
       " array('i', [6, 16, 6, 16, 16, 16, 16, 16, 6, 6, 6, 6, 6, 6, 6, 6, 6]),\n",
       " array('i', [6, 6, 6, 6, 16, 16, 16, 16, 16, 6, 6, 6, 6, 6, 6, 6, 6]),\n",
       " array('i', [6, 6, 6, 6, 16, 16, 16, 16, 16, 6, 6, 6, 6, 6, 6, 6, 6]),\n",
       " array('i', [6, 16, 6, 6, 6, 16, 6, 16, 16, 16, 6, 6, 16, 6, 6, 6, 6]),\n",
       " array('i', [6, 6, 6, 6, 16, 16, 16, 16, 16, 16, 6, 6, 6, 6, 6, 6, 6]),\n",
       " array('i', [6, 6, 6, 16, 16, 16, 16, 16, 16, 6, 6, 6, 6, 6, 6, 6, 6]),\n",
       " array('i', [6, 6, 6, 6, 16, 16, 16, 16, 16, 16, 6, 6, 6, 6, 6, 6, 6]),\n",
       " array('i', [6, 6, 6, 6, 16, 16, 16, 16, 16, 16, 6, 6, 6, 6, 6, 6, 6]),\n",
       " array('i', [6, 6, 6, 16, 16, 16, 16, 16, 16, 6, 6, 6, 6, 6, 6, 6, 6]),\n",
       " array('i', [16, 6, 6, 6, 16, 16, 6, 6, 16, 16, 16, 6, 6, 16, 6, 6, 6]),\n",
       " array('i', [6, 6, 6, 16, 16, 16, 16, 16, 16, 16, 16, 6, 6, 6, 6, 6, 6]),\n",
       " array('i', [6, 6, 6, 6, 16, 16, 16, 16, 16, 16, 6, 6, 6, 6, 6, 6, 6]),\n",
       " array('i', [6, 6, 6, 16, 16, 16, 16, 16, 16, 16, 6, 6, 6, 6, 6, 6, 6]),\n",
       " array('i', [6, 6, 6, 6, 6, 16, 16, 16, 16, 16, 6, 6, 6, 6, 6, 6, 6]),\n",
       " array('i', [6, 6, 6, 6, 16, 16, 16, 16, 16, 6, 6, 6, 6, 6, 6, 6, 6]),\n",
       " array('i', [6, 6, 6, 6, 16, 16, 16, 16, 16, 16, 6, 6, 6, 6, 6, 6, 6]),\n",
       " array('i', [6, 6, 6, 6, 16, 16, 16, 16, 16, 16, 6, 6, 6, 6, 6, 6, 6]),\n",
       " array('i', [6, 6, 6, 6, 16, 16, 16, 16, 6, 16, 6, 16, 6, 6, 6, 6, 6]),\n",
       " array('i', [6, 6, 6, 16, 16, 16, 16, 16, 16, 16, 16, 6, 6, 6, 6, 6, 6]),\n",
       " array('i', [6, 6, 6, 6, 16, 16, 16, 16, 16, 16, 6, 6, 6, 6, 6, 6, 6]),\n",
       " array('i', [6, 6, 6, 6, 16, 16, 16, 16, 16, 16, 6, 6, 6, 6, 6, 6, 6]),\n",
       " array('i', [6, 6, 6, 16, 16, 16, 16, 16, 16, 6, 6, 6, 6, 6, 6, 6, 6]),\n",
       " array('i', [6, 6, 6, 6, 16, 16, 16, 16, 16, 6, 6, 6, 6, 6, 6, 6, 6]),\n",
       " array('i', [6, 6, 6, 6, 16, 16, 16, 16, 16, 16, 6, 6, 6, 6, 6, 6, 6]),\n",
       " array('i', [6, 6, 6, 6, 16, 16, 16, 16, 16, 16, 6, 6, 6, 6, 6, 6, 6]),\n",
       " array('i', [6, 6, 6, 6, 16, 16, 16, 16, 16, 16, 6, 6, 6, 6, 6, 6, 6]),\n",
       " array('i', [6, 6, 6, 6, 16, 16, 16, 16, 16, 16, 6, 6, 6, 6, 6, 6, 6]),\n",
       " array('i', [6, 16, 6, 16, 6, 16, 6, 6, 6, 16, 6, 6, 16, 6, 6, 6, 6]),\n",
       " array('i', [6, 6, 6, 6, 16, 16, 16, 16, 16, 16, 6, 6, 6, 6, 6, 6, 6]),\n",
       " array('i', [6, 6, 6, 6, 16, 16, 16, 16, 16, 16, 16, 6, 6, 6, 6, 6, 6]),\n",
       " array('i', [6, 6, 6, 6, 16, 16, 16, 16, 16, 16, 16, 6, 6, 6, 6, 6, 6]),\n",
       " array('i', [6, 6, 6, 6, 16, 16, 16, 16, 16, 16, 6, 6, 6, 6, 6, 6, 6]),\n",
       " array('i', [6, 6, 6, 16, 16, 16, 16, 16, 16, 6, 6, 6, 6, 6, 6, 6, 6]),\n",
       " array('i', [6, 6, 6, 6, 16, 16, 16, 16, 16, 16, 16, 6, 6, 6, 6, 6, 6]),\n",
       " array('i', [6, 6, 6, 6, 16, 16, 16, 16, 16, 6, 6, 6, 6, 6, 6, 6, 6]),\n",
       " array('i', [6, 6, 6, 6, 16, 16, 16, 16, 16, 6, 16, 6, 6, 6, 6, 6, 6]),\n",
       " array('i', [6, 6, 6, 6, 16, 16, 16, 16, 16, 16, 6, 6, 6, 6, 6, 6, 6]),\n",
       " array('i', [6, 16, 6, 6, 16, 6, 6, 6, 16, 16, 6, 6, 16, 6, 6, 6, 6]),\n",
       " array('i', [6, 6, 6, 6, 16, 16, 16, 16, 16, 16, 16, 6, 6, 6, 6, 6, 6]),\n",
       " array('i', [6, 6, 6, 16, 16, 16, 16, 16, 16, 6, 6, 6, 6, 6, 6, 6, 6]),\n",
       " array('i', [6, 6, 6, 6, 16, 16, 16, 16, 16, 6, 6, 6, 6, 6, 6, 6, 6]),\n",
       " array('i', [6, 6, 6, 6, 16, 16, 16, 16, 16, 16, 6, 6, 6, 6, 6, 6, 6]),\n",
       " array('i', [6, 16, 16, 6, 16, 6, 6, 16, 6, 16, 6, 6, 6, 16, 6, 16, 6]),\n",
       " array('i', [6, 6, 6, 6, 16, 16, 16, 16, 16, 16, 16, 6, 6, 6, 6, 6, 6]),\n",
       " array('i', [6, 6, 6, 6, 16, 16, 16, 16, 16, 6, 6, 6, 6, 6, 6, 6, 6]),\n",
       " array('i', [6, 6, 6, 6, 16, 16, 16, 16, 16, 16, 16, 6, 6, 6, 6, 6, 6]),\n",
       " array('i', [16, 6, 16, 6, 16, 6, 6, 6, 16, 6, 6, 6, 16, 6, 16, 6, 6]),\n",
       " array('i', [6, 6, 6, 6, 6, 16, 16, 16, 16, 16, 16, 6, 6, 6, 6, 6, 6]),\n",
       " array('i', [6, 6, 6, 6, 16, 16, 16, 16, 16, 16, 16, 6, 6, 6, 6, 6, 6]),\n",
       " array('i', [6, 6, 6, 6, 16, 16, 16, 16, 16, 6, 6, 6, 6, 6, 6, 6, 6]),\n",
       " array('i', [6, 6, 6, 6, 16, 16, 16, 16, 16, 16, 6, 6, 6, 6, 6, 6, 6]),\n",
       " array('i', [16, 16, 6, 6, 16, 16, 6, 6, 6, 16, 6, 6, 6, 16, 6, 6, 6]),\n",
       " array('i', [6, 6, 6, 6, 16, 16, 16, 16, 16, 16, 16, 6, 6, 6, 6, 6, 6]),\n",
       " array('i', [6, 6, 6, 6, 16, 16, 16, 16, 16, 16, 6, 6, 6, 6, 6, 6, 6]),\n",
       " array('i', [6, 6, 6, 6, 16, 16, 16, 16, 16, 16, 6, 6, 6, 6, 6, 6, 6]),\n",
       " array('i', [6, 6, 6, 16, 16, 16, 16, 16, 16, 16, 6, 6, 6, 6, 6, 6, 6]),\n",
       " array('i', [6, 6, 6, 6, 16, 16, 16, 16, 16, 16, 6, 6, 6, 6, 6, 6, 6]),\n",
       " array('i', [6, 6, 6, 6, 16, 16, 16, 16, 16, 6, 6, 6, 6, 6, 6, 6, 6]),\n",
       " array('i', [6, 6, 6, 16, 16, 16, 16, 16, 16, 6, 6, 6, 6, 6, 6, 6, 6]),\n",
       " array('i', [6, 6, 6, 6, 16, 16, 16, 6, 16, 6, 6, 6, 6, 16, 6, 6, 6]),\n",
       " array('i', [6, 6, 16, 6, 16, 16, 16, 16, 16, 16, 6, 6, 6, 6, 6, 6, 6]),\n",
       " array('i', [6, 6, 6, 6, 16, 16, 16, 16, 16, 16, 6, 6, 6, 6, 6, 6, 6]),\n",
       " array('i', [6, 6, 6, 6, 6, 16, 16, 16, 16, 16, 6, 6, 6, 6, 6, 6, 6]),\n",
       " array('i', [6, 6, 6, 6, 16, 16, 16, 16, 16, 16, 6, 6, 6, 6, 6, 6, 6]),\n",
       " array('i', [6, 16, 6, 16, 16, 16, 6, 16, 16, 6, 6, 6, 6, 6, 6, 6, 6]),\n",
       " array('i', [6, 6, 6, 6, 16, 16, 16, 16, 16, 16, 6, 6, 6, 6, 6, 6, 6]),\n",
       " array('i', [6, 6, 6, 6, 16, 16, 16, 16, 16, 16, 6, 6, 6, 6, 6, 6, 6]),\n",
       " array('i', [6, 6, 6, 6, 16, 16, 16, 16, 16, 6, 6, 6, 6, 6, 6, 6, 6]),\n",
       " array('i', [6, 6, 6, 16, 16, 16, 16, 16, 16, 6, 6, 6, 6, 6, 6, 6, 6]),\n",
       " array('i', [6, 6, 6, 6, 16, 16, 16, 16, 16, 16, 6, 6, 6, 6, 6, 6, 6]),\n",
       " array('i', [6, 6, 6, 6, 16, 16, 16, 16, 16, 6, 6, 6, 6, 6, 6, 6, 6]),\n",
       " array('i', [6, 6, 6, 6, 16, 16, 16, 16, 16, 16, 6, 6, 6, 6, 6, 6, 6]),\n",
       " array('i', [6, 6, 6, 6, 16, 16, 16, 16, 16, 16, 6, 6, 6, 6, 6, 6, 6]),\n",
       " array('i', [6, 6, 6, 6, 16, 16, 16, 16, 16, 16, 6, 6, 6, 6, 6, 6, 6]),\n",
       " array('i', [6, 6, 6, 6, 6, 16, 16, 16, 16, 6, 6, 6, 6, 6, 6, 6, 6]),\n",
       " array('i', [16, 6, 6, 6, 16, 6, 6, 6, 6, 6, 6, 6, 16, 6, 6, 16, 16]),\n",
       " array('i', [6, 6, 6, 6, 16, 16, 16, 16, 16, 6, 6, 6, 6, 6, 6, 6, 6]),\n",
       " array('i', [6, 6, 6, 16, 16, 16, 16, 16, 16, 16, 6, 6, 6, 6, 6, 6, 6]),\n",
       " array('i', [6, 6, 6, 6, 16, 16, 16, 16, 16, 16, 6, 6, 6, 6, 6, 6, 6]),\n",
       " array('i', [6, 6, 6, 6, 16, 16, 16, 16, 16, 16, 6, 6, 6, 6, 6, 6, 6]),\n",
       " array('i', [6, 6, 6, 6, 16, 16, 16, 16, 16, 16, 6, 6, 6, 6, 6, 6, 6]),\n",
       " array('i', [6, 6, 6, 6, 16, 16, 16, 16, 16, 16, 6, 6, 6, 6, 6, 6, 6]),\n",
       " array('i', [16, 6, 6, 6, 16, 16, 16, 6, 16, 6, 6, 6, 6, 6, 6, 16, 6]),\n",
       " array('i', [6, 6, 6, 6, 16, 16, 16, 16, 16, 16, 6, 6, 6, 6, 6, 6, 6]),\n",
       " array('i', [6, 6, 6, 6, 16, 16, 16, 16, 16, 16, 6, 6, 6, 6, 6, 6, 6]),\n",
       " array('i', [6, 6, 6, 6, 16, 16, 16, 16, 16, 16, 16, 6, 6, 6, 6, 6, 6]),\n",
       " array('i', [6, 6, 16, 16, 16, 16, 16, 16, 16, 16, 6, 6, 6, 6, 6, 6, 6]),\n",
       " array('i', [6, 6, 6, 16, 16, 16, 16, 16, 16, 16, 16, 6, 6, 6, 6, 6, 6]),\n",
       " array('i', [6, 6, 6, 6, 16, 16, 16, 16, 16, 16, 6, 6, 6, 6, 6, 6, 6]),\n",
       " array('i', [6, 6, 6, 6, 16, 16, 16, 16, 16, 16, 6, 6, 6, 6, 6, 6, 6]),\n",
       " array('i', [6, 6, 6, 6, 16, 16, 16, 16, 16, 16, 6, 6, 6, 6, 6, 6, 6]),\n",
       " array('i', [6, 6, 6, 6, 16, 16, 16, 16, 16, 16, 6, 6, 6, 6, 6, 6, 6]),\n",
       " array('i', [6, 6, 6, 6, 16, 16, 16, 16, 16, 16, 6, 6, 6, 6, 6, 6, 6]),\n",
       " array('i', [6, 6, 6, 6, 16, 16, 16, 16, 16, 16, 6, 6, 6, 6, 6, 6, 6]),\n",
       " array('i', [6, 6, 6, 16, 16, 16, 16, 16, 6, 6, 16, 6, 6, 6, 6, 6, 6]),\n",
       " array('i', [6, 6, 6, 6, 16, 16, 16, 16, 16, 16, 6, 6, 6, 6, 6, 6, 6]),\n",
       " array('i', [6, 6, 6, 6, 16, 16, 16, 16, 16, 16, 6, 6, 6, 6, 6, 6, 6]),\n",
       " array('i', [6, 6, 6, 6, 16, 16, 16, 16, 16, 16, 6, 6, 6, 6, 6, 6, 6]),\n",
       " array('i', [6, 6, 6, 16, 16, 16, 16, 16, 16, 16, 6, 6, 6, 6, 6, 6, 6]),\n",
       " array('i', [6, 6, 6, 6, 16, 16, 16, 16, 16, 6, 6, 6, 6, 6, 6, 6, 6]),\n",
       " array('i', [6, 6, 6, 6, 16, 16, 16, 16, 16, 16, 6, 6, 6, 6, 6, 6, 6]),\n",
       " array('i', [6, 6, 6, 6, 6, 16, 16, 16, 16, 6, 6, 6, 6, 6, 6, 6, 6]),\n",
       " array('i', [6, 6, 6, 16, 16, 16, 16, 6, 6, 16, 6, 6, 6, 6, 6, 6, 16]),\n",
       " array('i', [6, 6, 6, 6, 16, 16, 16, 16, 16, 6, 6, 6, 6, 6, 6, 6, 6]),\n",
       " array('i', [6, 6, 6, 6, 16, 16, 16, 16, 16, 16, 6, 6, 6, 6, 6, 6, 6]),\n",
       " array('i', [6, 6, 6, 6, 16, 16, 16, 16, 16, 16, 6, 6, 6, 6, 6, 6, 6]),\n",
       " array('i', [6, 16, 6, 6, 16, 6, 6, 6, 6, 16, 6, 6, 16, 6, 6, 16, 6]),\n",
       " array('i', [6, 6, 6, 6, 16, 16, 16, 16, 16, 6, 6, 6, 6, 6, 6, 6, 6]),\n",
       " array('i', [6, 6, 6, 6, 16, 16, 16, 16, 16, 6, 6, 6, 6, 6, 6, 6, 6]),\n",
       " array('i', [6, 6, 6, 6, 6, 16, 16, 16, 16, 16, 6, 6, 6, 16, 6, 6, 6]),\n",
       " array('i', [6, 6, 6, 6, 16, 16, 16, 16, 16, 16, 6, 6, 6, 6, 6, 6, 6]),\n",
       " array('i', [6, 6, 6, 6, 16, 16, 16, 16, 16, 6, 6, 6, 6, 6, 6, 6, 6]),\n",
       " array('i', [6, 6, 6, 16, 16, 16, 16, 16, 16, 6, 6, 6, 6, 6, 6, 6, 6]),\n",
       " array('i', [6, 6, 6, 6, 16, 16, 16, 16, 16, 16, 6, 6, 6, 6, 6, 6, 6]),\n",
       " array('i', [6, 6, 6, 6, 16, 16, 16, 16, 16, 16, 6, 6, 6, 6, 6, 6, 6]),\n",
       " array('i', [6, 16, 6, 6, 6, 16, 16, 6, 16, 16, 6, 6, 6, 6, 6, 6, 6]),\n",
       " array('i', [6, 6, 6, 16, 16, 16, 16, 16, 6, 6, 6, 6, 6, 6, 6, 6, 6]),\n",
       " array('i', [6, 6, 6, 6, 16, 16, 16, 16, 16, 16, 6, 6, 6, 6, 6, 6, 6]),\n",
       " array('i', [6, 6, 6, 6, 16, 16, 16, 16, 16, 6, 6, 6, 6, 6, 6, 6, 6]),\n",
       " array('i', [6, 6, 6, 6, 6, 16, 16, 16, 16, 16, 6, 6, 6, 6, 6, 6, 6]),\n",
       " array('i', [6, 6, 6, 16, 16, 16, 16, 16, 16, 16, 6, 6, 6, 6, 6, 6, 6]),\n",
       " array('i', [6, 6, 6, 6, 16, 16, 16, 16, 16, 16, 6, 6, 6, 6, 6, 6, 6]),\n",
       " array('i', [6, 6, 6, 6, 6, 16, 16, 16, 16, 6, 16, 6, 6, 6, 6, 6, 6]),\n",
       " array('i', [6, 6, 6, 6, 16, 16, 16, 16, 16, 16, 6, 6, 6, 6, 6, 6, 6]),\n",
       " array('i', [6, 6, 16, 6, 6, 16, 16, 16, 16, 6, 6, 6, 6, 6, 6, 6, 6]),\n",
       " array('i', [6, 6, 6, 16, 16, 16, 16, 16, 16, 16, 6, 6, 6, 6, 6, 6, 6]),\n",
       " array('i', [6, 6, 6, 6, 16, 16, 16, 16, 16, 16, 16, 6, 6, 6, 6, 6, 6]),\n",
       " array('i', [6, 6, 6, 6, 16, 16, 16, 16, 16, 16, 6, 6, 6, 6, 6, 6, 6]),\n",
       " array('i', [6, 6, 6, 6, 16, 16, 16, 16, 16, 16, 6, 6, 6, 6, 6, 6, 6]),\n",
       " array('i', [6, 6, 6, 6, 16, 16, 16, 16, 16, 16, 6, 6, 6, 6, 6, 6, 6]),\n",
       " array('i', [6, 6, 6, 6, 16, 16, 16, 16, 16, 6, 6, 6, 6, 6, 6, 6, 6]),\n",
       " array('i', [6, 6, 6, 16, 16, 16, 16, 16, 16, 16, 6, 6, 6, 6, 6, 6, 6]),\n",
       " array('i', [6, 6, 6, 6, 16, 16, 16, 16, 16, 16, 16, 6, 6, 6, 6, 6, 6]),\n",
       " array('i', [16, 6, 6, 6, 6, 6, 6, 16, 16, 16, 6, 16, 16, 6, 16, 6, 6]),\n",
       " array('i', [6, 6, 6, 16, 16, 16, 16, 16, 16, 16, 6, 6, 6, 6, 6, 6, 6]),\n",
       " array('i', [6, 6, 6, 16, 16, 6, 16, 16, 6, 16, 16, 6, 6, 6, 6, 6, 16]),\n",
       " array('i', [6, 6, 6, 6, 16, 16, 6, 16, 16, 16, 6, 16, 6, 6, 6, 6, 6]),\n",
       " array('i', [6, 6, 6, 6, 16, 16, 16, 6, 16, 16, 6, 6, 6, 6, 6, 6, 6]),\n",
       " array('i', [6, 6, 6, 6, 6, 16, 16, 16, 16, 16, 6, 6, 6, 6, 6, 6, 6]),\n",
       " array('i', [6, 6, 6, 16, 16, 16, 16, 16, 16, 16, 6, 6, 6, 6, 6, 6, 6]),\n",
       " array('i', [6, 6, 6, 6, 16, 6, 16, 6, 6, 6, 16, 6, 16, 6, 6, 16, 6]),\n",
       " array('i', [6, 6, 6, 6, 16, 16, 16, 16, 16, 6, 6, 6, 6, 6, 6, 6, 6]),\n",
       " array('i', [6, 6, 6, 6, 16, 16, 16, 16, 16, 16, 6, 6, 6, 6, 6, 6, 6]),\n",
       " array('i', [6, 6, 6, 16, 16, 16, 6, 16, 16, 16, 6, 6, 6, 6, 6, 6, 6]),\n",
       " array('i', [16, 6, 6, 6, 16, 16, 16, 6, 16, 16, 16, 6, 6, 6, 6, 6, 6]),\n",
       " array('i', [6, 6, 6, 16, 16, 16, 16, 16, 16, 16, 6, 6, 6, 6, 6, 6, 6]),\n",
       " array('i', [6, 6, 6, 6, 16, 16, 16, 16, 16, 6, 6, 6, 6, 6, 6, 6, 6]),\n",
       " array('i', [6, 6, 6, 6, 16, 16, 6, 16, 16, 6, 6, 6, 6, 6, 6, 6, 16]),\n",
       " array('i', [6, 6, 6, 6, 16, 16, 16, 16, 16, 16, 6, 6, 6, 6, 6, 6, 6]),\n",
       " array('i', [6, 6, 6, 16, 16, 16, 16, 16, 16, 6, 6, 6, 6, 6, 6, 6, 6]),\n",
       " array('i', [6, 6, 6, 6, 16, 16, 16, 16, 16, 16, 6, 6, 6, 6, 6, 6, 6]),\n",
       " array('i', [6, 6, 6, 6, 16, 16, 6, 16, 6, 16, 6, 6, 6, 6, 6, 16, 16]),\n",
       " array('i', [16, 6, 16, 6, 16, 16, 16, 6, 16, 6, 6, 6, 6, 6, 6, 6, 6]),\n",
       " array('i', [6, 6, 6, 6, 16, 16, 16, 16, 16, 6, 6, 6, 6, 6, 6, 6, 6]),\n",
       " array('i', [6, 6, 6, 6, 16, 16, 6, 16, 16, 16, 6, 6, 6, 6, 6, 16, 6]),\n",
       " array('i', [6, 6, 6, 6, 16, 16, 16, 16, 16, 16, 6, 6, 6, 6, 6, 6, 6]),\n",
       " array('i', [6, 6, 6, 6, 16, 16, 16, 16, 16, 16, 6, 6, 6, 6, 6, 6, 6]),\n",
       " array('i', [6, 6, 6, 6, 16, 16, 16, 16, 16, 16, 6, 6, 6, 6, 6, 6, 6]),\n",
       " array('i', [6, 6, 6, 6, 16, 16, 16, 16, 16, 16, 6, 6, 6, 6, 6, 6, 6]),\n",
       " array('i', [6, 6, 6, 6, 16, 16, 16, 16, 16, 16, 16, 6, 6, 6, 6, 6, 6]),\n",
       " array('i', [6, 6, 6, 16, 16, 16, 16, 16, 16, 16, 6, 6, 6, 6, 6, 6, 6]),\n",
       " array('i', [6, 6, 6, 6, 16, 6, 16, 16, 16, 6, 6, 6, 6, 6, 16, 6, 6]),\n",
       " array('i', [6, 6, 6, 6, 16, 16, 16, 16, 16, 16, 16, 6, 6, 6, 6, 6, 6]),\n",
       " array('i', [6, 6, 6, 6, 16, 16, 16, 16, 16, 16, 6, 6, 6, 6, 6, 6, 6]),\n",
       " array('i', [6, 16, 6, 6, 16, 6, 16, 16, 16, 16, 6, 6, 6, 6, 6, 6, 6]),\n",
       " array('i', [6, 6, 6, 6, 16, 16, 16, 16, 16, 6, 6, 6, 6, 6, 6, 6, 6]),\n",
       " array('i', [6, 6, 6, 6, 16, 16, 16, 16, 16, 6, 6, 6, 6, 6, 6, 6, 6]),\n",
       " array('i', [6, 6, 6, 6, 16, 16, 16, 16, 16, 16, 6, 6, 6, 6, 6, 6, 6]),\n",
       " array('i', [6, 6, 6, 6, 16, 16, 16, 16, 16, 16, 6, 6, 6, 6, 6, 6, 6]),\n",
       " array('i', [6, 6, 6, 6, 16, 16, 16, 16, 16, 16, 6, 6, 6, 6, 6, 6, 6]),\n",
       " array('i', [6, 6, 6, 16, 16, 16, 16, 16, 16, 16, 6, 6, 6, 6, 6, 6, 6]),\n",
       " array('i', [6, 6, 6, 6, 16, 16, 16, 16, 16, 16, 6, 6, 6, 6, 6, 6, 6]),\n",
       " array('i', [6, 6, 6, 6, 16, 16, 16, 16, 16, 6, 6, 6, 16, 6, 6, 6, 6]),\n",
       " array('i', [16, 6, 6, 16, 6, 16, 16, 6, 6, 6, 6, 16, 6, 6, 6, 16, 6]),\n",
       " array('i', [6, 6, 6, 6, 16, 16, 16, 16, 16, 16, 6, 6, 6, 6, 6, 6, 6])]"
      ]
     },
     "execution_count": 120,
     "metadata": {},
     "output_type": "execute_result"
    }
   ],
   "source": [
    "pop"
   ]
  },
  {
   "cell_type": "code",
   "execution_count": 121,
   "metadata": {
    "collapsed": false,
    "scrolled": false
   },
   "outputs": [
    {
     "data": {
      "text/plain": [
       "<matplotlib.axes._subplots.AxesSubplot at 0x7f0fd1cc8590>"
      ]
     },
     "execution_count": 121,
     "metadata": {},
     "output_type": "execute_result"
    },
    {
     "data": {
      "image/png": "[encoded data removed]",
      "text/plain": [
       "<matplotlib.figure.Figure at 0x7f0fd146bf10>"
      ]
     },
     "metadata": {},
     "output_type": "display_data"
    }
   ],
   "source": [
    "df.plot(y=['max','min','std'])"
   ]
  },
  {
   "cell_type": "code",
   "execution_count": 122,
   "metadata": {
    "collapsed": false,
    "scrolled": true
   },
   "outputs": [
    {
     "data": {
      "image/png": "[encoded data removed]",
      "text/plain": [
       "<matplotlib.figure.Figure at 0x7f0fd14cb550>"
      ]
     },
     "metadata": {},
     "output_type": "display_data"
    }
   ],
   "source": [
    "a=df.plot(y=['max','min'],title='Uniform crossover with 25% mutation rate').fill_between(xrange(0,41),df['min'],df['max'],color='red',alpha='0.5')\n"
   ]
  }
 ],
 "metadata": {
  "kernelspec": {
   "display_name": "Python 2",
   "language": "python",
   "name": "python2"
  },
  "language_info": {
   "codemirror_mode": {
    "name": "ipython",
    "version": 2
   },
   "file_extension": ".py",
   "mimetype": "text/x-python",
   "name": "python",
   "nbconvert_exporter": "python",
   "pygments_lexer": "ipython2",
   "version": "2.7.11"
  }
 },
 "nbformat": 4,
 "nbformat_minor": 0
}

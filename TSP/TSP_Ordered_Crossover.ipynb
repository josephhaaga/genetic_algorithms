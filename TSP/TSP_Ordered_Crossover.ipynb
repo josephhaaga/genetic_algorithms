{
 "cells": [
  {
   "cell_type": "code",
   "execution_count": 1,
   "metadata": {
    "collapsed": false
   },
   "outputs": [],
   "source": [
    "import deap as dp\n",
    "import array\n",
    "import random\n",
    "import json\n",
    "import pandas as pd\n",
    "import numpy as np\n",
    "%matplotlib inline\n",
    "from deap import algorithms\n",
    "from deap import base\n",
    "from deap import creator\n",
    "from deap import tools"
   ]
  },
  {
   "cell_type": "code",
   "execution_count": 2,
   "metadata": {
    "collapsed": false,
    "scrolled": false
   },
   "outputs": [],
   "source": [
    "# gr*.json contains the distance map in list of list style in JSON format\n",
    "# Optimal solutions are : gr17 = 2085, gr24 = 1272, gr120 = 6942\n",
    "with open(\"gr17.json\", \"r\") as tsp_data:\n",
    "    tsp = json.load(tsp_data)\n",
    "\n",
    "distance_map = tsp[\"DistanceMatrix\"]\n",
    "IND_SIZE = tsp[\"TourSize\"]\n",
    "\n",
    "creator.create(\"FitnessMin\", base.Fitness, weights=(-1.0,))\n",
    "creator.create(\"Individual\", array.array, typecode='i', fitness=creator.FitnessMin)\n"
   ]
  },
  {
   "cell_type": "code",
   "execution_count": 3,
   "metadata": {
    "collapsed": false
   },
   "outputs": [],
   "source": [
    "toolbox = base.Toolbox()\n",
    "\n",
    "# Attribute generator\n",
    "toolbox.register(\"indices\", random.sample, range(IND_SIZE), IND_SIZE)\n",
    "\n",
    "# Structure initializers\n",
    "toolbox.register(\"individual\", tools.initIterate, creator.Individual, toolbox.indices)\n",
    "toolbox.register(\"population\", tools.initRepeat, list, toolbox.individual)\n",
    "\n",
    "def evalTSP(individual):\n",
    "    distance = distance_map[individual[-1]][individual[0]]\n",
    "    for gene1, gene2 in zip(individual[0:-1], individual[1:]):\n",
    "        distance += distance_map[gene1][gene2]\n",
    "    return distance,\n",
    "\n",
    "toolbox.register(\"mate\", tools.cxOrdered)\n",
    "toolbox.register(\"mutate\", tools.mutShuffleIndexes, indpb=0.05)\n",
    "toolbox.register(\"select\", tools.selTournament, tournsize=3)\n",
    "toolbox.register(\"evaluate\", evalTSP)"
   ]
  },
  {
   "cell_type": "code",
   "execution_count": 4,
   "metadata": {
    "collapsed": false,
    "scrolled": true
   },
   "outputs": [
    {
     "name": "stdout",
     "output_type": "stream",
     "text": [
      "gen\tnevals\tavg   \tstd    \tmin \tmax \n",
      "0  \t300   \t4700.7\t424.386\t3606\t5842\n",
      "1  \t217   \t4401.76\t382.053\t3185\t5549\n",
      "2  \t225   \t4254.5 \t377.329\t2764\t5356\n",
      "3  \t223   \t4087.82\t399.771\t2764\t5493\n",
      "4  \t223   \t3962.63\t392.056\t2747\t5331\n",
      "5  \t230   \t3825.12\t390.937\t2709\t5358\n",
      "6  \t247   \t3711.46\t364.994\t2783\t4915\n",
      "7  \t231   \t3590.76\t361.619\t2688\t4914\n",
      "8  \t232   \t3552.62\t409.297\t2688\t4794\n",
      "9  \t214   \t3400.03\t392.83 \t2695\t4872\n",
      "10 \t228   \t3293.98\t344.633\t2679\t4504\n",
      "11 \t235   \t3255.95\t349.028\t2523\t4423\n",
      "12 \t213   \t3176.5 \t349.133\t2502\t4589\n",
      "13 \t222   \t3134.04\t400.008\t2346\t5371\n",
      "14 \t228   \t3034.87\t348.276\t2213\t4165\n",
      "15 \t229   \t3015.46\t379.645\t2346\t5433\n",
      "16 \t226   \t2977.78\t419.234\t2205\t4860\n",
      "17 \t236   \t2911.91\t397.294\t2205\t4559\n",
      "18 \t221   \t2857.84\t378.716\t2220\t4294\n",
      "19 \t215   \t2870.42\t448.342\t2217\t4880\n",
      "20 \t205   \t2768.3 \t385.661\t2220\t4166\n",
      "21 \t209   \t2734.48\t378.678\t2206\t4481\n",
      "22 \t216   \t2698.71\t418.865\t2202\t4902\n",
      "23 \t244   \t2729.58\t436.222\t2155\t4728\n",
      "24 \t219   \t2660.05\t356.617\t2155\t4136\n",
      "25 \t231   \t2646.15\t422.454\t2097\t4642\n",
      "26 \t217   \t2644.34\t419.848\t2097\t4594\n",
      "27 \t209   \t2562.59\t361.097\t2097\t4053\n",
      "28 \t228   \t2549.02\t409.71 \t2097\t4893\n",
      "29 \t236   \t2559.31\t366.082\t2097\t3706\n",
      "30 \t238   \t2594.63\t445.577\t2097\t4868\n",
      "31 \t215   \t2547.69\t392.385\t2096\t3734\n",
      "32 \t224   \t2514.07\t424.004\t2096\t4412\n",
      "33 \t237   \t2530.04\t462.385\t2095\t4588\n",
      "34 \t213   \t2444.66\t403.473\t2095\t4350\n",
      "35 \t241   \t2413.22\t389.52 \t2095\t4147\n",
      "36 \t219   \t2404.95\t414.078\t2095\t4476\n",
      "37 \t239   \t2367.66\t369.556\t2095\t4036\n",
      "38 \t226   \t2367.61\t450.844\t2095\t4751\n",
      "39 \t226   \t2328.73\t401.585\t2095\t4634\n",
      "40 \t220   \t2310.52\t407.288\t2095\t4504\n"
     ]
    }
   ],
   "source": [
    "# main() exposed\n",
    "\n",
    "random.seed(169)\n",
    "\n",
    "pop = toolbox.population(n=300)\n",
    "\n",
    "hof = tools.HallOfFame(1)\n",
    "stats = tools.Statistics(lambda ind: ind.fitness.values)\n",
    "stats.register(\"avg\", np.mean)\n",
    "stats.register(\"std\", np.std)\n",
    "stats.register(\"min\", np.min)\n",
    "stats.register(\"max\", np.max)\n",
    "\n",
    "result_object=algorithms.eaSimple(pop, toolbox, 0.7, 0.2, 40, stats=stats, \n",
    "                    halloffame=hof)"
   ]
  },
  {
   "cell_type": "code",
   "execution_count": null,
   "metadata": {
    "collapsed": true
   },
   "outputs": [],
   "source": []
  },
  {
   "cell_type": "code",
   "execution_count": 5,
   "metadata": {
    "collapsed": false
   },
   "outputs": [
    {
     "data": {
      "text/plain": [
       "382.05298147711864"
      ]
     },
     "execution_count": 5,
     "metadata": {},
     "output_type": "execute_result"
    }
   ],
   "source": [
    "result_object[1][1]['std']"
   ]
  },
  {
   "cell_type": "code",
   "execution_count": 6,
   "metadata": {
    "collapsed": false
   },
   "outputs": [
    {
     "data": {
      "text/plain": [
       "dict"
      ]
     },
     "execution_count": 6,
     "metadata": {},
     "output_type": "execute_result"
    }
   ],
   "source": [
    "type(result_object[1][1])"
   ]
  },
  {
   "cell_type": "code",
   "execution_count": 7,
   "metadata": {
    "collapsed": false
   },
   "outputs": [
    {
     "data": {
      "text/plain": [
       "<matplotlib.axes._subplots.AxesSubplot at 0x7f822ead9e90>"
      ]
     },
     "execution_count": 7,
     "metadata": {},
     "output_type": "execute_result"
    },
    {
     "data": {
      "image/png": "[encoded data removed]",
      "text/plain": [
       "<matplotlib.figure.Figure at 0x7f822eb32cd0>"
      ]
     },
     "metadata": {},
     "output_type": "display_data"
    }
   ],
   "source": [
    "pd.DataFrame(data=result_object[1]).plot()"
   ]
  },
  {
   "cell_type": "code",
   "execution_count": 8,
   "metadata": {
    "collapsed": false
   },
   "outputs": [
    {
     "data": {
      "text/plain": [
       "<bound method DataFrame.to_csv of             avg  gen     max     min  nevals         std\n",
       "0   4700.700000    0  5842.0  3606.0     300  424.385536\n",
       "1   4401.763333    1  5549.0  3185.0     217  382.052981\n",
       "2   4254.500000    2  5356.0  2764.0     225  377.329092\n",
       "3   4087.823333    3  5493.0  2764.0     223  399.771442\n",
       "4   3962.630000    4  5331.0  2747.0     223  392.056203\n",
       "5   3825.120000    5  5358.0  2709.0     230  390.937342\n",
       "6   3711.456667    6  4915.0  2783.0     247  364.994468\n",
       "7   3590.763333    7  4914.0  2688.0     231  361.619267\n",
       "8   3552.616667    8  4794.0  2688.0     232  409.296775\n",
       "9   3400.030000    9  4872.0  2695.0     214  392.829746\n",
       "10  3293.980000   10  4504.0  2679.0     228  344.633312\n",
       "11  3255.946667   11  4423.0  2523.0     235  349.028142\n",
       "12  3176.503333   12  4589.0  2502.0     213  349.132759\n",
       "13  3134.036667   13  5371.0  2346.0     222  400.007544\n",
       "14  3034.870000   14  4165.0  2213.0     228  348.276231\n",
       "15  3015.456667   15  5433.0  2346.0     229  379.645433\n",
       "16  2977.776667   16  4860.0  2205.0     226  419.233881\n",
       "17  2911.913333   17  4559.0  2205.0     236  397.294474\n",
       "18  2857.840000   18  4294.0  2220.0     221  378.716395\n",
       "19  2870.423333   19  4880.0  2217.0     215  448.342322\n",
       "20  2768.296667   20  4166.0  2220.0     205  385.660890\n",
       "21  2734.476667   21  4481.0  2206.0     209  378.678478\n",
       "22  2698.706667   22  4902.0  2202.0     216  418.865429\n",
       "23  2729.576667   23  4728.0  2155.0     244  436.221928\n",
       "24  2660.050000   24  4136.0  2155.0     219  356.617200\n",
       "25  2646.153333   25  4642.0  2097.0     231  422.453520\n",
       "26  2644.336667   26  4594.0  2097.0     217  419.847857\n",
       "27  2562.593333   27  4053.0  2097.0     209  361.096683\n",
       "28  2549.023333   28  4893.0  2097.0     228  409.710462\n",
       "29  2559.313333   29  3706.0  2097.0     236  366.081833\n",
       "30  2594.626667   30  4868.0  2097.0     238  445.576608\n",
       "31  2547.693333   31  3734.0  2096.0     215  392.384946\n",
       "32  2514.070000   32  4412.0  2096.0     224  424.003583\n",
       "33  2530.043333   33  4588.0  2095.0     237  462.385346\n",
       "34  2444.660000   34  4350.0  2095.0     213  403.473193\n",
       "35  2413.220000   35  4147.0  2095.0     241  389.519651\n",
       "36  2404.946667   36  4476.0  2095.0     219  414.078355\n",
       "37  2367.660000   37  4036.0  2095.0     239  369.555956\n",
       "38  2367.613333   38  4751.0  2095.0     226  450.844338\n",
       "39  2328.733333   39  4634.0  2095.0     226  401.585129\n",
       "40  2310.523333   40  4504.0  2095.0     220  407.287780>"
      ]
     },
     "execution_count": 8,
     "metadata": {},
     "output_type": "execute_result"
    }
   ],
   "source": [
    "pd.DataFrame(data=result_object[1]).to_csv"
   ]
  },
  {
   "cell_type": "code",
   "execution_count": 9,
   "metadata": {
    "collapsed": false
   },
   "outputs": [
    {
     "data": {
      "text/plain": [
       "{'avg': 4087.8233333333333,\n",
       " 'gen': 3,\n",
       " 'max': 5493.0,\n",
       " 'min': 2764.0,\n",
       " 'nevals': 223,\n",
       " 'std': 399.7714415207214}"
      ]
     },
     "execution_count": 9,
     "metadata": {},
     "output_type": "execute_result"
    }
   ],
   "source": [
    "result_object[1][3]"
   ]
  },
  {
   "cell_type": "code",
   "execution_count": 10,
   "metadata": {
    "collapsed": false
   },
   "outputs": [],
   "source": [
    "df = pd.DataFrame().from_dict(result_object[1])"
   ]
  },
  {
   "cell_type": "code",
   "execution_count": 11,
   "metadata": {
    "collapsed": false
   },
   "outputs": [
    {
     "data": {
      "text/plain": [
       "<matplotlib.axes._subplots.AxesSubplot at 0x7f822eb32fd0>"
      ]
     },
     "execution_count": 11,
     "metadata": {},
     "output_type": "execute_result"
    },
    {
     "data": {
      "image/png": "[encoded data removed]",
      "text/plain": [
       "<matplotlib.figure.Figure at 0x7f822c4edf10>"
      ]
     },
     "metadata": {},
     "output_type": "display_data"
    }
   ],
   "source": [
    "df.plot(y='std')"
   ]
  },
  {
   "cell_type": "code",
   "execution_count": 12,
   "metadata": {
    "collapsed": false
   },
   "outputs": [
    {
     "data": {
      "text/plain": [
       "<matplotlib.axes._subplots.AxesSubplot at 0x7f822beb6990>"
      ]
     },
     "execution_count": 12,
     "metadata": {},
     "output_type": "execute_result"
    },
    {
     "data": {
      "image/png": "[encoded data removed]",
      "text/plain": [
       "<matplotlib.figure.Figure at 0x7f822eab89d0>"
      ]
     },
     "metadata": {},
     "output_type": "display_data"
    }
   ],
   "source": [
    "df.plot(y='min')"
   ]
  },
  {
   "cell_type": "code",
   "execution_count": 13,
   "metadata": {
    "collapsed": false
   },
   "outputs": [
    {
     "data": {
      "text/plain": [
       "[array('i', [9, 1, 4, 8, 11, 15, 0, 3, 12, 6, 16, 7, 5, 13, 14, 2, 10]),\n",
       " array('i', [9, 1, 4, 8, 11, 15, 0, 3, 12, 6, 16, 7, 5, 13, 14, 2, 10]),\n",
       " array('i', [10, 9, 1, 4, 8, 11, 15, 0, 3, 12, 6, 7, 16, 5, 13, 14, 2]),\n",
       " array('i', [10, 9, 1, 4, 8, 11, 15, 0, 3, 12, 6, 16, 7, 5, 13, 14, 2]),\n",
       " array('i', [9, 1, 4, 8, 11, 15, 0, 3, 12, 6, 16, 7, 5, 13, 14, 2, 10]),\n",
       " array('i', [13, 14, 2, 10, 9, 1, 4, 8, 11, 15, 0, 3, 12, 6, 16, 7, 5]),\n",
       " array('i', [10, 9, 1, 4, 8, 11, 15, 0, 3, 12, 6, 16, 7, 5, 13, 14, 2]),\n",
       " array('i', [13, 14, 2, 10, 9, 1, 4, 8, 11, 15, 0, 3, 12, 6, 16, 7, 5]),\n",
       " array('i', [9, 1, 4, 8, 11, 15, 0, 3, 12, 5, 7, 6, 16, 13, 14, 2, 10]),\n",
       " array('i', [9, 1, 4, 8, 2, 11, 15, 0, 3, 12, 6, 16, 7, 5, 13, 14, 10]),\n",
       " array('i', [4, 1, 11, 8, 9, 15, 0, 3, 12, 6, 16, 7, 2, 13, 14, 5, 10]),\n",
       " array('i', [9, 1, 4, 8, 11, 15, 0, 3, 12, 6, 16, 7, 5, 13, 14, 2, 10]),\n",
       " array('i', [13, 14, 2, 10, 9, 1, 4, 8, 11, 15, 0, 3, 12, 6, 16, 7, 5]),\n",
       " array('i', [10, 9, 1, 4, 8, 11, 15, 0, 3, 12, 6, 16, 7, 5, 13, 14, 2]),\n",
       " array('i', [9, 1, 4, 8, 11, 15, 0, 3, 12, 6, 16, 7, 5, 13, 14, 2, 10]),\n",
       " array('i', [9, 1, 4, 8, 11, 15, 0, 3, 12, 6, 16, 7, 5, 13, 14, 2, 10]),\n",
       " array('i', [10, 9, 1, 4, 8, 11, 15, 0, 3, 12, 6, 16, 7, 5, 13, 14, 2]),\n",
       " array('i', [13, 14, 2, 10, 9, 1, 4, 8, 11, 15, 0, 3, 12, 6, 16, 7, 5]),\n",
       " array('i', [9, 1, 4, 8, 11, 15, 0, 3, 12, 6, 16, 7, 5, 13, 14, 2, 10]),\n",
       " array('i', [9, 1, 4, 8, 11, 15, 0, 3, 12, 6, 16, 7, 5, 13, 14, 2, 10]),\n",
       " array('i', [13, 14, 2, 10, 9, 1, 4, 8, 11, 15, 0, 3, 12, 6, 16, 7, 5]),\n",
       " array('i', [9, 1, 4, 8, 11, 15, 0, 3, 12, 6, 16, 7, 5, 13, 14, 2, 10]),\n",
       " array('i', [9, 1, 4, 8, 11, 15, 0, 3, 12, 6, 16, 7, 5, 13, 14, 2, 10]),\n",
       " array('i', [9, 1, 4, 8, 11, 15, 0, 3, 12, 6, 16, 7, 5, 13, 14, 2, 10]),\n",
       " array('i', [0, 1, 4, 8, 11, 15, 9, 3, 12, 6, 16, 7, 5, 13, 14, 2, 10]),\n",
       " array('i', [9, 1, 4, 8, 11, 15, 0, 3, 12, 6, 16, 7, 5, 13, 14, 2, 10]),\n",
       " array('i', [10, 9, 1, 4, 8, 11, 15, 0, 3, 12, 6, 16, 7, 5, 13, 14, 2]),\n",
       " array('i', [10, 9, 1, 4, 8, 11, 15, 0, 3, 12, 6, 16, 7, 5, 13, 14, 2]),\n",
       " array('i', [9, 1, 4, 8, 11, 15, 0, 3, 12, 6, 16, 7, 5, 13, 14, 2, 10]),\n",
       " array('i', [9, 1, 4, 8, 11, 15, 0, 3, 12, 6, 16, 7, 5, 13, 14, 2, 10]),\n",
       " array('i', [9, 1, 4, 8, 11, 15, 0, 3, 12, 6, 16, 7, 5, 13, 14, 2, 10]),\n",
       " array('i', [13, 14, 2, 10, 9, 1, 4, 8, 11, 15, 0, 3, 12, 6, 16, 7, 5]),\n",
       " array('i', [9, 1, 4, 8, 11, 15, 0, 3, 12, 6, 16, 7, 5, 13, 14, 2, 10]),\n",
       " array('i', [9, 1, 4, 8, 11, 12, 6, 16, 7, 15, 0, 3, 5, 13, 14, 2, 10]),\n",
       " array('i', [9, 1, 4, 8, 11, 15, 0, 3, 12, 5, 13, 14, 2, 6, 16, 7, 10]),\n",
       " array('i', [10, 9, 1, 4, 8, 11, 15, 0, 3, 12, 6, 16, 7, 13, 14, 2, 5]),\n",
       " array('i', [9, 1, 4, 8, 11, 15, 0, 3, 12, 6, 16, 7, 5, 13, 14, 2, 10]),\n",
       " array('i', [9, 1, 12, 6, 16, 7, 4, 8, 11, 15, 0, 3, 5, 13, 14, 2, 10]),\n",
       " array('i', [9, 1, 4, 8, 11, 15, 0, 3, 12, 6, 16, 7, 5, 13, 14, 2, 10]),\n",
       " array('i', [16, 7, 2, 10, 9, 12, 4, 8, 11, 15, 1, 3, 5, 13, 14, 0, 6]),\n",
       " array('i', [9, 1, 4, 8, 11, 15, 0, 3, 12, 6, 16, 7, 5, 13, 14, 2, 10]),\n",
       " array('i', [9, 1, 4, 8, 11, 15, 0, 10, 12, 3, 16, 7, 5, 13, 14, 2, 6]),\n",
       " array('i', [10, 9, 1, 4, 8, 11, 15, 0, 3, 12, 6, 16, 7, 5, 13, 14, 2]),\n",
       " array('i', [10, 9, 1, 4, 8, 11, 15, 0, 3, 16, 12, 6, 7, 5, 13, 14, 2]),\n",
       " array('i', [13, 14, 2, 10, 9, 1, 4, 8, 11, 15, 0, 3, 12, 6, 16, 7, 5]),\n",
       " array('i', [9, 1, 4, 8, 11, 15, 0, 3, 12, 7, 6, 16, 5, 13, 14, 2, 10]),\n",
       " array('i', [9, 1, 4, 8, 11, 15, 0, 3, 12, 6, 7, 16, 5, 13, 14, 2, 10]),\n",
       " array('i', [9, 1, 4, 8, 11, 15, 0, 3, 12, 6, 16, 7, 5, 13, 14, 2, 10]),\n",
       " array('i', [3, 12, 6, 16, 7, 1, 4, 8, 11, 15, 5, 13, 14, 2, 10, 9, 0]),\n",
       " array('i', [10, 9, 1, 4, 8, 11, 15, 0, 3, 12, 6, 16, 7, 5, 13, 14, 2]),\n",
       " array('i', [9, 1, 4, 8, 11, 15, 0, 3, 12, 6, 16, 7, 5, 13, 14, 2, 10]),\n",
       " array('i', [9, 1, 3, 8, 6, 15, 0, 4, 12, 11, 16, 7, 5, 13, 14, 2, 10]),\n",
       " array('i', [9, 1, 4, 8, 11, 15, 0, 3, 12, 6, 16, 7, 5, 13, 14, 2, 10]),\n",
       " array('i', [9, 1, 4, 8, 11, 15, 0, 3, 12, 6, 16, 7, 5, 13, 14, 2, 10]),\n",
       " array('i', [13, 14, 2, 10, 9, 1, 4, 16, 11, 6, 12, 15, 0, 3, 8, 7, 5]),\n",
       " array('i', [9, 1, 4, 8, 11, 15, 0, 3, 12, 6, 16, 7, 5, 13, 14, 2, 10]),\n",
       " array('i', [10, 9, 1, 4, 8, 11, 15, 0, 3, 12, 6, 16, 7, 5, 13, 14, 2]),\n",
       " array('i', [10, 9, 1, 4, 8, 11, 15, 0, 3, 12, 6, 7, 16, 5, 13, 14, 2]),\n",
       " array('i', [10, 9, 1, 4, 8, 11, 15, 0, 3, 12, 6, 7, 5, 13, 14, 2, 16]),\n",
       " array('i', [9, 1, 4, 8, 11, 15, 0, 3, 12, 6, 16, 7, 5, 13, 14, 2, 10]),\n",
       " array('i', [7, 1, 4, 8, 11, 15, 0, 3, 12, 6, 16, 9, 5, 13, 14, 2, 10]),\n",
       " array('i', [6, 1, 2, 0, 9, 14, 4, 8, 11, 15, 16, 7, 5, 13, 10, 3, 12]),\n",
       " array('i', [9, 1, 4, 8, 11, 15, 0, 3, 12, 6, 16, 7, 5, 13, 14, 2, 10]),\n",
       " array('i', [13, 14, 2, 10, 9, 1, 4, 8, 11, 15, 0, 3, 12, 6, 16, 7, 5]),\n",
       " array('i', [9, 7, 16, 5, 13, 1, 4, 8, 11, 15, 0, 3, 12, 6, 14, 2, 10]),\n",
       " array('i', [9, 1, 4, 8, 11, 15, 0, 3, 12, 7, 6, 16, 5, 13, 14, 2, 10]),\n",
       " array('i', [13, 14, 2, 10, 9, 1, 4, 8, 11, 15, 0, 3, 12, 6, 16, 7, 5]),\n",
       " array('i', [9, 1, 4, 8, 11, 15, 0, 3, 12, 6, 16, 7, 5, 13, 14, 2, 10]),\n",
       " array('i', [9, 1, 13, 14, 2, 10, 4, 8, 11, 15, 0, 3, 12, 6, 16, 7, 5]),\n",
       " array('i', [9, 1, 4, 8, 11, 15, 0, 3, 12, 6, 16, 7, 5, 13, 14, 2, 10]),\n",
       " array('i', [13, 14, 2, 15, 9, 7, 4, 8, 11, 10, 0, 3, 12, 6, 16, 1, 5]),\n",
       " array('i', [13, 14, 2, 10, 9, 1, 4, 8, 11, 15, 0, 3, 12, 6, 16, 7, 5]),\n",
       " array('i', [10, 9, 1, 14, 4, 8, 11, 15, 0, 3, 12, 5, 16, 7, 6, 13, 2]),\n",
       " array('i', [7, 9, 1, 4, 8, 11, 15, 0, 3, 12, 6, 16, 10, 5, 13, 14, 2]),\n",
       " array('i', [9, 5, 1, 4, 8, 11, 15, 0, 3, 12, 6, 16, 7, 13, 14, 2, 10]),\n",
       " array('i', [9, 1, 4, 8, 11, 15, 0, 3, 12, 6, 16, 7, 5, 13, 14, 2, 10]),\n",
       " array('i', [9, 0, 4, 8, 11, 15, 1, 7, 12, 6, 16, 3, 5, 13, 14, 2, 10]),\n",
       " array('i', [1, 9, 4, 8, 11, 15, 0, 13, 12, 10, 16, 7, 5, 3, 14, 2, 6]),\n",
       " array('i', [3, 14, 2, 10, 9, 1, 4, 8, 11, 12, 6, 16, 7, 5, 13, 15, 0]),\n",
       " array('i', [10, 9, 1, 4, 8, 11, 15, 0, 3, 12, 6, 16, 7, 5, 13, 14, 2]),\n",
       " array('i', [1, 7, 4, 8, 11, 15, 0, 3, 12, 6, 16, 5, 13, 14, 2, 10, 9]),\n",
       " array('i', [1, 16, 4, 8, 11, 15, 0, 12, 3, 7, 6, 5, 13, 14, 2, 10, 9]),\n",
       " array('i', [12, 14, 2, 10, 9, 1, 4, 8, 11, 6, 16, 7, 5, 13, 15, 0, 3]),\n",
       " array('i', [9, 1, 4, 8, 11, 15, 0, 3, 12, 6, 16, 7, 5, 13, 14, 2, 10]),\n",
       " array('i', [10, 9, 1, 4, 8, 11, 15, 0, 3, 12, 6, 7, 16, 5, 13, 14, 2]),\n",
       " array('i', [10, 9, 1, 4, 8, 11, 15, 0, 3, 12, 6, 16, 7, 5, 13, 14, 2]),\n",
       " array('i', [9, 1, 4, 8, 11, 15, 0, 14, 12, 6, 16, 7, 5, 13, 3, 2, 10]),\n",
       " array('i', [9, 1, 4, 8, 11, 15, 0, 3, 12, 6, 16, 7, 5, 13, 14, 2, 10]),\n",
       " array('i', [7, 5, 13, 10, 9, 1, 4, 8, 11, 15, 0, 3, 12, 6, 16, 14, 2]),\n",
       " array('i', [10, 9, 1, 4, 8, 11, 15, 0, 3, 12, 6, 16, 7, 5, 13, 14, 2]),\n",
       " array('i', [9, 1, 4, 8, 11, 15, 0, 3, 12, 6, 16, 7, 5, 13, 14, 2, 10]),\n",
       " array('i', [9, 1, 4, 8, 11, 15, 0, 3, 12, 6, 16, 7, 5, 13, 14, 2, 10]),\n",
       " array('i', [9, 1, 4, 8, 11, 15, 0, 3, 12, 6, 16, 7, 5, 13, 14, 2, 10]),\n",
       " array('i', [9, 1, 4, 8, 11, 15, 0, 3, 12, 6, 16, 5, 7, 13, 14, 2, 10]),\n",
       " array('i', [9, 1, 4, 8, 11, 15, 0, 3, 12, 6, 16, 7, 5, 13, 14, 2, 10]),\n",
       " array('i', [13, 14, 2, 10, 9, 1, 4, 8, 11, 15, 0, 3, 12, 6, 16, 7, 5]),\n",
       " array('i', [9, 1, 4, 8, 11, 15, 0, 3, 12, 6, 16, 7, 5, 13, 14, 2, 10]),\n",
       " array('i', [10, 9, 4, 3, 8, 11, 15, 0, 12, 6, 16, 7, 5, 13, 14, 2, 1]),\n",
       " array('i', [13, 14, 2, 10, 9, 1, 4, 8, 11, 15, 0, 3, 12, 6, 16, 7, 5]),\n",
       " array('i', [13, 14, 2, 10, 9, 1, 4, 8, 11, 15, 0, 3, 12, 6, 16, 7, 5]),\n",
       " array('i', [9, 1, 4, 8, 11, 15, 0, 3, 12, 6, 16, 7, 5, 13, 14, 2, 10]),\n",
       " array('i', [13, 14, 2, 10, 9, 1, 4, 8, 11, 15, 0, 3, 12, 6, 16, 7, 5]),\n",
       " array('i', [16, 7, 9, 1, 4, 8, 11, 15, 0, 3, 12, 6, 5, 13, 14, 2, 10]),\n",
       " array('i', [9, 1, 4, 8, 11, 15, 0, 3, 12, 6, 16, 7, 5, 13, 14, 2, 10]),\n",
       " array('i', [10, 9, 1, 4, 8, 11, 15, 0, 3, 12, 6, 16, 7, 5, 13, 14, 2]),\n",
       " array('i', [10, 9, 1, 4, 8, 11, 15, 0, 3, 12, 6, 16, 5, 7, 13, 14, 2]),\n",
       " array('i', [13, 14, 2, 10, 9, 1, 4, 8, 11, 15, 0, 3, 12, 6, 16, 7, 5]),\n",
       " array('i', [13, 14, 2, 10, 9, 1, 4, 8, 11, 15, 0, 3, 12, 6, 16, 7, 5]),\n",
       " array('i', [10, 9, 1, 4, 8, 2, 11, 15, 0, 3, 12, 6, 16, 7, 5, 13, 14]),\n",
       " array('i', [10, 9, 1, 4, 8, 11, 15, 0, 3, 12, 6, 16, 7, 5, 13, 14, 2]),\n",
       " array('i', [14, 13, 2, 10, 5, 1, 4, 8, 11, 15, 0, 3, 12, 6, 16, 7, 9]),\n",
       " array('i', [9, 0, 4, 8, 11, 15, 1, 3, 12, 6, 16, 7, 5, 13, 14, 2, 10]),\n",
       " array('i', [13, 14, 2, 10, 9, 12, 4, 8, 11, 15, 0, 3, 1, 6, 16, 7, 5]),\n",
       " array('i', [13, 14, 2, 10, 9, 1, 4, 8, 11, 15, 0, 3, 12, 6, 16, 7, 5]),\n",
       " array('i', [9, 1, 4, 8, 11, 15, 0, 3, 12, 6, 16, 7, 5, 13, 14, 2, 10]),\n",
       " array('i', [9, 1, 4, 8, 2, 11, 15, 0, 3, 12, 6, 16, 7, 5, 13, 14, 10]),\n",
       " array('i', [10, 9, 1, 4, 8, 11, 15, 0, 3, 12, 6, 16, 7, 5, 13, 14, 2]),\n",
       " array('i', [10, 9, 1, 4, 8, 11, 15, 0, 3, 12, 6, 16, 7, 5, 13, 14, 2]),\n",
       " array('i', [13, 14, 2, 10, 9, 1, 4, 8, 11, 15, 0, 3, 12, 6, 16, 5, 7]),\n",
       " array('i', [10, 9, 1, 4, 8, 11, 15, 0, 3, 12, 6, 16, 7, 5, 13, 14, 2]),\n",
       " array('i', [10, 9, 1, 4, 8, 11, 15, 0, 3, 12, 6, 16, 7, 5, 13, 14, 2]),\n",
       " array('i', [10, 9, 1, 4, 8, 11, 15, 0, 3, 7, 5, 13, 12, 6, 16, 14, 2]),\n",
       " array('i', [9, 1, 4, 10, 8, 11, 15, 0, 3, 12, 6, 16, 7, 5, 13, 14, 2]),\n",
       " array('i', [13, 14, 2, 8, 11, 15, 0, 3, 12, 6, 16, 7, 5, 10, 9, 1, 4]),\n",
       " array('i', [10, 9, 1, 4, 8, 11, 15, 0, 3, 12, 6, 16, 7, 5, 13, 14, 2]),\n",
       " array('i', [10, 9, 1, 4, 8, 11, 15, 0, 3, 12, 6, 16, 7, 5, 13, 14, 2]),\n",
       " array('i', [15, 0, 3, 10, 9, 1, 4, 8, 12, 6, 16, 7, 5, 13, 14, 2, 11]),\n",
       " array('i', [9, 1, 4, 8, 11, 15, 0, 3, 5, 13, 14, 2, 12, 6, 16, 7, 10]),\n",
       " array('i', [9, 1, 4, 8, 11, 15, 0, 3, 12, 7, 2, 6, 16, 5, 13, 14, 10]),\n",
       " array('i', [9, 1, 4, 8, 11, 15, 0, 3, 12, 6, 16, 7, 5, 13, 14, 2, 10]),\n",
       " array('i', [9, 1, 4, 8, 12, 11, 15, 0, 3, 6, 16, 7, 5, 13, 14, 2, 10]),\n",
       " array('i', [9, 1, 16, 8, 11, 15, 0, 3, 12, 6, 4, 7, 5, 13, 14, 2, 10]),\n",
       " array('i', [2, 9, 1, 4, 8, 11, 15, 0, 3, 12, 6, 16, 7, 5, 13, 14, 10]),\n",
       " array('i', [9, 1, 4, 8, 11, 15, 0, 3, 12, 6, 16, 7, 5, 13, 14, 2, 10]),\n",
       " array('i', [10, 9, 1, 4, 8, 11, 15, 0, 3, 12, 6, 16, 7, 5, 13, 14, 2]),\n",
       " array('i', [10, 9, 1, 4, 8, 11, 15, 0, 3, 12, 6, 16, 7, 5, 13, 14, 2]),\n",
       " array('i', [9, 1, 4, 8, 11, 15, 0, 3, 12, 6, 16, 7, 5, 13, 14, 2, 10]),\n",
       " array('i', [9, 1, 4, 8, 11, 15, 0, 3, 5, 12, 6, 16, 7, 13, 14, 2, 10]),\n",
       " array('i', [10, 9, 1, 4, 8, 11, 15, 0, 3, 12, 6, 16, 7, 5, 13, 14, 2]),\n",
       " array('i', [13, 14, 2, 10, 9, 1, 4, 8, 11, 15, 0, 3, 12, 6, 16, 7, 5]),\n",
       " array('i', [2, 10, 9, 1, 4, 8, 11, 15, 0, 3, 12, 6, 16, 7, 5, 13, 14]),\n",
       " array('i', [10, 9, 1, 4, 8, 11, 15, 0, 3, 12, 6, 16, 7, 5, 13, 14, 2]),\n",
       " array('i', [9, 1, 4, 8, 11, 15, 0, 3, 12, 6, 16, 7, 5, 13, 14, 2, 10]),\n",
       " array('i', [9, 1, 4, 8, 11, 5, 15, 0, 3, 12, 6, 16, 7, 13, 14, 2, 10]),\n",
       " array('i', [9, 1, 4, 8, 11, 15, 0, 3, 12, 6, 16, 7, 5, 13, 14, 2, 10]),\n",
       " array('i', [9, 1, 4, 8, 11, 15, 0, 3, 12, 6, 16, 5, 7, 13, 14, 2, 10]),\n",
       " array('i', [9, 1, 4, 8, 11, 15, 0, 3, 12, 6, 16, 7, 5, 13, 14, 2, 10]),\n",
       " array('i', [2, 10, 9, 1, 4, 8, 11, 15, 0, 3, 12, 6, 16, 7, 5, 13, 14]),\n",
       " array('i', [9, 1, 4, 8, 11, 15, 0, 3, 12, 6, 16, 7, 5, 13, 14, 2, 10]),\n",
       " array('i', [11, 15, 0, 10, 9, 1, 4, 3, 12, 6, 16, 7, 5, 13, 14, 2, 8]),\n",
       " array('i', [9, 1, 4, 8, 11, 15, 0, 3, 12, 6, 16, 7, 5, 13, 14, 2, 10]),\n",
       " array('i', [9, 1, 4, 8, 11, 15, 0, 3, 12, 6, 16, 7, 5, 13, 14, 2, 10]),\n",
       " array('i', [9, 1, 4, 8, 11, 15, 0, 3, 12, 6, 16, 7, 5, 13, 14, 2, 10]),\n",
       " array('i', [9, 1, 4, 8, 11, 15, 0, 3, 12, 6, 16, 7, 5, 13, 14, 2, 10]),\n",
       " array('i', [9, 1, 4, 8, 11, 15, 0, 3, 12, 6, 16, 7, 5, 13, 14, 2, 10]),\n",
       " array('i', [9, 1, 4, 8, 11, 15, 0, 3, 12, 6, 16, 7, 5, 13, 14, 2, 10]),\n",
       " array('i', [3, 12, 6, 10, 9, 1, 4, 8, 11, 15, 16, 7, 5, 13, 14, 2, 0]),\n",
       " array('i', [9, 1, 4, 8, 11, 15, 0, 3, 12, 6, 16, 7, 5, 13, 14, 2, 10]),\n",
       " array('i', [2, 10, 9, 1, 4, 8, 11, 15, 0, 3, 12, 6, 16, 7, 5, 13, 14]),\n",
       " array('i', [9, 1, 4, 8, 11, 15, 0, 3, 12, 6, 16, 7, 5, 13, 14, 2, 10]),\n",
       " array('i', [16, 5, 13, 14, 2, 10, 9, 1, 4, 8, 11, 15, 0, 3, 12, 7, 6]),\n",
       " array('i', [9, 1, 4, 8, 11, 15, 0, 3, 12, 6, 16, 7, 5, 13, 14, 2, 10]),\n",
       " array('i', [9, 1, 4, 8, 11, 15, 0, 3, 12, 6, 16, 7, 5, 13, 14, 2, 10]),\n",
       " array('i', [9, 1, 4, 8, 11, 15, 0, 3, 12, 6, 16, 7, 5, 13, 14, 2, 10]),\n",
       " array('i', [13, 14, 2, 10, 8, 11, 15, 0, 3, 12, 6, 16, 7, 5, 9, 1, 4]),\n",
       " array('i', [10, 9, 1, 4, 8, 11, 15, 0, 3, 12, 6, 16, 7, 5, 13, 14, 2]),\n",
       " array('i', [13, 14, 2, 10, 9, 1, 4, 8, 11, 15, 0, 3, 12, 6, 16, 7, 5]),\n",
       " array('i', [10, 9, 1, 4, 8, 11, 15, 0, 3, 12, 6, 16, 7, 5, 13, 14, 2]),\n",
       " array('i', [10, 9, 1, 4, 8, 11, 15, 0, 3, 12, 6, 16, 7, 5, 13, 14, 2]),\n",
       " array('i', [10, 9, 1, 4, 8, 11, 15, 0, 3, 12, 6, 16, 7, 5, 13, 14, 2]),\n",
       " array('i', [13, 14, 2, 10, 9, 1, 4, 8, 11, 15, 0, 3, 12, 6, 16, 7, 5]),\n",
       " array('i', [13, 14, 2, 10, 9, 1, 4, 8, 11, 15, 0, 3, 12, 6, 16, 7, 5]),\n",
       " array('i', [9, 1, 4, 8, 11, 15, 0, 3, 12, 6, 16, 7, 5, 13, 14, 2, 10]),\n",
       " array('i', [10, 9, 1, 4, 8, 11, 15, 0, 3, 12, 6, 16, 7, 5, 13, 14, 2]),\n",
       " array('i', [9, 1, 4, 8, 11, 15, 0, 3, 12, 6, 16, 5, 7, 13, 14, 2, 10]),\n",
       " array('i', [9, 1, 4, 8, 11, 15, 0, 16, 3, 12, 6, 7, 5, 13, 14, 2, 10]),\n",
       " array('i', [10, 9, 1, 4, 8, 11, 15, 0, 3, 12, 6, 16, 7, 5, 13, 14, 2]),\n",
       " array('i', [9, 1, 4, 8, 11, 15, 0, 3, 12, 6, 16, 7, 5, 13, 14, 2, 10]),\n",
       " array('i', [10, 9, 1, 4, 8, 11, 15, 0, 3, 12, 6, 16, 7, 5, 13, 14, 2]),\n",
       " array('i', [15, 1, 4, 8, 11, 9, 0, 3, 12, 6, 16, 7, 5, 13, 14, 2, 10]),\n",
       " array('i', [9, 1, 4, 8, 11, 15, 0, 3, 13, 12, 6, 16, 7, 5, 14, 2, 10]),\n",
       " array('i', [9, 1, 4, 8, 11, 15, 0, 3, 12, 6, 16, 7, 5, 13, 14, 2, 10]),\n",
       " array('i', [13, 14, 2, 10, 9, 1, 4, 8, 11, 15, 0, 3, 12, 6, 16, 7, 5]),\n",
       " array('i', [10, 9, 1, 4, 8, 11, 15, 0, 3, 12, 6, 16, 7, 5, 13, 14, 2]),\n",
       " array('i', [10, 9, 1, 4, 8, 11, 15, 0, 3, 12, 6, 16, 7, 5, 13, 14, 2]),\n",
       " array('i', [10, 9, 1, 4, 8, 11, 15, 0, 3, 12, 6, 7, 16, 5, 13, 14, 2]),\n",
       " array('i', [6, 16, 9, 1, 4, 8, 11, 15, 0, 3, 12, 7, 5, 13, 14, 2, 10]),\n",
       " array('i', [9, 1, 4, 8, 11, 15, 0, 3, 12, 6, 16, 7, 5, 13, 14, 2, 10]),\n",
       " array('i', [9, 1, 4, 8, 11, 15, 0, 3, 12, 6, 16, 7, 5, 13, 14, 2, 10]),\n",
       " array('i', [9, 1, 4, 8, 11, 15, 0, 3, 12, 6, 16, 7, 5, 13, 14, 2, 10]),\n",
       " array('i', [6, 1, 4, 8, 11, 15, 0, 3, 12, 9, 16, 7, 5, 13, 14, 2, 10]),\n",
       " array('i', [9, 1, 4, 8, 11, 15, 0, 3, 12, 5, 7, 6, 16, 13, 14, 2, 10]),\n",
       " array('i', [13, 14, 2, 10, 9, 1, 4, 8, 11, 15, 0, 3, 12, 6, 16, 7, 5]),\n",
       " array('i', [13, 14, 2, 10, 9, 1, 4, 8, 11, 15, 0, 3, 12, 6, 16, 7, 5]),\n",
       " array('i', [10, 1, 4, 8, 9, 11, 15, 0, 3, 12, 6, 16, 7, 5, 13, 14, 2]),\n",
       " array('i', [8, 14, 2, 10, 11, 15, 0, 3, 12, 6, 16, 7, 5, 13, 9, 1, 4]),\n",
       " array('i', [9, 1, 4, 8, 11, 15, 0, 3, 12, 6, 16, 7, 5, 13, 14, 2, 10]),\n",
       " array('i', [9, 1, 4, 8, 11, 15, 0, 12, 3, 7, 2, 16, 5, 13, 14, 6, 10]),\n",
       " array('i', [13, 14, 2, 1, 9, 10, 4, 11, 8, 15, 0, 3, 12, 6, 16, 7, 5]),\n",
       " array('i', [13, 14, 2, 10, 9, 1, 4, 8, 11, 15, 0, 3, 12, 6, 16, 7, 5]),\n",
       " array('i', [9, 1, 4, 8, 11, 15, 0, 3, 12, 6, 16, 7, 5, 13, 14, 2, 10]),\n",
       " array('i', [9, 1, 4, 8, 11, 15, 0, 3, 12, 6, 16, 7, 5, 13, 14, 2, 10]),\n",
       " array('i', [13, 14, 2, 10, 9, 1, 4, 8, 11, 15, 0, 3, 12, 6, 16, 7, 5]),\n",
       " array('i', [13, 14, 2, 10, 9, 1, 4, 8, 11, 15, 0, 3, 12, 6, 16, 7, 5]),\n",
       " array('i', [9, 1, 4, 8, 11, 15, 0, 3, 12, 6, 16, 7, 5, 13, 14, 2, 10]),\n",
       " array('i', [9, 1, 4, 8, 11, 15, 0, 3, 12, 6, 16, 7, 5, 13, 14, 2, 10]),\n",
       " array('i', [13, 14, 2, 10, 9, 1, 4, 8, 11, 15, 6, 3, 12, 0, 16, 5, 7]),\n",
       " array('i', [9, 1, 4, 8, 11, 15, 0, 3, 12, 6, 16, 7, 5, 13, 14, 2, 10]),\n",
       " array('i', [8, 11, 15, 10, 9, 1, 0, 3, 14, 6, 16, 7, 5, 13, 12, 2, 4]),\n",
       " array('i', [10, 9, 1, 8, 11, 15, 4, 0, 3, 12, 6, 16, 7, 5, 13, 14, 2]),\n",
       " array('i', [13, 14, 2, 10, 9, 1, 4, 8, 11, 15, 0, 3, 12, 6, 16, 7, 5]),\n",
       " array('i', [9, 1, 4, 8, 11, 15, 0, 3, 12, 6, 16, 7, 5, 13, 14, 2, 10]),\n",
       " array('i', [9, 1, 4, 8, 11, 15, 12, 3, 0, 6, 16, 7, 5, 13, 14, 2, 10]),\n",
       " array('i', [13, 14, 2, 10, 9, 1, 4, 8, 11, 15, 0, 3, 12, 6, 16, 7, 5]),\n",
       " array('i', [10, 12, 1, 4, 8, 11, 15, 0, 3, 9, 6, 16, 7, 5, 13, 14, 2]),\n",
       " array('i', [10, 9, 1, 4, 8, 11, 15, 0, 3, 12, 6, 16, 7, 5, 13, 14, 2]),\n",
       " array('i', [13, 14, 2, 10, 9, 1, 4, 8, 11, 15, 0, 3, 12, 7, 6, 16, 5]),\n",
       " array('i', [16, 5, 13, 14, 2, 10, 9, 1, 11, 15, 0, 3, 12, 6, 7, 4, 8]),\n",
       " array('i', [9, 1, 4, 8, 11, 15, 0, 3, 12, 7, 16, 5, 6, 13, 14, 2, 10]),\n",
       " array('i', [1, 4, 8, 6, 12, 7, 16, 5, 11, 15, 0, 3, 13, 14, 2, 10, 9]),\n",
       " array('i', [9, 1, 4, 8, 11, 15, 0, 3, 12, 6, 16, 7, 5, 13, 14, 2, 10]),\n",
       " array('i', [13, 14, 2, 10, 9, 1, 4, 8, 11, 15, 0, 3, 12, 6, 16, 7, 5]),\n",
       " array('i', [9, 1, 4, 8, 11, 15, 0, 3, 12, 6, 16, 7, 5, 13, 14, 2, 10]),\n",
       " array('i', [9, 1, 4, 8, 11, 15, 0, 3, 12, 6, 16, 7, 5, 13, 14, 2, 10]),\n",
       " array('i', [9, 1, 4, 8, 11, 15, 0, 3, 12, 6, 16, 7, 5, 13, 14, 2, 10]),\n",
       " array('i', [10, 9, 1, 4, 8, 11, 15, 0, 12, 6, 16, 7, 5, 13, 14, 2, 3]),\n",
       " array('i', [10, 9, 1, 4, 8, 11, 15, 0, 12, 3, 6, 16, 7, 5, 13, 14, 2]),\n",
       " array('i', [13, 14, 2, 10, 9, 1, 4, 8, 11, 15, 0, 3, 12, 6, 16, 7, 5]),\n",
       " array('i', [9, 1, 4, 8, 11, 15, 0, 3, 12, 6, 16, 7, 5, 13, 14, 2, 10]),\n",
       " array('i', [9, 1, 4, 8, 11, 15, 0, 3, 12, 6, 16, 7, 5, 13, 14, 2, 10]),\n",
       " array('i', [9, 1, 4, 8, 11, 14, 0, 3, 12, 6, 16, 7, 5, 13, 15, 2, 10]),\n",
       " array('i', [9, 1, 4, 8, 11, 15, 0, 3, 12, 6, 16, 7, 5, 13, 14, 2, 10]),\n",
       " array('i', [9, 1, 4, 8, 11, 15, 0, 3, 12, 6, 16, 7, 5, 13, 14, 2, 10]),\n",
       " array('i', [11, 15, 2, 10, 9, 1, 0, 3, 12, 6, 16, 7, 5, 13, 14, 4, 8]),\n",
       " array('i', [10, 9, 1, 4, 8, 11, 15, 0, 3, 12, 6, 16, 5, 7, 13, 14, 2]),\n",
       " array('i', [10, 9, 1, 4, 8, 11, 15, 0, 3, 12, 6, 16, 7, 5, 13, 14, 2]),\n",
       " array('i', [9, 1, 4, 8, 11, 15, 0, 3, 12, 6, 16, 7, 5, 13, 14, 2, 10]),\n",
       " array('i', [9, 1, 4, 8, 11, 15, 0, 3, 12, 6, 16, 7, 5, 13, 14, 2, 10]),\n",
       " array('i', [10, 9, 1, 4, 8, 11, 15, 0, 3, 12, 6, 16, 7, 5, 13, 14, 2]),\n",
       " array('i', [13, 14, 2, 10, 9, 1, 4, 8, 11, 15, 0, 3, 12, 6, 16, 7, 5]),\n",
       " array('i', [9, 1, 4, 8, 11, 15, 0, 3, 12, 6, 16, 7, 5, 13, 14, 2, 10]),\n",
       " array('i', [10, 9, 1, 4, 8, 11, 0, 3, 12, 6, 16, 7, 5, 13, 14, 2, 15]),\n",
       " array('i', [13, 14, 2, 10, 9, 1, 4, 8, 11, 15, 0, 3, 12, 6, 16, 7, 5]),\n",
       " array('i', [13, 14, 2, 10, 9, 1, 4, 8, 11, 15, 0, 3, 12, 6, 16, 7, 5]),\n",
       " array('i', [10, 9, 1, 4, 8, 11, 15, 0, 3, 12, 6, 16, 5, 7, 13, 14, 2]),\n",
       " array('i', [10, 9, 1, 4, 8, 11, 15, 7, 13, 14, 0, 3, 12, 6, 16, 5, 2]),\n",
       " array('i', [10, 9, 1, 4, 8, 11, 15, 0, 3, 12, 6, 7, 16, 5, 13, 14, 2]),\n",
       " array('i', [10, 9, 13, 1, 4, 8, 11, 15, 0, 3, 12, 6, 16, 7, 5, 14, 2]),\n",
       " array('i', [13, 14, 2, 10, 9, 1, 4, 8, 11, 15, 0, 3, 12, 6, 16, 7, 5]),\n",
       " array('i', [13, 14, 2, 10, 9, 1, 4, 8, 11, 15, 0, 3, 12, 6, 16, 5, 7]),\n",
       " array('i', [9, 1, 4, 8, 11, 15, 0, 3, 12, 6, 16, 7, 5, 13, 14, 2, 10]),\n",
       " array('i', [9, 1, 4, 8, 11, 15, 0, 3, 12, 6, 16, 7, 5, 13, 14, 2, 10]),\n",
       " array('i', [9, 1, 4, 8, 11, 15, 0, 3, 12, 6, 16, 7, 5, 13, 14, 2, 10]),\n",
       " array('i', [12, 6, 16, 7, 9, 1, 4, 8, 11, 15, 0, 3, 5, 13, 14, 2, 10]),\n",
       " array('i', [9, 1, 4, 8, 11, 15, 0, 3, 12, 6, 16, 7, 5, 13, 14, 2, 10]),\n",
       " array('i', [3, 12, 2, 10, 9, 1, 4, 8, 11, 6, 16, 7, 5, 13, 14, 15, 0]),\n",
       " array('i', [10, 9, 1, 4, 8, 11, 15, 0, 3, 12, 6, 16, 7, 5, 13, 14, 2]),\n",
       " array('i', [9, 1, 4, 8, 11, 15, 0, 3, 12, 6, 16, 7, 5, 13, 14, 2, 10]),\n",
       " array('i', [10, 9, 1, 4, 8, 11, 15, 0, 3, 12, 6, 16, 7, 5, 13, 14, 2]),\n",
       " array('i', [10, 9, 1, 4, 8, 11, 15, 0, 3, 12, 6, 16, 7, 5, 13, 14, 2]),\n",
       " array('i', [9, 1, 4, 8, 11, 15, 0, 3, 12, 6, 16, 7, 5, 13, 14, 2, 10]),\n",
       " array('i', [9, 1, 4, 8, 11, 15, 0, 3, 12, 7, 6, 16, 5, 13, 14, 2, 10]),\n",
       " array('i', [13, 2, 10, 9, 1, 4, 8, 11, 15, 0, 5, 3, 12, 6, 16, 7, 14]),\n",
       " array('i', [14, 2, 10, 9, 1, 4, 8, 11, 15, 0, 7, 3, 12, 6, 16, 5, 13]),\n",
       " array('i', [9, 1, 4, 8, 11, 15, 0, 3, 12, 6, 16, 7, 5, 13, 14, 2, 10]),\n",
       " array('i', [9, 1, 4, 8, 11, 15, 0, 3, 12, 6, 16, 13, 7, 5, 14, 2, 10]),\n",
       " array('i', [4, 8, 11, 15, 9, 1, 0, 6, 12, 3, 16, 7, 5, 13, 14, 2, 10]),\n",
       " array('i', [2, 10, 9, 1, 11, 15, 4, 8, 0, 3, 12, 6, 16, 7, 5, 13, 14]),\n",
       " array('i', [13, 14, 2, 10, 9, 1, 4, 8, 11, 15, 0, 3, 12, 6, 16, 7, 5]),\n",
       " array('i', [13, 14, 2, 10, 9, 1, 4, 8, 11, 15, 0, 3, 12, 6, 16, 7, 5]),\n",
       " array('i', [9, 1, 4, 2, 8, 11, 15, 0, 3, 12, 6, 16, 7, 5, 13, 14, 10]),\n",
       " array('i', [9, 1, 4, 8, 11, 15, 0, 3, 12, 6, 16, 7, 5, 13, 14, 2, 10]),\n",
       " array('i', [9, 1, 12, 4, 8, 11, 15, 0, 3, 6, 16, 7, 5, 13, 14, 2, 10]),\n",
       " array('i', [9, 1, 4, 8, 11, 15, 0, 3, 12, 6, 16, 7, 5, 13, 14, 2, 10]),\n",
       " array('i', [9, 1, 4, 8, 11, 15, 0, 3, 12, 6, 16, 7, 5, 2, 10, 13, 14]),\n",
       " array('i', [9, 1, 4, 8, 12, 6, 11, 15, 0, 3, 16, 7, 5, 13, 14, 2, 10]),\n",
       " array('i', [9, 1, 4, 8, 11, 15, 0, 3, 12, 6, 16, 7, 5, 13, 14, 2, 10]),\n",
       " array('i', [8, 11, 9, 1, 4, 15, 0, 3, 12, 6, 16, 7, 5, 13, 14, 2, 10]),\n",
       " array('i', [10, 9, 1, 4, 8, 5, 7, 14, 11, 15, 0, 3, 12, 6, 16, 2, 13]),\n",
       " array('i', [10, 9, 1, 4, 8, 11, 15, 0, 3, 12, 6, 16, 5, 7, 14, 13, 2]),\n",
       " array('i', [9, 1, 4, 8, 11, 15, 0, 6, 16, 7, 5, 3, 12, 13, 14, 2, 10]),\n",
       " array('i', [2, 10, 9, 1, 4, 8, 11, 15, 0, 3, 12, 7, 5, 6, 16, 13, 14]),\n",
       " array('i', [9, 1, 4, 8, 11, 15, 0, 3, 12, 6, 16, 7, 5, 13, 14, 2, 10]),\n",
       " array('i', [10, 9, 1, 4, 8, 11, 15, 0, 3, 12, 6, 16, 5, 7, 13, 14, 2]),\n",
       " array('i', [10, 9, 1, 4, 8, 11, 15, 0, 3, 12, 6, 16, 7, 5, 13, 14, 2]),\n",
       " array('i', [0, 1, 4, 8, 11, 15, 9, 3, 12, 6, 16, 7, 5, 13, 14, 2, 10]),\n",
       " array('i', [9, 1, 4, 8, 11, 15, 0, 3, 12, 6, 16, 7, 5, 13, 14, 2, 10]),\n",
       " array('i', [9, 1, 4, 8, 11, 15, 16, 0, 3, 12, 6, 7, 5, 13, 14, 2, 10]),\n",
       " array('i', [9, 1, 4, 8, 11, 15, 0, 3, 12, 6, 16, 7, 5, 13, 14, 2, 10]),\n",
       " array('i', [13, 14, 2, 10, 9, 1, 4, 8, 11, 15, 0, 3, 12, 6, 16, 7, 5]),\n",
       " array('i', [9, 1, 4, 8, 2, 11, 15, 0, 3, 12, 6, 16, 5, 7, 13, 14, 10]),\n",
       " array('i', [9, 1, 4, 8, 11, 15, 0, 3, 12, 6, 16, 7, 5, 13, 14, 2, 10]),\n",
       " array('i', [9, 1, 14, 8, 5, 12, 6, 16, 7, 15, 0, 11, 3, 13, 4, 2, 10]),\n",
       " array('i', [10, 9, 1, 4, 8, 11, 15, 0, 12, 6, 16, 3, 7, 5, 13, 14, 2]),\n",
       " array('i', [9, 1, 4, 8, 11, 15, 0, 3, 12, 6, 16, 7, 5, 13, 14, 2, 10]),\n",
       " array('i', [9, 1, 4, 8, 11, 15, 0, 3, 12, 6, 16, 7, 5, 13, 14, 2, 10]),\n",
       " array('i', [8, 10, 9, 1, 11, 15, 0, 3, 12, 6, 16, 7, 5, 13, 14, 2, 4]),\n",
       " array('i', [8, 13, 14, 2, 11, 15, 0, 3, 12, 7, 6, 16, 5, 10, 9, 1, 4]),\n",
       " array('i', [9, 1, 4, 8, 11, 15, 0, 13, 3, 12, 6, 16, 7, 5, 14, 2, 10]),\n",
       " array('i', [9, 1, 4, 8, 11, 15, 0, 3, 12, 6, 16, 7, 5, 13, 14, 2, 10])]"
      ]
     },
     "execution_count": 13,
     "metadata": {},
     "output_type": "execute_result"
    }
   ],
   "source": [
    "pop"
   ]
  },
  {
   "cell_type": "code",
   "execution_count": 15,
   "metadata": {
    "collapsed": false,
    "scrolled": false
   },
   "outputs": [
    {
     "data": {
      "text/plain": [
       "<matplotlib.axes._subplots.AxesSubplot at 0x7f822be1cf50>"
      ]
     },
     "execution_count": 15,
     "metadata": {},
     "output_type": "execute_result"
    },
    {
     "data": {
      "image/png": "[encoded data removed]",
      "text/plain": [
       "<matplotlib.figure.Figure at 0x7f822bda2250>"
      ]
     },
     "metadata": {},
     "output_type": "display_data"
    }
   ],
   "source": [
    "df.plot(y=['max','min','std'])"
   ]
  },
  {
   "cell_type": "code",
   "execution_count": 16,
   "metadata": {
    "collapsed": false,
    "scrolled": true
   },
   "outputs": [
    {
     "data": {
      "image/png": "[encoded data removed]",
      "text/plain": [
       "<matplotlib.figure.Figure at 0x7f822bc9df50>"
      ]
     },
     "metadata": {},
     "output_type": "display_data"
    }
   ],
   "source": [
    "a=df.plot(y=['max','min']).fill_between(xrange(0,41),df['min'],df['max'],color='red',alpha='0.5')\n"
   ]
  }
 ],
 "metadata": {
  "kernelspec": {
   "display_name": "Python 2",
   "language": "python",
   "name": "python2"
  },
  "language_info": {
   "codemirror_mode": {
    "name": "ipython",
    "version": 2
   },
   "file_extension": ".py",
   "mimetype": "text/x-python",
   "name": "python",
   "nbconvert_exporter": "python",
   "pygments_lexer": "ipython2",
   "version": "2.7.11"
  }
 },
 "nbformat": 4,
 "nbformat_minor": 0
}

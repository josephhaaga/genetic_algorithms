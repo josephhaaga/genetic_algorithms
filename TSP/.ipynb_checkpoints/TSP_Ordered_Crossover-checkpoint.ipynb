{
 "cells": [
  {
   "cell_type": "code",
   "execution_count": 31,
   "metadata": {
    "collapsed": false
   },
   "outputs": [],
   "source": [
    "import deap as dp\n",
    "import array\n",
    "import random\n",
    "import json\n",
    "import pandas as pd\n",
    "import numpy as np\n",
    "%matplotlib inline\n",
    "from deap import algorithms\n",
    "from deap import base\n",
    "from deap import creator\n",
    "from deap import tools"
   ]
  },
  {
   "cell_type": "code",
   "execution_count": 32,
   "metadata": {
    "collapsed": false,
    "scrolled": false
   },
   "outputs": [],
   "source": [
    "# gr*.json contains the distance map in list of list style in JSON format\n",
    "# Optimal solutions are : gr17 = 2085, gr24 = 1272, gr120 = 6942\n",
    "with open(\"gr17.json\", \"r\") as tsp_data:\n",
    "    tsp = json.load(tsp_data)\n",
    "\n",
    "distance_map = tsp[\"DistanceMatrix\"]\n",
    "IND_SIZE = tsp[\"TourSize\"]\n",
    "\n",
    "creator.create(\"FitnessMin\", base.Fitness, weights=(-1.0,))\n",
    "creator.create(\"Individual\", array.array, typecode='i', fitness=creator.FitnessMin)\n"
   ]
  },
  {
   "cell_type": "code",
   "execution_count": 33,
   "metadata": {
    "collapsed": true
   },
   "outputs": [],
   "source": [
    "toolbox = base.Toolbox()\n",
    "\n",
    "# Attribute generator\n",
    "toolbox.register(\"indices\", random.sample, range(IND_SIZE), IND_SIZE)\n",
    "\n",
    "# Structure initializers\n",
    "toolbox.register(\"individual\", tools.initIterate, creator.Individual, toolbox.indices)\n",
    "toolbox.register(\"population\", tools.initRepeat, list, toolbox.individual)\n",
    "\n",
    "def evalTSP(individual):\n",
    "    distance = distance_map[individual[-1]][individual[0]]\n",
    "    for gene1, gene2 in zip(individual[0:-1], individual[1:]):\n",
    "        distance += distance_map[gene1][gene2]\n",
    "    return distance,\n",
    "\n",
    "toolbox.register(\"mate\", tools.cxOrdered)\n",
    "toolbox.register(\"mutate\", tools.mutShuffleIndexes, indpb=0.25)\n",
    "toolbox.register(\"select\", tools.selTournament, tournsize=3)\n",
    "toolbox.register(\"evaluate\", evalTSP)"
   ]
  },
  {
   "cell_type": "code",
   "execution_count": 34,
   "metadata": {
    "collapsed": false,
    "scrolled": true
   },
   "outputs": [
    {
     "name": "stdout",
     "output_type": "stream",
     "text": [
      "gen\tnevals\tavg   \tstd    \tmin \tmax \n",
      "0  \t300   \t4700.7\t424.386\t3606\t5842\n",
      "1  \t220   \t4445.17\t401.333\t3168\t5549\n",
      "2  \t217   \t4230.01\t373.431\t3215\t5400\n",
      "3  \t228   \t4088.13\t394.279\t3283\t5446\n",
      "4  \t222   \t4002.23\t455.657\t3020\t5445\n",
      "5  \t221   \t3925.39\t454.653\t2835\t5485\n",
      "6  \t216   \t3817.62\t448.899\t2905\t5615\n",
      "7  \t231   \t3766.68\t481.413\t2778\t5397\n",
      "8  \t240   \t3740.38\t482.612\t2565\t5465\n",
      "9  \t214   \t3631.91\t470.019\t2502\t5160\n",
      "10 \t220   \t3573.97\t488.847\t2502\t5014\n",
      "11 \t214   \t3534.5 \t555.258\t2286\t5513\n",
      "12 \t220   \t3483.28\t585.348\t2265\t5514\n",
      "13 \t224   \t3409.21\t574.439\t2265\t5628\n",
      "14 \t218   \t3326.66\t584.022\t2265\t5172\n",
      "15 \t232   \t3217.46\t587.727\t2265\t5422\n",
      "16 \t229   \t3137.34\t573.917\t2265\t5086\n",
      "17 \t222   \t3076.75\t541.1  \t2265\t5132\n",
      "18 \t213   \t3074.53\t684.358\t2131\t5388\n",
      "19 \t218   \t3014.56\t626.086\t2131\t5010\n",
      "20 \t240   \t3009.07\t666.145\t2131\t5385\n",
      "21 \t227   \t3007   \t697.498\t2131\t5521\n",
      "22 \t221   \t2900.79\t643.419\t2131\t5635\n",
      "23 \t224   \t2835.97\t623.359\t2131\t5109\n",
      "24 \t207   \t2805.49\t686.381\t2131\t5212\n",
      "25 \t215   \t2718.25\t634.189\t2085\t5037\n",
      "26 \t224   \t2733.08\t714.352\t2085\t5662\n",
      "27 \t225   \t2721.61\t729.564\t2085\t5351\n",
      "28 \t234   \t2631   \t675.254\t2115\t5236\n",
      "29 \t230   \t2609.84\t726.939\t2115\t5325\n",
      "30 \t233   \t2615.53\t752.844\t2106\t5116\n",
      "31 \t230   \t2588.01\t772.567\t2106\t5414\n",
      "32 \t246   \t2613.52\t806.866\t2106\t5415\n",
      "33 \t228   \t2618.3 \t777.037\t2106\t5592\n",
      "34 \t231   \t2579.22\t765.623\t2106\t5387\n",
      "35 \t224   \t2562.13\t753.824\t2097\t5013\n",
      "36 \t224   \t2566.31\t746.971\t2115\t5021\n",
      "37 \t212   \t2526.64\t745.562\t2115\t5351\n",
      "38 \t244   \t2552.28\t752.298\t2115\t5260\n",
      "39 \t234   \t2569.95\t747.191\t2115\t5736\n",
      "40 \t223   \t2468.31\t745.011\t2115\t5194\n"
     ]
    }
   ],
   "source": [
    "# main() exposed\n",
    "\n",
    "random.seed(169)\n",
    "\n",
    "pop = toolbox.population(n=300)\n",
    "\n",
    "hof = tools.HallOfFame(1)\n",
    "stats = tools.Statistics(lambda ind: ind.fitness.values)\n",
    "stats.register(\"avg\", np.mean)\n",
    "stats.register(\"std\", np.std)\n",
    "stats.register(\"min\", np.min)\n",
    "stats.register(\"max\", np.max)\n",
    "\n",
    "result_object=algorithms.eaSimple(pop, toolbox, 0.7, 0.2, 40, stats=stats, \n",
    "                    halloffame=hof)"
   ]
  },
  {
   "cell_type": "code",
   "execution_count": null,
   "metadata": {
    "collapsed": true
   },
   "outputs": [],
   "source": []
  },
  {
   "cell_type": "code",
   "execution_count": 35,
   "metadata": {
    "collapsed": false
   },
   "outputs": [
    {
     "data": {
      "text/plain": [
       "401.3327699331594"
      ]
     },
     "execution_count": 35,
     "metadata": {},
     "output_type": "execute_result"
    }
   ],
   "source": [
    "result_object[1][1]['std']"
   ]
  },
  {
   "cell_type": "code",
   "execution_count": 36,
   "metadata": {
    "collapsed": false
   },
   "outputs": [
    {
     "data": {
      "text/plain": [
       "dict"
      ]
     },
     "execution_count": 36,
     "metadata": {},
     "output_type": "execute_result"
    }
   ],
   "source": [
    "type(result_object[1][1])"
   ]
  },
  {
   "cell_type": "code",
   "execution_count": 37,
   "metadata": {
    "collapsed": false
   },
   "outputs": [
    {
     "data": {
      "text/plain": [
       "<matplotlib.axes._subplots.AxesSubplot at 0x7f3b1b2356d0>"
      ]
     },
     "execution_count": 37,
     "metadata": {},
     "output_type": "execute_result"
    },
    {
     "data": {
      "image/png": "[encoded data removed]",
      "text/plain": [
       "<matplotlib.figure.Figure at 0x7f3b1b535310>"
      ]
     },
     "metadata": {},
     "output_type": "display_data"
    }
   ],
   "source": [
    "pd.DataFrame(data=result_object[1]).plot()"
   ]
  },
  {
   "cell_type": "code",
   "execution_count": 38,
   "metadata": {
    "collapsed": false
   },
   "outputs": [
    {
     "data": {
      "text/plain": [
       "<bound method DataFrame.to_csv of             avg  gen     max     min  nevals         std\n",
       "0   4700.700000    0  5842.0  3606.0     300  424.385536\n",
       "1   4445.166667    1  5549.0  3168.0     220  401.332770\n",
       "2   4230.010000    2  5400.0  3215.0     217  373.431105\n",
       "3   4088.133333    3  5446.0  3283.0     228  394.278542\n",
       "4   4002.230000    4  5445.0  3020.0     222  455.656666\n",
       "5   3925.390000    5  5485.0  2835.0     221  454.652532\n",
       "6   3817.620000    6  5615.0  2905.0     216  448.899011\n",
       "7   3766.683333    7  5397.0  2778.0     231  481.412501\n",
       "8   3740.380000    8  5465.0  2565.0     240  482.611910\n",
       "9   3631.910000    9  5160.0  2502.0     214  470.018966\n",
       "10  3573.970000   10  5014.0  2502.0     220  488.846543\n",
       "11  3534.496667   11  5513.0  2286.0     214  555.258213\n",
       "12  3483.283333   12  5514.0  2265.0     220  585.348355\n",
       "13  3409.206667   13  5628.0  2265.0     224  574.438924\n",
       "14  3326.660000   14  5172.0  2265.0     218  584.022132\n",
       "15  3217.456667   15  5422.0  2265.0     232  587.726599\n",
       "16  3137.340000   16  5086.0  2265.0     229  573.916670\n",
       "17  3076.753333   17  5132.0  2265.0     222  541.100415\n",
       "18  3074.533333   18  5388.0  2131.0     213  684.358129\n",
       "19  3014.556667   19  5010.0  2131.0     218  626.086033\n",
       "20  3009.073333   20  5385.0  2131.0     240  666.144570\n",
       "21  3006.996667   21  5521.0  2131.0     227  697.497802\n",
       "22  2900.786667   22  5635.0  2131.0     221  643.418900\n",
       "23  2835.966667   23  5109.0  2131.0     224  623.358831\n",
       "24  2805.486667   24  5212.0  2131.0     207  686.381262\n",
       "25  2718.250000   25  5037.0  2085.0     215  634.189242\n",
       "26  2733.083333   26  5662.0  2085.0     224  714.351862\n",
       "27  2721.606667   27  5351.0  2085.0     225  729.563704\n",
       "28  2631.003333   28  5236.0  2115.0     234  675.254355\n",
       "29  2609.836667   29  5325.0  2115.0     230  726.939005\n",
       "30  2615.526667   30  5116.0  2106.0     233  752.844218\n",
       "31  2588.006667   31  5414.0  2106.0     230  772.567024\n",
       "32  2613.523333   32  5415.0  2106.0     246  806.866459\n",
       "33  2618.296667   33  5592.0  2106.0     228  777.037315\n",
       "34  2579.216667   34  5387.0  2106.0     231  765.623264\n",
       "35  2562.130000   35  5013.0  2097.0     224  753.824175\n",
       "36  2566.313333   36  5021.0  2115.0     224  746.970808\n",
       "37  2526.643333   37  5351.0  2115.0     212  745.561526\n",
       "38  2552.280000   38  5260.0  2115.0     244  752.297593\n",
       "39  2569.946667   39  5736.0  2115.0     234  747.190902\n",
       "40  2468.306667   40  5194.0  2115.0     223  745.010850>"
      ]
     },
     "execution_count": 38,
     "metadata": {},
     "output_type": "execute_result"
    }
   ],
   "source": [
    "pd.DataFrame(data=result_object[1]).to_csv"
   ]
  },
  {
   "cell_type": "code",
   "execution_count": 39,
   "metadata": {
    "collapsed": false
   },
   "outputs": [
    {
     "data": {
      "text/plain": [
       "{'avg': 4088.1333333333332,\n",
       " 'gen': 3,\n",
       " 'max': 5446.0,\n",
       " 'min': 3283.0,\n",
       " 'nevals': 228,\n",
       " 'std': 394.27854226281312}"
      ]
     },
     "execution_count": 39,
     "metadata": {},
     "output_type": "execute_result"
    }
   ],
   "source": [
    "result_object[1][3]"
   ]
  },
  {
   "cell_type": "code",
   "execution_count": 40,
   "metadata": {
    "collapsed": false
   },
   "outputs": [],
   "source": [
    "df = pd.DataFrame().from_dict(result_object[1])"
   ]
  },
  {
   "cell_type": "code",
   "execution_count": 41,
   "metadata": {
    "collapsed": false
   },
   "outputs": [
    {
     "data": {
      "text/plain": [
       "<matplotlib.axes._subplots.AxesSubplot at 0x7f3b1b32b150>"
      ]
     },
     "execution_count": 41,
     "metadata": {},
     "output_type": "execute_result"
    },
    {
     "data": {
      "image/png": "[encoded data removed]",
      "text/plain": [
       "<matplotlib.figure.Figure at 0x7f3b1b1b6d10>"
      ]
     },
     "metadata": {},
     "output_type": "display_data"
    }
   ],
   "source": [
    "df.plot(y='std')"
   ]
  },
  {
   "cell_type": "code",
   "execution_count": 42,
   "metadata": {
    "collapsed": false
   },
   "outputs": [
    {
     "data": {
      "text/plain": [
       "<matplotlib.axes._subplots.AxesSubplot at 0x7f3b1b068490>"
      ]
     },
     "execution_count": 42,
     "metadata": {},
     "output_type": "execute_result"
    },
    {
     "data": {
      "image/png": "[encoded data removed]",
      "text/plain": [
       "<matplotlib.figure.Figure at 0x7f3b1b068590>"
      ]
     },
     "metadata": {},
     "output_type": "display_data"
    }
   ],
   "source": [
    "df.plot(y='min')"
   ]
  },
  {
   "cell_type": "code",
   "execution_count": 43,
   "metadata": {
    "collapsed": false
   },
   "outputs": [
    {
     "data": {
      "text/plain": [
       "[array('i', [6, 7, 5, 12, 3, 0, 15, 11, 8, 4, 1, 9, 10, 2, 14, 13, 16]),\n",
       " array('i', [14, 16, 6, 7, 5, 12, 3, 0, 15, 11, 8, 4, 1, 9, 10, 13, 2]),\n",
       " array('i', [6, 7, 5, 12, 3, 0, 15, 11, 8, 4, 1, 9, 10, 2, 14, 13, 16]),\n",
       " array('i', [12, 3, 6, 7, 5, 0, 15, 11, 8, 4, 1, 9, 10, 2, 14, 13, 16]),\n",
       " array('i', [6, 7, 5, 12, 3, 0, 15, 11, 8, 4, 1, 9, 10, 2, 14, 13, 16]),\n",
       " array('i', [6, 15, 5, 13, 3, 10, 0, 7, 8, 1, 4, 9, 12, 2, 14, 11, 16]),\n",
       " array('i', [6, 7, 5, 12, 3, 0, 15, 11, 8, 4, 1, 9, 10, 2, 14, 13, 16]),\n",
       " array('i', [6, 7, 5, 12, 3, 0, 15, 11, 8, 4, 1, 9, 10, 2, 14, 13, 16]),\n",
       " array('i', [6, 7, 5, 12, 3, 0, 15, 11, 8, 4, 1, 9, 10, 2, 14, 13, 16]),\n",
       " array('i', [6, 7, 5, 12, 3, 0, 15, 11, 8, 4, 1, 9, 10, 2, 14, 13, 16]),\n",
       " array('i', [6, 7, 5, 12, 3, 0, 15, 11, 8, 4, 1, 9, 10, 2, 14, 13, 16]),\n",
       " array('i', [6, 7, 5, 12, 3, 0, 15, 11, 8, 4, 1, 9, 10, 2, 14, 13, 16]),\n",
       " array('i', [6, 7, 5, 12, 3, 0, 15, 11, 8, 4, 1, 2, 14, 9, 10, 13, 16]),\n",
       " array('i', [6, 7, 5, 12, 3, 0, 15, 11, 8, 4, 1, 9, 10, 2, 14, 13, 16]),\n",
       " array('i', [6, 7, 5, 12, 3, 0, 15, 11, 8, 4, 1, 9, 10, 2, 14, 13, 16]),\n",
       " array('i', [6, 7, 5, 12, 3, 0, 15, 11, 8, 4, 1, 9, 10, 2, 14, 13, 16]),\n",
       " array('i', [6, 7, 5, 12, 0, 4, 2, 9, 11, 3, 13, 8, 10, 15, 14, 1, 16]),\n",
       " array('i', [6, 7, 5, 12, 3, 0, 15, 11, 8, 4, 1, 9, 10, 2, 14, 13, 16]),\n",
       " array('i', [6, 7, 5, 12, 4, 1, 14, 11, 8, 3, 0, 15, 10, 2, 9, 13, 16]),\n",
       " array('i', [2, 7, 5, 12, 3, 6, 9, 0, 8, 4, 16, 15, 10, 11, 14, 13, 1]),\n",
       " array('i', [6, 7, 5, 12, 3, 0, 15, 11, 8, 4, 1, 9, 10, 2, 14, 13, 16]),\n",
       " array('i', [6, 7, 5, 12, 3, 0, 15, 11, 8, 4, 1, 9, 10, 2, 14, 13, 16]),\n",
       " array('i', [6, 7, 5, 12, 3, 0, 15, 11, 8, 4, 1, 9, 10, 2, 14, 13, 16]),\n",
       " array('i', [6, 7, 5, 12, 3, 0, 15, 11, 8, 4, 1, 9, 10, 2, 14, 13, 16]),\n",
       " array('i', [6, 7, 5, 12, 3, 0, 15, 11, 8, 4, 1, 9, 10, 2, 14, 13, 16]),\n",
       " array('i', [6, 7, 5, 12, 3, 0, 15, 11, 8, 4, 1, 9, 10, 2, 14, 13, 16]),\n",
       " array('i', [6, 7, 5, 12, 3, 0, 15, 11, 8, 4, 1, 9, 10, 2, 14, 13, 16]),\n",
       " array('i', [6, 7, 5, 12, 3, 13, 1, 11, 15, 4, 8, 9, 10, 14, 2, 0, 16]),\n",
       " array('i', [6, 7, 5, 12, 3, 0, 15, 11, 8, 4, 1, 9, 10, 2, 14, 13, 16]),\n",
       " array('i', [10, 16, 6, 11, 5, 12, 3, 13, 8, 4, 1, 9, 0, 2, 14, 15, 7]),\n",
       " array('i', [6, 7, 5, 12, 3, 0, 15, 11, 8, 4, 1, 9, 10, 2, 14, 13, 16]),\n",
       " array('i', [6, 7, 5, 12, 3, 0, 15, 11, 8, 4, 1, 9, 10, 2, 14, 13, 16]),\n",
       " array('i', [14, 7, 5, 12, 3, 0, 15, 11, 8, 4, 1, 9, 10, 2, 13, 6, 16]),\n",
       " array('i', [4, 1, 6, 16, 5, 12, 14, 0, 15, 7, 8, 9, 10, 2, 13, 3, 11]),\n",
       " array('i', [6, 7, 5, 12, 3, 0, 15, 11, 8, 4, 1, 9, 10, 2, 14, 13, 16]),\n",
       " array('i', [1, 16, 6, 7, 5, 12, 3, 0, 15, 11, 8, 9, 10, 2, 14, 13, 4]),\n",
       " array('i', [6, 7, 5, 12, 3, 0, 15, 11, 8, 4, 1, 9, 10, 2, 14, 13, 16]),\n",
       " array('i', [6, 3, 9, 12, 7, 0, 2, 11, 14, 4, 13, 5, 10, 15, 8, 1, 16]),\n",
       " array('i', [13, 16, 6, 7, 5, 12, 3, 0, 15, 11, 8, 4, 1, 9, 10, 2, 14]),\n",
       " array('i', [6, 7, 5, 12, 3, 0, 15, 11, 8, 4, 1, 9, 10, 2, 14, 13, 16]),\n",
       " array('i', [6, 1, 5, 2, 10, 0, 15, 3, 7, 4, 8, 16, 11, 12, 14, 13, 9]),\n",
       " array('i', [13, 16, 6, 7, 5, 12, 3, 0, 15, 11, 8, 4, 1, 9, 10, 2, 14]),\n",
       " array('i', [6, 7, 5, 12, 3, 0, 15, 11, 8, 4, 1, 9, 10, 2, 14, 13, 16]),\n",
       " array('i', [6, 12, 3, 7, 5, 0, 15, 11, 8, 4, 1, 9, 10, 2, 14, 13, 16]),\n",
       " array('i', [6, 7, 5, 12, 3, 0, 15, 11, 8, 4, 1, 9, 10, 2, 14, 13, 16]),\n",
       " array('i', [6, 7, 5, 12, 3, 0, 15, 11, 8, 4, 1, 9, 10, 2, 14, 13, 16]),\n",
       " array('i', [6, 7, 5, 12, 3, 0, 15, 11, 8, 4, 1, 9, 10, 2, 14, 13, 16]),\n",
       " array('i', [6, 7, 5, 12, 3, 0, 15, 11, 8, 4, 1, 9, 10, 2, 14, 13, 16]),\n",
       " array('i', [13, 16, 6, 7, 1, 8, 3, 0, 15, 11, 12, 4, 5, 9, 10, 2, 14]),\n",
       " array('i', [6, 7, 5, 12, 3, 11, 15, 0, 8, 4, 1, 9, 10, 2, 14, 13, 16]),\n",
       " array('i', [6, 7, 5, 12, 3, 0, 15, 11, 8, 4, 1, 9, 10, 2, 14, 13, 16]),\n",
       " array('i', [6, 7, 5, 12, 3, 0, 15, 11, 8, 4, 1, 9, 10, 2, 14, 13, 16]),\n",
       " array('i', [6, 7, 5, 12, 3, 0, 15, 11, 8, 4, 1, 9, 10, 2, 14, 13, 16]),\n",
       " array('i', [6, 7, 5, 12, 3, 0, 15, 11, 8, 4, 1, 9, 10, 2, 14, 13, 16]),\n",
       " array('i', [6, 1, 10, 5, 15, 0, 3, 11, 8, 4, 7, 9, 12, 2, 14, 13, 16]),\n",
       " array('i', [6, 7, 5, 12, 3, 0, 15, 11, 8, 4, 1, 9, 10, 2, 14, 13, 16]),\n",
       " array('i', [6, 7, 5, 12, 3, 0, 15, 11, 8, 4, 1, 9, 10, 2, 14, 13, 16]),\n",
       " array('i', [6, 7, 5, 12, 3, 0, 15, 11, 8, 4, 1, 9, 10, 2, 14, 13, 16]),\n",
       " array('i', [6, 7, 5, 12, 3, 0, 15, 11, 8, 4, 1, 9, 10, 2, 14, 13, 16]),\n",
       " array('i', [12, 3, 5, 6, 7, 0, 1, 11, 8, 4, 15, 9, 10, 2, 16, 13, 14]),\n",
       " array('i', [6, 7, 5, 12, 3, 0, 15, 11, 8, 4, 1, 9, 10, 2, 14, 13, 16]),\n",
       " array('i', [6, 7, 5, 12, 3, 0, 15, 11, 8, 4, 13, 16, 1, 9, 10, 2, 14]),\n",
       " array('i', [6, 7, 5, 12, 3, 0, 15, 11, 8, 4, 1, 9, 10, 2, 14, 13, 16]),\n",
       " array('i', [6, 7, 5, 12, 3, 0, 15, 11, 8, 4, 1, 9, 10, 2, 14, 13, 16]),\n",
       " array('i', [13, 16, 6, 7, 5, 12, 3, 0, 15, 11, 8, 4, 1, 9, 10, 2, 14]),\n",
       " array('i', [13, 16, 6, 7, 5, 12, 3, 0, 15, 11, 8, 4, 1, 9, 10, 2, 14]),\n",
       " array('i', [2, 16, 6, 7, 5, 12, 3, 0, 15, 11, 8, 4, 1, 9, 14, 13, 10]),\n",
       " array('i', [6, 7, 5, 12, 3, 0, 15, 11, 8, 4, 1, 9, 10, 2, 14, 13, 16]),\n",
       " array('i', [6, 7, 5, 12, 3, 0, 15, 11, 8, 4, 1, 9, 10, 2, 14, 13, 16]),\n",
       " array('i', [6, 7, 5, 12, 3, 0, 15, 11, 8, 4, 1, 9, 10, 2, 14, 13, 16]),\n",
       " array('i', [6, 7, 5, 12, 3, 0, 15, 11, 8, 4, 1, 9, 10, 2, 14, 13, 16]),\n",
       " array('i', [6, 7, 5, 12, 3, 0, 15, 11, 8, 4, 1, 9, 10, 2, 14, 13, 16]),\n",
       " array('i', [10, 16, 6, 7, 5, 12, 3, 0, 15, 11, 8, 4, 1, 2, 14, 13, 9]),\n",
       " array('i', [6, 7, 5, 12, 3, 0, 15, 11, 8, 4, 1, 9, 10, 2, 14, 13, 16]),\n",
       " array('i', [6, 7, 5, 12, 3, 0, 15, 11, 8, 4, 1, 9, 10, 2, 14, 13, 16]),\n",
       " array('i', [6, 7, 5, 12, 3, 0, 15, 11, 8, 4, 1, 9, 10, 2, 14, 13, 16]),\n",
       " array('i', [6, 7, 5, 12, 3, 0, 15, 11, 8, 4, 1, 9, 10, 2, 14, 13, 16]),\n",
       " array('i', [6, 7, 5, 12, 3, 0, 15, 11, 8, 4, 1, 9, 10, 2, 14, 13, 16]),\n",
       " array('i', [6, 7, 5, 12, 3, 0, 15, 11, 8, 4, 1, 9, 10, 2, 14, 13, 16]),\n",
       " array('i', [6, 4, 9, 10, 3, 13, 11, 0, 15, 5, 8, 7, 1, 2, 14, 12, 16]),\n",
       " array('i', [13, 16, 6, 7, 5, 12, 3, 0, 15, 11, 8, 4, 1, 9, 10, 2, 14]),\n",
       " array('i', [6, 0, 7, 12, 3, 1, 15, 10, 9, 4, 5, 11, 8, 2, 14, 13, 16]),\n",
       " array('i', [6, 7, 5, 12, 3, 0, 15, 11, 8, 4, 1, 9, 10, 2, 14, 13, 16]),\n",
       " array('i', [6, 7, 5, 12, 3, 0, 15, 11, 8, 4, 1, 9, 10, 2, 14, 13, 16]),\n",
       " array('i', [6, 9, 11, 7, 0, 12, 16, 10, 15, 14, 1, 2, 8, 3, 4, 13, 5]),\n",
       " array('i', [6, 7, 5, 12, 3, 0, 15, 11, 8, 4, 1, 9, 10, 2, 14, 13, 16]),\n",
       " array('i', [13, 16, 6, 7, 5, 12, 3, 0, 15, 11, 8, 4, 1, 9, 10, 2, 14]),\n",
       " array('i', [6, 7, 5, 12, 3, 0, 15, 11, 8, 4, 1, 9, 10, 2, 14, 13, 16]),\n",
       " array('i', [6, 7, 5, 12, 3, 0, 15, 11, 8, 4, 1, 9, 10, 2, 14, 13, 16]),\n",
       " array('i', [6, 7, 5, 12, 3, 0, 15, 11, 8, 4, 1, 9, 10, 2, 14, 13, 16]),\n",
       " array('i', [6, 7, 5, 12, 3, 0, 15, 11, 8, 4, 1, 9, 10, 2, 14, 13, 16]),\n",
       " array('i', [7, 16, 5, 12, 3, 0, 15, 11, 8, 4, 1, 9, 10, 2, 14, 13, 6]),\n",
       " array('i', [6, 7, 5, 12, 3, 0, 15, 11, 8, 4, 1, 9, 10, 2, 14, 13, 16]),\n",
       " array('i', [14, 3, 4, 12, 7, 0, 13, 11, 8, 5, 1, 9, 16, 2, 6, 10, 15]),\n",
       " array('i', [6, 7, 5, 12, 3, 0, 15, 11, 8, 4, 1, 9, 10, 2, 14, 13, 16]),\n",
       " array('i', [6, 7, 5, 12, 3, 0, 15, 11, 8, 4, 1, 9, 10, 2, 14, 13, 16]),\n",
       " array('i', [6, 7, 5, 12, 3, 0, 15, 11, 8, 4, 1, 9, 10, 2, 14, 13, 16]),\n",
       " array('i', [6, 7, 4, 10, 3, 14, 15, 12, 8, 9, 1, 5, 11, 2, 0, 13, 16]),\n",
       " array('i', [6, 7, 5, 12, 3, 0, 15, 11, 8, 4, 1, 9, 10, 2, 14, 13, 16]),\n",
       " array('i', [6, 7, 5, 12, 3, 0, 4, 1, 15, 11, 8, 9, 10, 2, 14, 13, 16]),\n",
       " array('i', [6, 7, 5, 12, 3, 0, 15, 11, 8, 4, 1, 9, 10, 2, 14, 13, 16]),\n",
       " array('i', [8, 16, 6, 7, 15, 12, 1, 0, 4, 3, 13, 5, 11, 9, 10, 2, 14]),\n",
       " array('i', [6, 7, 5, 12, 3, 0, 15, 11, 8, 4, 1, 9, 10, 2, 14, 13, 16]),\n",
       " array('i', [6, 3, 13, 7, 12, 15, 2, 11, 8, 4, 1, 9, 10, 0, 14, 5, 16]),\n",
       " array('i', [6, 7, 5, 12, 3, 0, 15, 11, 8, 4, 1, 9, 10, 2, 14, 13, 16]),\n",
       " array('i', [6, 7, 5, 12, 3, 0, 15, 1, 9, 11, 8, 4, 10, 2, 14, 13, 16]),\n",
       " array('i', [6, 7, 5, 12, 3, 0, 15, 11, 8, 4, 1, 9, 10, 2, 14, 13, 16]),\n",
       " array('i', [6, 7, 5, 12, 3, 0, 15, 11, 8, 4, 1, 9, 10, 2, 14, 13, 16]),\n",
       " array('i', [0, 16, 6, 15, 2, 1, 3, 13, 5, 7, 10, 4, 12, 9, 8, 11, 14]),\n",
       " array('i', [13, 16, 6, 7, 5, 12, 3, 0, 15, 11, 8, 4, 1, 9, 10, 2, 14]),\n",
       " array('i', [5, 12, 3, 0, 15, 11, 9, 10, 8, 14, 13, 4, 1, 2, 16, 6, 7]),\n",
       " array('i', [5, 12, 3, 0, 15, 11, 14, 13, 8, 4, 1, 9, 10, 2, 16, 6, 7]),\n",
       " array('i', [4, 16, 6, 7, 5, 12, 3, 0, 15, 11, 1, 9, 10, 2, 14, 13, 8]),\n",
       " array('i', [6, 7, 5, 12, 3, 0, 15, 11, 8, 4, 1, 9, 10, 2, 14, 13, 16]),\n",
       " array('i', [6, 7, 5, 12, 3, 0, 15, 11, 8, 4, 1, 9, 10, 2, 14, 13, 16]),\n",
       " array('i', [6, 7, 5, 12, 3, 0, 15, 11, 8, 4, 1, 9, 10, 2, 14, 13, 16]),\n",
       " array('i', [6, 7, 5, 12, 3, 0, 15, 11, 8, 4, 1, 9, 10, 2, 14, 13, 16]),\n",
       " array('i', [6, 7, 5, 12, 3, 0, 15, 11, 8, 4, 1, 9, 10, 2, 14, 13, 16]),\n",
       " array('i', [6, 7, 5, 12, 3, 0, 15, 11, 8, 4, 1, 9, 10, 2, 14, 13, 16]),\n",
       " array('i', [6, 7, 5, 12, 3, 0, 15, 11, 8, 4, 1, 9, 10, 2, 14, 13, 16]),\n",
       " array('i', [6, 7, 5, 12, 3, 0, 15, 11, 8, 4, 1, 9, 10, 2, 14, 13, 16]),\n",
       " array('i', [5, 12, 6, 7, 3, 0, 15, 11, 8, 4, 1, 9, 10, 2, 14, 13, 16]),\n",
       " array('i', [6, 3, 5, 12, 7, 0, 13, 11, 8, 10, 9, 1, 4, 2, 14, 15, 16]),\n",
       " array('i', [6, 7, 5, 12, 3, 0, 15, 11, 8, 4, 1, 9, 10, 2, 14, 13, 16]),\n",
       " array('i', [6, 7, 5, 12, 3, 0, 15, 11, 8, 4, 1, 9, 10, 2, 14, 13, 16]),\n",
       " array('i', [6, 7, 5, 12, 3, 0, 15, 11, 8, 4, 1, 9, 10, 2, 14, 13, 16]),\n",
       " array('i', [6, 7, 5, 12, 3, 0, 15, 11, 8, 4, 1, 9, 10, 2, 14, 13, 16]),\n",
       " array('i', [6, 7, 5, 12, 3, 0, 15, 11, 8, 4, 1, 9, 10, 2, 14, 13, 16]),\n",
       " array('i', [6, 7, 5, 12, 3, 0, 15, 11, 8, 4, 1, 9, 10, 2, 14, 13, 16]),\n",
       " array('i', [6, 7, 5, 12, 3, 0, 15, 11, 8, 4, 1, 9, 10, 2, 14, 13, 16]),\n",
       " array('i', [6, 7, 5, 12, 3, 0, 15, 11, 8, 4, 1, 9, 10, 2, 14, 13, 16]),\n",
       " array('i', [6, 7, 5, 12, 3, 0, 15, 11, 8, 4, 1, 9, 10, 2, 14, 13, 16]),\n",
       " array('i', [6, 7, 5, 12, 3, 0, 15, 11, 8, 4, 1, 9, 10, 2, 14, 13, 16]),\n",
       " array('i', [6, 8, 4, 7, 5, 12, 3, 0, 15, 11, 1, 9, 10, 2, 14, 13, 16]),\n",
       " array('i', [6, 7, 5, 12, 3, 11, 8, 0, 15, 4, 1, 9, 10, 2, 14, 13, 16]),\n",
       " array('i', [6, 7, 5, 12, 3, 0, 15, 11, 8, 4, 1, 9, 10, 2, 14, 13, 16]),\n",
       " array('i', [6, 7, 5, 12, 3, 0, 15, 11, 8, 4, 1, 9, 10, 2, 14, 13, 16]),\n",
       " array('i', [6, 7, 5, 12, 3, 0, 15, 11, 8, 4, 1, 9, 10, 2, 14, 13, 16]),\n",
       " array('i', [6, 7, 5, 12, 3, 0, 15, 11, 8, 4, 1, 9, 10, 2, 14, 13, 16]),\n",
       " array('i', [6, 7, 5, 12, 3, 0, 15, 11, 8, 4, 1, 9, 10, 2, 14, 13, 16]),\n",
       " array('i', [6, 7, 5, 12, 3, 0, 15, 11, 8, 4, 1, 9, 10, 2, 14, 13, 16]),\n",
       " array('i', [6, 7, 5, 12, 3, 0, 15, 11, 8, 4, 1, 9, 10, 2, 14, 13, 16]),\n",
       " array('i', [6, 7, 5, 12, 3, 0, 9, 10, 15, 11, 8, 4, 1, 2, 14, 13, 16]),\n",
       " array('i', [6, 7, 5, 12, 3, 0, 15, 11, 8, 4, 1, 9, 10, 2, 14, 13, 16]),\n",
       " array('i', [6, 7, 5, 12, 3, 0, 15, 11, 8, 4, 1, 9, 10, 2, 14, 13, 16]),\n",
       " array('i', [6, 2, 5, 9, 3, 13, 8, 0, 15, 10, 14, 12, 4, 7, 1, 11, 16]),\n",
       " array('i', [6, 7, 5, 12, 3, 0, 15, 11, 8, 4, 1, 9, 10, 2, 14, 13, 16]),\n",
       " array('i', [6, 7, 5, 12, 3, 0, 15, 11, 8, 4, 1, 9, 10, 2, 14, 13, 16]),\n",
       " array('i', [6, 7, 5, 12, 3, 0, 15, 11, 8, 4, 1, 9, 10, 2, 14, 13, 16]),\n",
       " array('i', [6, 7, 5, 12, 3, 0, 15, 11, 8, 4, 1, 9, 10, 2, 14, 13, 16]),\n",
       " array('i', [6, 7, 5, 12, 3, 0, 15, 11, 8, 4, 1, 9, 10, 2, 14, 13, 16]),\n",
       " array('i', [6, 7, 5, 12, 3, 0, 15, 11, 8, 4, 1, 9, 10, 2, 14, 13, 16]),\n",
       " array('i', [6, 7, 5, 12, 3, 0, 15, 11, 8, 4, 1, 9, 10, 2, 14, 13, 16]),\n",
       " array('i', [6, 7, 5, 12, 3, 0, 15, 11, 8, 4, 1, 9, 10, 2, 14, 13, 16]),\n",
       " array('i', [7, 6, 5, 11, 3, 1, 15, 13, 8, 4, 0, 9, 10, 16, 14, 12, 2]),\n",
       " array('i', [6, 7, 5, 12, 3, 0, 15, 11, 8, 4, 1, 9, 10, 2, 14, 13, 16]),\n",
       " array('i', [6, 7, 5, 12, 3, 0, 15, 11, 8, 4, 1, 9, 10, 2, 14, 13, 16]),\n",
       " array('i', [6, 7, 5, 12, 3, 0, 15, 11, 8, 4, 1, 9, 10, 2, 14, 13, 16]),\n",
       " array('i', [6, 7, 5, 12, 3, 0, 15, 11, 8, 4, 1, 9, 10, 2, 14, 13, 16]),\n",
       " array('i', [6, 7, 5, 12, 3, 0, 15, 11, 8, 4, 1, 9, 10, 2, 14, 13, 16]),\n",
       " array('i', [14, 16, 6, 7, 5, 12, 3, 0, 15, 11, 8, 4, 1, 9, 10, 13, 2]),\n",
       " array('i', [6, 7, 15, 12, 3, 0, 14, 11, 10, 2, 1, 9, 5, 4, 8, 13, 16]),\n",
       " array('i', [6, 7, 5, 12, 3, 0, 15, 11, 8, 4, 1, 9, 10, 2, 14, 13, 16]),\n",
       " array('i', [6, 7, 5, 12, 3, 0, 15, 11, 8, 4, 1, 9, 10, 2, 14, 13, 16]),\n",
       " array('i', [6, 7, 15, 16, 3, 0, 2, 8, 11, 4, 1, 9, 10, 5, 14, 13, 12]),\n",
       " array('i', [6, 7, 5, 12, 3, 0, 15, 11, 8, 4, 1, 9, 10, 2, 14, 13, 16]),\n",
       " array('i', [6, 7, 5, 12, 3, 0, 15, 11, 8, 4, 1, 9, 10, 2, 14, 13, 16]),\n",
       " array('i', [6, 7, 5, 12, 3, 0, 15, 11, 8, 4, 1, 9, 10, 2, 14, 13, 16]),\n",
       " array('i', [6, 7, 5, 12, 3, 0, 15, 11, 8, 4, 1, 9, 10, 2, 14, 13, 16]),\n",
       " array('i', [6, 7, 5, 12, 3, 0, 15, 11, 8, 4, 1, 9, 10, 2, 14, 13, 16]),\n",
       " array('i', [6, 7, 5, 12, 3, 0, 15, 11, 8, 4, 1, 9, 10, 2, 14, 13, 16]),\n",
       " array('i', [6, 7, 5, 12, 3, 0, 15, 11, 8, 4, 1, 9, 10, 2, 14, 13, 16]),\n",
       " array('i', [6, 7, 5, 12, 3, 0, 15, 11, 8, 4, 1, 9, 10, 2, 14, 13, 16]),\n",
       " array('i', [6, 7, 5, 12, 3, 0, 15, 11, 8, 4, 1, 9, 10, 2, 14, 13, 16]),\n",
       " array('i', [6, 7, 5, 12, 3, 0, 15, 11, 8, 4, 1, 9, 10, 2, 14, 13, 16]),\n",
       " array('i', [6, 7, 5, 12, 3, 0, 15, 11, 8, 4, 1, 9, 10, 2, 14, 13, 16]),\n",
       " array('i', [6, 7, 5, 12, 3, 0, 15, 11, 8, 4, 1, 9, 10, 2, 14, 13, 16]),\n",
       " array('i', [6, 7, 5, 12, 3, 0, 15, 11, 8, 4, 1, 9, 10, 2, 14, 13, 16]),\n",
       " array('i', [6, 7, 5, 12, 3, 0, 15, 11, 8, 4, 1, 9, 10, 2, 14, 13, 16]),\n",
       " array('i', [6, 7, 5, 12, 3, 0, 15, 11, 8, 4, 1, 9, 10, 2, 14, 13, 16]),\n",
       " array('i', [6, 7, 5, 9, 10, 12, 3, 0, 15, 11, 8, 4, 1, 2, 14, 13, 16]),\n",
       " array('i', [6, 7, 5, 12, 3, 0, 15, 11, 8, 4, 1, 9, 10, 2, 14, 13, 16]),\n",
       " array('i', [5, 14, 13, 12, 3, 0, 15, 11, 8, 4, 1, 9, 10, 2, 16, 6, 7]),\n",
       " array('i', [6, 4, 13, 7, 5, 8, 3, 0, 15, 11, 12, 16, 2, 9, 10, 14, 1]),\n",
       " array('i', [6, 7, 5, 12, 3, 0, 15, 11, 8, 4, 1, 9, 10, 2, 14, 13, 16]),\n",
       " array('i', [6, 7, 10, 2, 5, 12, 3, 0, 15, 11, 8, 4, 1, 9, 14, 13, 16]),\n",
       " array('i', [6, 7, 5, 12, 3, 0, 15, 11, 8, 4, 1, 9, 10, 2, 14, 13, 16]),\n",
       " array('i', [6, 7, 5, 12, 3, 0, 15, 11, 8, 4, 1, 9, 10, 2, 14, 13, 16]),\n",
       " array('i', [6, 7, 5, 12, 3, 0, 15, 11, 8, 4, 1, 9, 10, 2, 14, 13, 16]),\n",
       " array('i', [6, 5, 2, 9, 3, 0, 4, 15, 11, 8, 1, 12, 10, 7, 14, 13, 16]),\n",
       " array('i', [6, 10, 14, 8, 0, 5, 15, 13, 12, 2, 1, 9, 7, 4, 3, 11, 16]),\n",
       " array('i', [6, 7, 5, 12, 3, 0, 15, 11, 8, 4, 1, 9, 10, 2, 14, 13, 16]),\n",
       " array('i', [7, 5, 12, 3, 0, 15, 6, 11, 8, 4, 1, 9, 10, 2, 14, 13, 16]),\n",
       " array('i', [6, 7, 5, 4, 1, 12, 3, 0, 15, 11, 8, 9, 10, 2, 14, 13, 16]),\n",
       " array('i', [9, 7, 1, 12, 3, 0, 10, 11, 8, 4, 5, 6, 15, 2, 14, 16, 13]),\n",
       " array('i', [6, 7, 5, 12, 3, 0, 15, 11, 8, 4, 1, 9, 10, 2, 14, 13, 16]),\n",
       " array('i', [6, 7, 5, 12, 3, 0, 15, 11, 8, 4, 1, 9, 10, 2, 14, 13, 16]),\n",
       " array('i', [5, 14, 13, 12, 3, 0, 15, 11, 8, 4, 1, 16, 10, 2, 9, 6, 7]),\n",
       " array('i', [6, 7, 5, 12, 3, 0, 15, 11, 8, 4, 1, 9, 10, 2, 14, 13, 16]),\n",
       " array('i', [6, 4, 14, 9, 7, 0, 12, 13, 8, 3, 1, 15, 10, 2, 5, 11, 16]),\n",
       " array('i', [6, 7, 5, 12, 3, 0, 15, 11, 8, 4, 1, 9, 10, 2, 14, 13, 16]),\n",
       " array('i', [13, 16, 6, 7, 5, 12, 3, 0, 15, 11, 8, 4, 1, 9, 10, 2, 14]),\n",
       " array('i', [14, 16, 6, 7, 5, 12, 3, 0, 15, 11, 8, 4, 1, 9, 10, 13, 2]),\n",
       " array('i', [6, 7, 5, 12, 3, 0, 15, 11, 8, 4, 1, 9, 10, 2, 14, 13, 16]),\n",
       " array('i', [6, 7, 5, 12, 3, 0, 15, 11, 8, 4, 1, 9, 10, 2, 14, 13, 16]),\n",
       " array('i', [12, 14, 5, 6, 3, 0, 15, 1, 8, 4, 10, 2, 11, 16, 7, 13, 9]),\n",
       " array('i', [6, 7, 5, 12, 3, 0, 15, 11, 8, 4, 1, 9, 10, 2, 14, 13, 16]),\n",
       " array('i', [6, 7, 5, 12, 3, 0, 15, 11, 8, 4, 1, 9, 10, 2, 14, 13, 16]),\n",
       " array('i', [6, 7, 5, 12, 3, 0, 15, 11, 8, 4, 1, 9, 10, 2, 14, 13, 16]),\n",
       " array('i', [6, 7, 5, 12, 3, 0, 15, 11, 8, 4, 1, 9, 10, 2, 14, 13, 16]),\n",
       " array('i', [6, 7, 5, 12, 3, 0, 15, 11, 8, 4, 1, 9, 10, 2, 14, 13, 16]),\n",
       " array('i', [6, 7, 5, 12, 3, 0, 15, 11, 8, 4, 1, 9, 10, 2, 14, 13, 16]),\n",
       " array('i', [8, 7, 3, 12, 5, 0, 15, 11, 6, 4, 1, 9, 10, 2, 14, 13, 16]),\n",
       " array('i', [6, 7, 5, 12, 3, 0, 15, 11, 8, 4, 1, 9, 10, 2, 14, 13, 16]),\n",
       " array('i', [6, 7, 5, 12, 3, 0, 15, 11, 8, 4, 1, 9, 10, 2, 14, 13, 16]),\n",
       " array('i', [6, 7, 5, 12, 3, 0, 15, 11, 8, 4, 1, 9, 10, 2, 14, 13, 16]),\n",
       " array('i', [6, 7, 5, 12, 3, 0, 15, 11, 8, 4, 1, 9, 10, 2, 14, 13, 16]),\n",
       " array('i', [6, 7, 5, 12, 3, 0, 15, 11, 8, 4, 1, 9, 10, 2, 14, 13, 16]),\n",
       " array('i', [6, 7, 5, 12, 3, 0, 15, 11, 8, 4, 1, 9, 10, 2, 14, 13, 16]),\n",
       " array('i', [6, 7, 5, 12, 3, 0, 15, 11, 8, 4, 1, 9, 10, 2, 14, 13, 16]),\n",
       " array('i', [6, 7, 5, 12, 3, 0, 15, 11, 8, 4, 1, 9, 10, 2, 14, 13, 16]),\n",
       " array('i', [6, 7, 5, 12, 3, 0, 15, 11, 8, 4, 1, 9, 10, 2, 14, 13, 16]),\n",
       " array('i', [6, 7, 5, 12, 3, 0, 15, 11, 8, 4, 1, 9, 10, 2, 14, 13, 16]),\n",
       " array('i', [6, 7, 5, 12, 3, 0, 15, 11, 8, 4, 1, 9, 10, 2, 14, 13, 16]),\n",
       " array('i', [6, 7, 5, 12, 3, 0, 15, 11, 8, 4, 1, 9, 10, 2, 14, 13, 16]),\n",
       " array('i', [6, 10, 5, 0, 3, 11, 15, 16, 8, 4, 1, 9, 7, 12, 14, 13, 2]),\n",
       " array('i', [6, 7, 5, 12, 3, 0, 15, 11, 8, 4, 1, 9, 10, 2, 14, 13, 16]),\n",
       " array('i', [13, 2, 7, 1, 15, 12, 3, 4, 5, 11, 8, 0, 6, 9, 14, 10, 16]),\n",
       " array('i', [6, 7, 5, 12, 3, 0, 15, 11, 8, 4, 1, 9, 10, 2, 14, 13, 16]),\n",
       " array('i', [6, 7, 5, 12, 3, 0, 15, 11, 8, 4, 1, 9, 10, 2, 14, 13, 16]),\n",
       " array('i', [6, 7, 5, 12, 3, 0, 15, 11, 8, 4, 1, 9, 10, 2, 14, 13, 16]),\n",
       " array('i', [6, 7, 5, 12, 3, 0, 15, 11, 8, 4, 1, 9, 10, 2, 14, 13, 16]),\n",
       " array('i', [6, 7, 5, 12, 3, 0, 15, 11, 8, 4, 1, 9, 10, 2, 14, 13, 16]),\n",
       " array('i', [6, 7, 5, 12, 3, 0, 15, 11, 8, 4, 1, 9, 10, 2, 14, 13, 16]),\n",
       " array('i', [6, 7, 5, 12, 3, 0, 15, 11, 8, 4, 1, 9, 10, 2, 14, 13, 16]),\n",
       " array('i', [6, 7, 5, 12, 3, 0, 15, 11, 8, 4, 1, 9, 10, 2, 14, 13, 16]),\n",
       " array('i', [7, 6, 10, 12, 3, 8, 15, 11, 0, 4, 1, 9, 5, 2, 14, 13, 16]),\n",
       " array('i', [6, 7, 5, 1, 9, 12, 3, 0, 15, 11, 8, 4, 10, 2, 14, 13, 16]),\n",
       " array('i', [6, 7, 5, 12, 3, 0, 15, 11, 8, 4, 1, 9, 10, 2, 14, 13, 16]),\n",
       " array('i', [6, 7, 5, 12, 3, 0, 15, 11, 8, 4, 1, 9, 10, 2, 14, 13, 16]),\n",
       " array('i', [6, 7, 5, 12, 3, 0, 15, 11, 8, 4, 1, 9, 10, 2, 14, 13, 16]),\n",
       " array('i', [6, 7, 5, 12, 3, 0, 15, 11, 8, 4, 1, 9, 10, 2, 14, 13, 16]),\n",
       " array('i', [13, 16, 6, 7, 5, 12, 3, 0, 15, 11, 8, 4, 1, 9, 10, 2, 14]),\n",
       " array('i', [13, 16, 6, 7, 5, 12, 3, 0, 15, 11, 8, 4, 1, 9, 10, 2, 14]),\n",
       " array('i', [6, 7, 5, 12, 3, 0, 15, 11, 8, 4, 1, 9, 10, 2, 14, 13, 16]),\n",
       " array('i', [6, 0, 5, 12, 3, 7, 15, 11, 16, 10, 8, 4, 1, 2, 14, 13, 9]),\n",
       " array('i', [13, 16, 6, 7, 5, 12, 3, 0, 15, 11, 8, 4, 1, 9, 10, 2, 14]),\n",
       " array('i', [13, 16, 6, 7, 5, 12, 3, 0, 15, 11, 8, 4, 1, 9, 10, 2, 14]),\n",
       " array('i', [6, 7, 8, 12, 3, 0, 15, 11, 5, 4, 1, 9, 10, 14, 2, 13, 16]),\n",
       " array('i', [6, 7, 5, 12, 2, 14, 3, 0, 15, 11, 8, 4, 1, 9, 10, 13, 16]),\n",
       " array('i', [6, 14, 13, 7, 5, 12, 3, 0, 15, 11, 8, 4, 1, 9, 10, 2, 16]),\n",
       " array('i', [8, 7, 5, 12, 6, 0, 15, 11, 3, 4, 1, 2, 10, 9, 14, 13, 16]),\n",
       " array('i', [6, 7, 5, 12, 3, 0, 15, 11, 8, 4, 1, 9, 10, 2, 14, 13, 16]),\n",
       " array('i', [6, 7, 5, 12, 3, 0, 15, 11, 8, 4, 1, 9, 10, 2, 14, 13, 16]),\n",
       " array('i', [6, 7, 5, 12, 3, 0, 15, 1, 11, 8, 4, 9, 10, 2, 14, 13, 16]),\n",
       " array('i', [6, 7, 5, 12, 3, 0, 15, 11, 8, 1, 9, 4, 10, 2, 14, 13, 16]),\n",
       " array('i', [6, 7, 5, 12, 3, 0, 15, 11, 8, 4, 1, 9, 10, 2, 14, 13, 16]),\n",
       " array('i', [6, 7, 5, 12, 3, 0, 15, 11, 8, 4, 1, 9, 10, 2, 14, 13, 16]),\n",
       " array('i', [6, 7, 5, 12, 3, 0, 15, 11, 8, 4, 9, 10, 1, 2, 14, 13, 16]),\n",
       " array('i', [6, 7, 5, 12, 3, 0, 15, 11, 8, 9, 4, 1, 10, 2, 14, 13, 16]),\n",
       " array('i', [13, 16, 6, 7, 5, 12, 8, 11, 10, 4, 1, 9, 15, 2, 14, 3, 0]),\n",
       " array('i', [6, 7, 5, 12, 3, 0, 15, 11, 8, 4, 1, 9, 10, 2, 14, 13, 16]),\n",
       " array('i', [3, 16, 6, 7, 5, 0, 15, 11, 8, 4, 1, 9, 10, 2, 14, 13, 12]),\n",
       " array('i', [3, 14, 13, 10, 2, 15, 6, 11, 8, 9, 1, 4, 12, 5, 7, 0, 16]),\n",
       " array('i', [5, 12, 3, 0, 10, 2, 15, 11, 8, 4, 1, 9, 14, 13, 16, 6, 7]),\n",
       " array('i', [5, 12, 3, 0, 1, 9, 15, 11, 8, 4, 10, 2, 14, 13, 16, 6, 7]),\n",
       " array('i', [6, 7, 5, 12, 3, 0, 15, 11, 8, 4, 1, 9, 10, 2, 14, 13, 16]),\n",
       " array('i', [6, 7, 5, 12, 3, 0, 15, 11, 8, 4, 1, 9, 10, 2, 14, 13, 16]),\n",
       " array('i', [6, 7, 5, 12, 3, 0, 15, 11, 8, 4, 1, 9, 10, 2, 14, 13, 16]),\n",
       " array('i', [6, 7, 5, 12, 3, 0, 15, 11, 8, 4, 1, 9, 10, 2, 14, 13, 16]),\n",
       " array('i', [6, 0, 14, 12, 3, 7, 10, 11, 8, 5, 1, 9, 15, 2, 4, 13, 16]),\n",
       " array('i', [6, 7, 5, 12, 3, 0, 15, 11, 8, 4, 1, 9, 10, 2, 14, 13, 16]),\n",
       " array('i', [6, 7, 5, 12, 3, 0, 15, 11, 8, 4, 1, 9, 10, 2, 14, 13, 16]),\n",
       " array('i', [6, 7, 5, 12, 3, 0, 15, 11, 8, 4, 1, 9, 10, 2, 14, 13, 16]),\n",
       " array('i', [6, 7, 5, 12, 3, 0, 15, 11, 8, 4, 1, 9, 10, 2, 14, 13, 16]),\n",
       " array('i', [13, 16, 6, 7, 5, 12, 3, 0, 15, 11, 8, 4, 1, 9, 10, 2, 14]),\n",
       " array('i', [6, 7, 5, 12, 3, 0, 15, 11, 8, 4, 1, 9, 10, 2, 14, 13, 16]),\n",
       " array('i', [6, 7, 5, 12, 3, 0, 15, 11, 8, 4, 1, 9, 10, 2, 14, 13, 16]),\n",
       " array('i', [6, 7, 5, 1, 3, 0, 13, 11, 8, 9, 16, 4, 15, 2, 14, 10, 12]),\n",
       " array('i', [6, 7, 5, 12, 3, 0, 15, 11, 8, 4, 1, 9, 10, 2, 14, 13, 16]),\n",
       " array('i', [6, 7, 5, 12, 3, 0, 15, 11, 8, 4, 1, 9, 10, 2, 14, 13, 16]),\n",
       " array('i', [6, 16, 5, 12, 11, 0, 15, 3, 8, 4, 1, 9, 10, 2, 14, 13, 7]),\n",
       " array('i', [6, 7, 5, 12, 3, 0, 15, 11, 8, 4, 1, 9, 10, 2, 14, 13, 16]),\n",
       " array('i', [6, 7, 5, 12, 3, 0, 15, 11, 8, 4, 1, 9, 10, 2, 14, 13, 16]),\n",
       " array('i', [6, 7, 5, 12, 3, 0, 15, 11, 8, 4, 1, 9, 10, 2, 14, 13, 16]),\n",
       " array('i', [6, 7, 5, 12, 3, 0, 15, 11, 8, 4, 1, 14, 13, 9, 10, 2, 16]),\n",
       " array('i', [6, 7, 5, 12, 3, 0, 15, 2, 14, 11, 8, 4, 1, 9, 10, 13, 16]),\n",
       " array('i', [6, 7, 5, 12, 3, 0, 15, 11, 8, 4, 1, 9, 10, 2, 14, 13, 16]),\n",
       " array('i', [6, 7, 5, 12, 3, 0, 15, 11, 8, 4, 1, 9, 10, 2, 14, 13, 16]),\n",
       " array('i', [6, 7, 5, 12, 3, 0, 15, 11, 8, 4, 1, 9, 10, 2, 14, 13, 16]),\n",
       " array('i', [6, 7, 5, 12, 3, 0, 15, 11, 8, 4, 1, 9, 10, 2, 14, 13, 16]),\n",
       " array('i', [6, 7, 5, 12, 3, 0, 15, 11, 8, 4, 1, 9, 10, 2, 14, 13, 16]),\n",
       " array('i', [6, 7, 5, 12, 3, 0, 15, 11, 8, 4, 1, 9, 10, 2, 14, 13, 16]),\n",
       " array('i', [6, 7, 5, 12, 3, 0, 15, 11, 8, 4, 1, 9, 10, 2, 14, 13, 16]),\n",
       " array('i', [6, 7, 5, 12, 3, 0, 15, 11, 8, 4, 1, 9, 10, 2, 14, 13, 16]),\n",
       " array('i', [6, 0, 5, 10, 1, 12, 3, 7, 15, 9, 8, 11, 4, 2, 14, 13, 16]),\n",
       " array('i', [6, 7, 5, 12, 3, 0, 15, 11, 8, 4, 1, 9, 10, 2, 14, 13, 16]),\n",
       " array('i', [6, 7, 5, 12, 3, 0, 15, 11, 8, 4, 1, 9, 10, 2, 14, 13, 16]),\n",
       " array('i', [6, 7, 5, 12, 3, 0, 15, 11, 8, 4, 1, 9, 10, 2, 14, 13, 16]),\n",
       " array('i', [13, 16, 6, 7, 5, 12, 3, 0, 8, 4, 1, 9, 10, 2, 14, 15, 11])]"
      ]
     },
     "execution_count": 43,
     "metadata": {},
     "output_type": "execute_result"
    }
   ],
   "source": [
    "pop"
   ]
  },
  {
   "cell_type": "code",
   "execution_count": 44,
   "metadata": {
    "collapsed": false,
    "scrolled": false
   },
   "outputs": [
    {
     "data": {
      "text/plain": [
       "<matplotlib.axes._subplots.AxesSubplot at 0x7f3b1b03b310>"
      ]
     },
     "execution_count": 44,
     "metadata": {},
     "output_type": "execute_result"
    },
    {
     "data": {
      "image/png": "[encoded data removed]",
      "text/plain": [
       "<matplotlib.figure.Figure at 0x7f3b1b71bed0>"
      ]
     },
     "metadata": {},
     "output_type": "display_data"
    }
   ],
   "source": [
    "df.plot(y=['max','min','std'])"
   ]
  },
  {
   "cell_type": "code",
   "execution_count": 45,
   "metadata": {
    "collapsed": false,
    "scrolled": true
   },
   "outputs": [
    {
     "data": {
      "image/png": "[encoded data removed]",
      "text/plain": [
       "<matplotlib.figure.Figure at 0x7f3b1b2b0bd0>"
      ]
     },
     "metadata": {},
     "output_type": "display_data"
    }
   ],
   "source": [
    "a=df.plot(y=['max','min'],title='Ordered crossover with 25% mutation rate').fill_between(xrange(0,41),df['min'],df['max'],color='red',alpha='0.5')\n"
   ]
  }
 ],
 "metadata": {
  "kernelspec": {
   "display_name": "Python 2",
   "language": "python",
   "name": "python2"
  },
  "language_info": {
   "codemirror_mode": {
    "name": "ipython",
    "version": 2
   },
   "file_extension": ".py",
   "mimetype": "text/x-python",
   "name": "python",
   "nbconvert_exporter": "python",
   "pygments_lexer": "ipython2",
   "version": "2.7.11"
  }
 },
 "nbformat": 4,
 "nbformat_minor": 0
}

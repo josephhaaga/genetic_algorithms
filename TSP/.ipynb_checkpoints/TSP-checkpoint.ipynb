{
 "cells": [
  {
   "cell_type": "code",
   "execution_count": 1,
   "metadata": {
    "collapsed": false
   },
   "outputs": [],
   "source": [
    "import deap as dp\n",
    "import array\n",
    "import random\n",
    "import json\n",
    "import pandas as pd\n",
    "import numpy as np\n",
    "%matplotlib inline\n",
    "from deap import algorithms\n",
    "from deap import base\n",
    "from deap import creator\n",
    "from deap import tools"
   ]
  },
  {
   "cell_type": "code",
   "execution_count": 2,
   "metadata": {
    "collapsed": false,
    "scrolled": false
   },
   "outputs": [],
   "source": [
    "# gr*.json contains the distance map in list of list style in JSON format\n",
    "# Optimal solutions are : gr17 = 2085, gr24 = 1272, gr120 = 6942\n",
    "with open(\"gr17.json\", \"r\") as tsp_data:\n",
    "    tsp = json.load(tsp_data)\n",
    "\n",
    "distance_map = tsp[\"DistanceMatrix\"]\n",
    "IND_SIZE = tsp[\"TourSize\"]\n",
    "\n",
    "creator.create(\"FitnessMin\", base.Fitness, weights=(-1.0,))\n",
    "creator.create(\"Individual\", array.array, typecode='i', fitness=creator.FitnessMin)\n"
   ]
  },
  {
   "cell_type": "code",
   "execution_count": 3,
   "metadata": {
    "collapsed": false
   },
   "outputs": [],
   "source": [
    "toolbox = base.Toolbox()\n",
    "\n",
    "# Attribute generator\n",
    "toolbox.register(\"indices\", random.sample, range(IND_SIZE), IND_SIZE)\n",
    "\n",
    "# Structure initializers\n",
    "toolbox.register(\"individual\", tools.initIterate, creator.Individual, toolbox.indices)\n",
    "toolbox.register(\"population\", tools.initRepeat, list, toolbox.individual)\n",
    "\n",
    "def evalTSP(individual):\n",
    "    distance = distance_map[individual[-1]][individual[0]]\n",
    "    for gene1, gene2 in zip(individual[0:-1], individual[1:]):\n",
    "        distance += distance_map[gene1][gene2]\n",
    "    return distance,\n",
    "\n",
    "toolbox.register(\"mate\", tools.cxPartialyMatched)\n",
    "toolbox.register(\"mutate\", tools.mutShuffleIndexes, indpb=0.05)\n",
    "toolbox.register(\"select\", tools.selTournament, tournsize=3)\n",
    "toolbox.register(\"evaluate\", evalTSP)"
   ]
  },
  {
   "cell_type": "code",
   "execution_count": 4,
   "metadata": {
    "collapsed": false,
    "scrolled": true
   },
   "outputs": [
    {
     "name": "stdout",
     "output_type": "stream",
     "text": [
      "gen\tnevals\tavg   \tstd    \tmin \tmax \n",
      "0  \t300   \t4700.7\t424.386\t3606\t5842\n",
      "1  \t217   \t4463.74\t385.243\t3587\t5808\n",
      "2  \t225   \t4364.21\t416.823\t3364\t5513\n",
      "3  \t223   \t4285.67\t458.048\t3201\t5501\n",
      "4  \t223   \t4206.02\t475.679\t3215\t5606\n",
      "5  \t230   \t4146.42\t504.015\t3150\t5943\n",
      "6  \t247   \t4123.21\t513.325\t3078\t5652\n",
      "7  \t231   \t4081.35\t533.341\t2616\t5580\n",
      "8  \t232   \t4027.11\t510.98 \t2616\t5571\n",
      "9  \t214   \t3978.78\t525.99 \t2616\t5645\n",
      "10 \t228   \t3943.08\t569.815\t2811\t5422\n",
      "11 \t235   \t3900.61\t570.03 \t2542\t5524\n",
      "12 \t213   \t3816.81\t565.796\t2542\t5477\n",
      "13 \t222   \t3744.63\t560.789\t2542\t5049\n",
      "14 \t228   \t3643.4 \t559.641\t2542\t5217\n",
      "15 \t229   \t3551.48\t572.28 \t2526\t5100\n",
      "16 \t226   \t3391.22\t491.641\t2505\t5370\n",
      "17 \t236   \t3253.73\t496.11 \t2468\t5012\n",
      "18 \t221   \t3050.2 \t378.099\t2412\t4823\n",
      "19 \t215   \t2918.94\t328.25 \t2339\t4331\n",
      "20 \t205   \t2798.48\t314.093\t2339\t3940\n",
      "21 \t209   \t2707.55\t352.161\t2276\t4257\n",
      "22 \t216   \t2568.45\t321.18 \t2233\t4708\n",
      "23 \t244   \t2498.27\t336.388\t2233\t4785\n",
      "24 \t219   \t2424.09\t262.651\t2228\t3928\n",
      "25 \t231   \t2406.27\t326.672\t2157\t4838\n",
      "26 \t217   \t2357.61\t288.564\t2147\t4444\n",
      "27 \t209   \t2310.19\t229.065\t2157\t3857\n",
      "28 \t228   \t2322.92\t336.49 \t2144\t4419\n",
      "29 \t236   \t2287.16\t286.619\t2143\t4101\n",
      "30 \t238   \t2292.43\t344.675\t2135\t4190\n",
      "31 \t215   \t2244.14\t256.413\t2132\t3866\n",
      "32 \t224   \t2237.4 \t300.56 \t2132\t4216\n",
      "33 \t237   \t2298.76\t394.533\t2132\t4408\n",
      "34 \t213   \t2241.81\t310.337\t2132\t3916\n",
      "35 \t241   \t2235.37\t298.392\t2132\t4026\n",
      "36 \t219   \t2264.78\t379.305\t2132\t4704\n",
      "37 \t239   \t2230.39\t303.224\t2132\t3919\n",
      "38 \t226   \t2249.34\t345.478\t2132\t4776\n",
      "39 \t226   \t2222.23\t303.603\t2085\t4391\n",
      "40 \t220   \t2228.51\t329.468\t2085\t4235\n"
     ]
    }
   ],
   "source": [
    "# main() exposed\n",
    "\n",
    "random.seed(169)\n",
    "\n",
    "pop = toolbox.population(n=300)\n",
    "\n",
    "hof = tools.HallOfFame(1)\n",
    "stats = tools.Statistics(lambda ind: ind.fitness.values)\n",
    "stats.register(\"avg\", np.mean)\n",
    "stats.register(\"std\", np.std)\n",
    "stats.register(\"min\", np.min)\n",
    "stats.register(\"max\", np.max)\n",
    "\n",
    "result_object=algorithms.eaSimple(pop, toolbox, 0.7, 0.2, 40, stats=stats, \n",
    "                    halloffame=hof)"
   ]
  },
  {
   "cell_type": "code",
   "execution_count": null,
   "metadata": {
    "collapsed": true
   },
   "outputs": [],
   "source": []
  },
  {
   "cell_type": "code",
   "execution_count": 5,
   "metadata": {
    "collapsed": false
   },
   "outputs": [
    {
     "data": {
      "text/plain": [
       "385.24293512881798"
      ]
     },
     "execution_count": 5,
     "metadata": {},
     "output_type": "execute_result"
    }
   ],
   "source": [
    "result_object[1][1]['std']"
   ]
  },
  {
   "cell_type": "code",
   "execution_count": 6,
   "metadata": {
    "collapsed": false
   },
   "outputs": [
    {
     "data": {
      "text/plain": [
       "dict"
      ]
     },
     "execution_count": 6,
     "metadata": {},
     "output_type": "execute_result"
    }
   ],
   "source": [
    "type(result_object[1][1])"
   ]
  },
  {
   "cell_type": "code",
   "execution_count": 36,
   "metadata": {
    "collapsed": false
   },
   "outputs": [
    {
     "data": {
      "text/plain": [
       "<matplotlib.axes._subplots.AxesSubplot at 0x7f2d880ebdd0>"
      ]
     },
     "execution_count": 36,
     "metadata": {},
     "output_type": "execute_result"
    },
    {
     "data": {
      "image/png": "[encoded data removed]",
      "text/plain": [
       "<matplotlib.figure.Figure at 0x7f2d884aacd0>"
      ]
     },
     "metadata": {},
     "output_type": "display_data"
    }
   ],
   "source": [
    "pd.DataFrame(data=result_object[1]).plot()"
   ]
  },
  {
   "cell_type": "code",
   "execution_count": null,
   "metadata": {
    "collapsed": true
   },
   "outputs": [],
   "source": [
    "pd.DataFrame(data=result_object[1]).to_csv"
   ]
  },
  {
   "cell_type": "code",
   "execution_count": 46,
   "metadata": {
    "collapsed": false
   },
   "outputs": [
    {
     "data": {
      "text/plain": [
       "{'avg': 4285.6700000000001,\n",
       " 'gen': 3,\n",
       " 'max': 5501.0,\n",
       " 'min': 3201.0,\n",
       " 'nevals': 223,\n",
       " 'std': 458.04804817107708}"
      ]
     },
     "execution_count": 46,
     "metadata": {},
     "output_type": "execute_result"
    }
   ],
   "source": [
    "result_object[1][3]"
   ]
  },
  {
   "cell_type": "code",
   "execution_count": 8,
   "metadata": {
    "collapsed": false
   },
   "outputs": [],
   "source": [
    "df = pd.DataFrame().from_dict(result_object[1])"
   ]
  },
  {
   "cell_type": "code",
   "execution_count": 9,
   "metadata": {
    "collapsed": false
   },
   "outputs": [
    {
     "data": {
      "text/plain": [
       "<matplotlib.axes._subplots.AxesSubplot at 0x7f2d8b4566d0>"
      ]
     },
     "execution_count": 9,
     "metadata": {},
     "output_type": "execute_result"
    },
    {
     "data": {
      "image/png": "[encoded data removed]",
      "text/plain": [
       "<matplotlib.figure.Figure at 0x7f2db07f8150>"
      ]
     },
     "metadata": {},
     "output_type": "display_data"
    }
   ],
   "source": [
    "df.plot(y='std')"
   ]
  },
  {
   "cell_type": "code",
   "execution_count": 10,
   "metadata": {
    "collapsed": false
   },
   "outputs": [
    {
     "data": {
      "text/plain": [
       "<matplotlib.axes._subplots.AxesSubplot at 0x7f2d8b49d950>"
      ]
     },
     "execution_count": 10,
     "metadata": {},
     "output_type": "execute_result"
    },
    {
     "data": {
      "image/png": "[encoded data removed]",
      "text/plain": [
       "<matplotlib.figure.Figure at 0x7f2db1066c90>"
      ]
     },
     "metadata": {},
     "output_type": "display_data"
    }
   ],
   "source": [
    "df.plot(y='min')"
   ]
  },
  {
   "cell_type": "code",
   "execution_count": 11,
   "metadata": {
    "collapsed": false
   },
   "outputs": [
    {
     "data": {
      "text/plain": [
       "[array('i', [7, 6, 12, 3, 0, 15, 11, 8, 4, 1, 9, 10, 14, 2, 13, 16, 5]),\n",
       " array('i', [7, 6, 12, 3, 0, 15, 11, 8, 4, 1, 9, 10, 14, 2, 13, 16, 5]),\n",
       " array('i', [7, 6, 12, 3, 0, 15, 11, 8, 4, 1, 9, 10, 14, 2, 13, 16, 5]),\n",
       " array('i', [7, 6, 12, 3, 0, 15, 11, 8, 4, 1, 9, 10, 14, 2, 13, 16, 5]),\n",
       " array('i', [7, 6, 12, 3, 0, 15, 11, 8, 4, 1, 9, 10, 14, 2, 13, 16, 5]),\n",
       " array('i', [7, 6, 12, 3, 0, 15, 11, 8, 4, 1, 9, 10, 14, 2, 13, 16, 5]),\n",
       " array('i', [7, 6, 12, 3, 0, 15, 11, 8, 4, 1, 9, 10, 14, 2, 13, 16, 5]),\n",
       " array('i', [7, 6, 12, 3, 0, 15, 11, 8, 4, 1, 9, 10, 14, 2, 13, 16, 5]),\n",
       " array('i', [7, 6, 12, 3, 0, 15, 11, 8, 4, 1, 9, 10, 14, 2, 13, 16, 5]),\n",
       " array('i', [7, 6, 12, 3, 0, 15, 11, 8, 4, 1, 9, 10, 14, 2, 13, 16, 5]),\n",
       " array('i', [12, 6, 0, 3, 7, 15, 11, 8, 4, 1, 9, 10, 16, 2, 13, 14, 5]),\n",
       " array('i', [7, 6, 12, 3, 0, 15, 11, 8, 4, 1, 9, 10, 14, 2, 13, 16, 5]),\n",
       " array('i', [7, 6, 12, 3, 0, 15, 11, 8, 4, 1, 9, 10, 14, 2, 13, 16, 5]),\n",
       " array('i', [7, 6, 12, 3, 0, 15, 11, 8, 4, 1, 9, 10, 14, 2, 13, 16, 5]),\n",
       " array('i', [7, 6, 12, 3, 0, 15, 11, 8, 4, 1, 9, 10, 14, 2, 13, 16, 5]),\n",
       " array('i', [7, 6, 12, 3, 0, 15, 11, 8, 4, 1, 9, 10, 14, 2, 13, 16, 5]),\n",
       " array('i', [7, 6, 12, 3, 0, 15, 11, 8, 4, 1, 9, 10, 14, 2, 13, 16, 5]),\n",
       " array('i', [7, 6, 12, 3, 0, 15, 11, 8, 4, 1, 9, 10, 14, 2, 13, 16, 5]),\n",
       " array('i', [7, 6, 12, 3, 0, 15, 11, 8, 4, 1, 9, 10, 14, 2, 13, 16, 5]),\n",
       " array('i', [7, 6, 12, 3, 0, 15, 11, 8, 4, 1, 9, 10, 14, 2, 13, 16, 5]),\n",
       " array('i', [7, 6, 12, 3, 0, 15, 11, 8, 4, 1, 9, 10, 14, 2, 13, 16, 5]),\n",
       " array('i', [7, 6, 12, 3, 0, 15, 11, 8, 4, 1, 9, 10, 14, 2, 13, 16, 5]),\n",
       " array('i', [7, 6, 12, 3, 0, 15, 11, 8, 4, 1, 9, 10, 14, 2, 13, 16, 5]),\n",
       " array('i', [7, 6, 12, 3, 0, 15, 11, 8, 4, 1, 9, 10, 14, 2, 13, 16, 5]),\n",
       " array('i', [11, 6, 12, 3, 0, 15, 7, 8, 4, 1, 9, 10, 14, 2, 13, 16, 5]),\n",
       " array('i', [7, 6, 12, 3, 0, 15, 11, 8, 4, 1, 9, 10, 14, 2, 13, 16, 5]),\n",
       " array('i', [7, 6, 12, 3, 0, 15, 11, 8, 4, 1, 9, 10, 14, 2, 13, 16, 5]),\n",
       " array('i', [7, 6, 12, 3, 0, 15, 11, 8, 4, 1, 9, 10, 14, 2, 13, 16, 5]),\n",
       " array('i', [7, 6, 12, 3, 0, 15, 11, 8, 4, 1, 9, 10, 14, 2, 13, 16, 5]),\n",
       " array('i', [7, 6, 12, 3, 0, 15, 11, 8, 4, 1, 9, 10, 14, 2, 13, 16, 5]),\n",
       " array('i', [7, 6, 12, 3, 0, 15, 11, 8, 4, 1, 9, 10, 14, 2, 13, 16, 5]),\n",
       " array('i', [7, 6, 12, 3, 0, 15, 11, 8, 4, 1, 9, 10, 14, 2, 13, 16, 5]),\n",
       " array('i', [7, 6, 12, 3, 0, 15, 11, 8, 4, 1, 9, 10, 14, 2, 13, 16, 5]),\n",
       " array('i', [7, 6, 12, 3, 0, 15, 11, 8, 4, 1, 9, 10, 14, 2, 13, 16, 5]),\n",
       " array('i', [7, 6, 12, 3, 0, 15, 11, 8, 4, 1, 9, 10, 14, 2, 13, 16, 5]),\n",
       " array('i', [7, 6, 12, 3, 0, 15, 11, 8, 4, 1, 9, 10, 14, 2, 13, 16, 5]),\n",
       " array('i', [7, 6, 12, 3, 0, 15, 11, 8, 4, 1, 9, 10, 14, 2, 13, 16, 5]),\n",
       " array('i', [7, 6, 12, 3, 0, 15, 11, 8, 4, 1, 9, 10, 14, 2, 13, 16, 5]),\n",
       " array('i', [7, 6, 12, 3, 0, 15, 11, 8, 4, 1, 9, 10, 14, 2, 13, 16, 5]),\n",
       " array('i', [7, 6, 12, 3, 0, 9, 11, 8, 4, 1, 15, 10, 14, 2, 13, 16, 5]),\n",
       " array('i', [7, 6, 12, 3, 0, 15, 11, 8, 4, 1, 9, 10, 14, 2, 13, 16, 5]),\n",
       " array('i', [7, 6, 12, 3, 0, 15, 11, 5, 4, 8, 9, 10, 14, 2, 13, 16, 1]),\n",
       " array('i', [7, 6, 12, 3, 0, 15, 11, 8, 4, 1, 9, 10, 14, 2, 13, 16, 5]),\n",
       " array('i', [7, 6, 12, 3, 0, 15, 11, 8, 4, 1, 9, 10, 14, 2, 13, 16, 5]),\n",
       " array('i', [7, 6, 12, 3, 0, 15, 11, 8, 4, 1, 9, 10, 14, 2, 13, 16, 5]),\n",
       " array('i', [7, 6, 12, 3, 0, 15, 11, 8, 4, 1, 9, 10, 14, 2, 13, 16, 5]),\n",
       " array('i', [7, 6, 12, 3, 0, 15, 11, 8, 4, 1, 9, 10, 14, 2, 13, 16, 5]),\n",
       " array('i', [7, 6, 12, 3, 0, 15, 11, 8, 4, 1, 9, 10, 14, 2, 13, 16, 5]),\n",
       " array('i', [7, 6, 12, 3, 0, 15, 11, 8, 4, 1, 9, 10, 14, 2, 13, 16, 5]),\n",
       " array('i', [7, 6, 12, 3, 0, 15, 11, 8, 4, 1, 9, 10, 14, 2, 13, 16, 5]),\n",
       " array('i', [7, 6, 12, 3, 0, 15, 11, 8, 4, 1, 9, 10, 14, 2, 13, 16, 5]),\n",
       " array('i', [7, 6, 8, 3, 1, 15, 11, 12, 4, 0, 9, 10, 14, 2, 13, 16, 5]),\n",
       " array('i', [7, 6, 12, 3, 0, 15, 11, 8, 4, 1, 9, 10, 14, 2, 13, 16, 5]),\n",
       " array('i', [7, 6, 12, 3, 0, 15, 11, 8, 4, 1, 9, 10, 14, 2, 13, 16, 5]),\n",
       " array('i', [7, 6, 12, 3, 0, 15, 11, 13, 4, 9, 1, 10, 14, 2, 8, 16, 5]),\n",
       " array('i', [7, 6, 12, 3, 0, 15, 11, 8, 4, 1, 9, 10, 14, 2, 13, 16, 5]),\n",
       " array('i', [7, 6, 12, 3, 0, 15, 11, 8, 4, 1, 9, 10, 14, 2, 13, 16, 5]),\n",
       " array('i', [7, 6, 12, 3, 0, 15, 11, 8, 4, 1, 9, 10, 14, 2, 13, 16, 5]),\n",
       " array('i', [7, 6, 12, 3, 0, 15, 11, 8, 4, 1, 9, 10, 14, 2, 13, 16, 5]),\n",
       " array('i', [7, 6, 12, 3, 0, 15, 11, 8, 4, 1, 9, 10, 14, 2, 13, 16, 5]),\n",
       " array('i', [10, 6, 12, 3, 0, 15, 11, 8, 4, 1, 9, 7, 14, 2, 13, 16, 5]),\n",
       " array('i', [7, 15, 12, 13, 0, 6, 11, 8, 4, 1, 9, 10, 14, 2, 3, 16, 5]),\n",
       " array('i', [7, 6, 12, 3, 0, 15, 11, 8, 4, 1, 9, 10, 14, 2, 13, 16, 5]),\n",
       " array('i', [7, 6, 12, 3, 0, 15, 11, 8, 4, 1, 9, 10, 14, 2, 13, 16, 5]),\n",
       " array('i', [7, 6, 12, 3, 0, 15, 11, 8, 4, 1, 9, 10, 14, 2, 13, 16, 5]),\n",
       " array('i', [7, 6, 12, 3, 0, 15, 11, 8, 4, 1, 9, 10, 14, 2, 13, 16, 5]),\n",
       " array('i', [7, 6, 12, 3, 0, 15, 11, 8, 4, 1, 9, 10, 14, 2, 13, 16, 5]),\n",
       " array('i', [7, 6, 12, 3, 0, 15, 11, 8, 4, 1, 9, 10, 14, 2, 13, 16, 5]),\n",
       " array('i', [7, 6, 12, 3, 0, 15, 11, 8, 4, 1, 9, 10, 14, 2, 13, 16, 5]),\n",
       " array('i', [7, 6, 12, 3, 0, 15, 11, 8, 4, 1, 9, 10, 14, 2, 13, 16, 5]),\n",
       " array('i', [7, 6, 12, 1, 0, 16, 11, 8, 4, 3, 9, 10, 14, 2, 13, 15, 5]),\n",
       " array('i', [7, 6, 12, 3, 0, 15, 11, 8, 4, 1, 9, 10, 14, 2, 13, 16, 5]),\n",
       " array('i', [7, 6, 12, 3, 0, 15, 11, 8, 4, 1, 9, 13, 14, 2, 10, 16, 5]),\n",
       " array('i', [14, 6, 12, 3, 0, 15, 11, 8, 4, 1, 9, 10, 7, 2, 13, 16, 5]),\n",
       " array('i', [7, 6, 12, 3, 0, 15, 11, 8, 4, 1, 9, 10, 14, 2, 13, 16, 5]),\n",
       " array('i', [7, 6, 12, 3, 0, 15, 11, 8, 4, 1, 9, 10, 14, 2, 13, 16, 5]),\n",
       " array('i', [7, 11, 12, 3, 0, 15, 6, 10, 4, 1, 9, 8, 14, 2, 13, 16, 5]),\n",
       " array('i', [6, 7, 12, 3, 0, 15, 11, 2, 4, 5, 9, 10, 14, 8, 13, 16, 1]),\n",
       " array('i', [7, 6, 12, 3, 0, 15, 11, 8, 4, 1, 9, 10, 14, 2, 13, 16, 5]),\n",
       " array('i', [7, 6, 12, 3, 0, 15, 11, 8, 4, 1, 9, 10, 14, 2, 13, 16, 5]),\n",
       " array('i', [7, 6, 12, 3, 0, 15, 11, 8, 4, 1, 9, 10, 14, 2, 13, 16, 5]),\n",
       " array('i', [7, 6, 12, 3, 0, 15, 11, 8, 4, 1, 9, 10, 14, 2, 13, 16, 5]),\n",
       " array('i', [7, 6, 12, 3, 0, 15, 11, 8, 4, 1, 9, 10, 14, 2, 13, 16, 5]),\n",
       " array('i', [7, 6, 12, 3, 0, 15, 11, 8, 4, 1, 9, 10, 14, 2, 13, 16, 5]),\n",
       " array('i', [7, 6, 12, 3, 0, 15, 11, 8, 4, 1, 9, 10, 14, 2, 13, 16, 5]),\n",
       " array('i', [7, 6, 12, 3, 0, 15, 11, 8, 4, 1, 9, 10, 14, 2, 13, 16, 5]),\n",
       " array('i', [7, 6, 12, 3, 0, 15, 11, 13, 4, 1, 9, 10, 14, 2, 8, 16, 5]),\n",
       " array('i', [7, 6, 12, 3, 0, 15, 11, 8, 4, 1, 9, 10, 14, 2, 13, 16, 5]),\n",
       " array('i', [7, 6, 12, 3, 0, 15, 11, 8, 4, 1, 9, 10, 14, 2, 13, 16, 5]),\n",
       " array('i', [7, 6, 12, 3, 0, 15, 11, 8, 4, 1, 9, 10, 14, 2, 13, 16, 5]),\n",
       " array('i', [7, 6, 12, 3, 0, 15, 11, 8, 4, 1, 9, 10, 14, 2, 13, 16, 5]),\n",
       " array('i', [7, 6, 12, 3, 0, 15, 11, 8, 4, 1, 9, 10, 14, 2, 13, 16, 5]),\n",
       " array('i', [7, 6, 12, 3, 0, 15, 11, 8, 4, 1, 9, 10, 14, 2, 13, 16, 5]),\n",
       " array('i', [7, 6, 12, 3, 0, 15, 11, 8, 4, 1, 9, 10, 14, 2, 13, 16, 5]),\n",
       " array('i', [7, 6, 12, 3, 0, 15, 11, 8, 4, 1, 9, 10, 14, 2, 13, 16, 5]),\n",
       " array('i', [7, 6, 12, 3, 0, 15, 11, 8, 4, 1, 9, 10, 14, 2, 13, 16, 5]),\n",
       " array('i', [7, 6, 12, 3, 0, 15, 11, 8, 4, 1, 9, 10, 14, 2, 13, 16, 5]),\n",
       " array('i', [7, 6, 12, 3, 0, 15, 11, 8, 4, 1, 9, 10, 14, 2, 13, 16, 5]),\n",
       " array('i', [7, 6, 12, 3, 0, 15, 11, 8, 4, 1, 9, 10, 14, 2, 13, 16, 5]),\n",
       " array('i', [7, 6, 12, 3, 0, 15, 11, 8, 4, 1, 9, 10, 14, 2, 13, 16, 5]),\n",
       " array('i', [7, 6, 12, 3, 0, 15, 11, 8, 4, 1, 9, 10, 14, 2, 13, 16, 5]),\n",
       " array('i', [7, 6, 12, 3, 0, 15, 11, 8, 4, 1, 9, 10, 14, 2, 13, 16, 5]),\n",
       " array('i', [7, 6, 12, 3, 0, 15, 11, 8, 4, 1, 9, 10, 14, 2, 13, 16, 5]),\n",
       " array('i', [7, 6, 12, 3, 0, 15, 11, 8, 4, 1, 9, 10, 14, 2, 13, 16, 5]),\n",
       " array('i', [7, 6, 12, 3, 0, 15, 11, 8, 4, 1, 9, 10, 14, 2, 13, 16, 5]),\n",
       " array('i', [7, 6, 12, 3, 0, 15, 11, 8, 4, 1, 9, 10, 14, 2, 13, 16, 5]),\n",
       " array('i', [7, 6, 12, 3, 0, 15, 11, 8, 4, 1, 9, 10, 14, 2, 13, 16, 5]),\n",
       " array('i', [7, 6, 12, 3, 0, 15, 11, 8, 4, 1, 9, 10, 14, 2, 13, 16, 5]),\n",
       " array('i', [7, 6, 12, 3, 0, 15, 11, 8, 4, 1, 9, 10, 14, 2, 13, 16, 5]),\n",
       " array('i', [7, 6, 12, 3, 0, 15, 11, 8, 4, 1, 9, 10, 14, 2, 13, 16, 5]),\n",
       " array('i', [6, 7, 12, 3, 5, 15, 11, 8, 4, 1, 9, 10, 14, 2, 13, 16, 0]),\n",
       " array('i', [7, 11, 12, 3, 0, 15, 6, 8, 4, 1, 9, 10, 14, 2, 13, 16, 5]),\n",
       " array('i', [7, 6, 12, 3, 0, 14, 11, 8, 4, 1, 9, 10, 15, 2, 13, 16, 5]),\n",
       " array('i', [7, 6, 12, 3, 0, 15, 11, 8, 4, 1, 9, 10, 14, 2, 13, 16, 5]),\n",
       " array('i', [7, 6, 12, 3, 0, 15, 11, 8, 4, 1, 9, 10, 14, 2, 13, 16, 5]),\n",
       " array('i', [7, 6, 12, 3, 0, 15, 11, 8, 4, 1, 9, 10, 14, 2, 13, 16, 5]),\n",
       " array('i', [7, 6, 12, 3, 0, 15, 11, 8, 4, 1, 9, 10, 14, 2, 13, 16, 5]),\n",
       " array('i', [7, 6, 12, 3, 0, 15, 11, 8, 4, 1, 9, 10, 14, 2, 13, 16, 5]),\n",
       " array('i', [7, 6, 12, 3, 0, 15, 11, 8, 4, 1, 9, 10, 14, 2, 13, 16, 5]),\n",
       " array('i', [7, 6, 12, 3, 0, 15, 11, 8, 4, 1, 9, 10, 14, 2, 13, 16, 5]),\n",
       " array('i', [7, 6, 12, 3, 0, 15, 11, 8, 4, 1, 9, 10, 14, 2, 13, 16, 5]),\n",
       " array('i', [7, 6, 12, 3, 0, 15, 11, 8, 4, 1, 9, 10, 14, 2, 13, 16, 5]),\n",
       " array('i', [7, 6, 12, 3, 0, 15, 11, 8, 4, 1, 9, 10, 14, 2, 13, 16, 5]),\n",
       " array('i', [7, 6, 12, 3, 0, 15, 11, 8, 4, 1, 9, 10, 14, 2, 13, 16, 5]),\n",
       " array('i', [7, 6, 12, 3, 0, 15, 11, 8, 4, 1, 9, 10, 14, 2, 13, 16, 5]),\n",
       " array('i', [7, 6, 12, 3, 0, 15, 11, 8, 4, 1, 9, 10, 14, 2, 13, 16, 5]),\n",
       " array('i', [7, 6, 12, 3, 0, 15, 11, 8, 4, 1, 9, 10, 14, 2, 13, 16, 5]),\n",
       " array('i', [7, 6, 12, 3, 0, 15, 11, 8, 4, 1, 9, 10, 14, 2, 13, 16, 5]),\n",
       " array('i', [7, 6, 12, 3, 0, 15, 11, 8, 4, 1, 9, 10, 14, 2, 13, 16, 5]),\n",
       " array('i', [7, 6, 12, 3, 0, 15, 11, 8, 4, 1, 9, 10, 14, 2, 13, 16, 5]),\n",
       " array('i', [7, 6, 12, 3, 0, 15, 11, 8, 4, 1, 9, 10, 14, 2, 13, 16, 5]),\n",
       " array('i', [7, 6, 9, 3, 0, 15, 11, 8, 4, 1, 12, 10, 14, 2, 13, 16, 5]),\n",
       " array('i', [7, 6, 12, 3, 0, 15, 11, 8, 4, 1, 9, 10, 2, 14, 13, 16, 5]),\n",
       " array('i', [7, 6, 12, 3, 0, 15, 11, 8, 4, 1, 9, 10, 14, 2, 13, 16, 5]),\n",
       " array('i', [7, 6, 12, 3, 0, 15, 11, 8, 4, 1, 9, 10, 14, 2, 13, 16, 5]),\n",
       " array('i', [7, 6, 12, 3, 0, 15, 11, 8, 4, 1, 9, 10, 2, 14, 13, 16, 5]),\n",
       " array('i', [7, 6, 12, 3, 0, 15, 11, 8, 4, 1, 9, 10, 14, 2, 13, 16, 5]),\n",
       " array('i', [7, 6, 12, 3, 0, 15, 11, 8, 4, 1, 9, 10, 14, 2, 13, 16, 5]),\n",
       " array('i', [7, 6, 12, 3, 0, 15, 11, 8, 4, 1, 9, 10, 14, 2, 13, 16, 5]),\n",
       " array('i', [7, 6, 12, 3, 0, 15, 11, 8, 4, 1, 9, 10, 14, 2, 13, 16, 5]),\n",
       " array('i', [7, 6, 12, 3, 0, 15, 11, 8, 4, 1, 9, 10, 14, 2, 13, 16, 5]),\n",
       " array('i', [7, 6, 12, 3, 0, 15, 11, 8, 4, 1, 9, 10, 14, 2, 13, 16, 5]),\n",
       " array('i', [7, 6, 12, 3, 0, 15, 11, 8, 4, 1, 9, 10, 14, 2, 13, 16, 5]),\n",
       " array('i', [7, 6, 12, 3, 0, 15, 11, 8, 4, 1, 9, 10, 14, 2, 13, 16, 5]),\n",
       " array('i', [7, 6, 12, 3, 0, 15, 11, 8, 4, 1, 9, 10, 14, 2, 13, 16, 5]),\n",
       " array('i', [7, 6, 12, 3, 0, 15, 11, 8, 4, 1, 9, 10, 14, 2, 13, 16, 5]),\n",
       " array('i', [7, 6, 12, 3, 0, 15, 11, 8, 4, 1, 9, 10, 14, 2, 13, 16, 5]),\n",
       " array('i', [7, 6, 12, 3, 0, 15, 11, 8, 4, 1, 9, 10, 14, 2, 13, 16, 5]),\n",
       " array('i', [7, 6, 12, 3, 0, 15, 11, 8, 4, 1, 9, 10, 14, 2, 13, 16, 5]),\n",
       " array('i', [7, 6, 12, 3, 0, 15, 11, 8, 4, 1, 9, 10, 14, 2, 13, 16, 5]),\n",
       " array('i', [7, 6, 12, 3, 0, 15, 11, 8, 4, 1, 9, 10, 14, 2, 13, 16, 5]),\n",
       " array('i', [7, 6, 12, 3, 0, 15, 11, 8, 4, 1, 9, 10, 14, 2, 13, 16, 5]),\n",
       " array('i', [7, 6, 12, 3, 0, 15, 11, 8, 4, 1, 9, 10, 14, 2, 13, 16, 5]),\n",
       " array('i', [7, 6, 12, 3, 0, 15, 11, 8, 4, 1, 9, 10, 14, 2, 13, 16, 5]),\n",
       " array('i', [7, 6, 12, 3, 0, 15, 11, 8, 4, 1, 9, 10, 14, 2, 13, 16, 5]),\n",
       " array('i', [7, 6, 12, 3, 0, 15, 11, 8, 4, 1, 9, 10, 2, 14, 13, 16, 5]),\n",
       " array('i', [7, 6, 12, 3, 0, 15, 11, 8, 4, 1, 9, 10, 14, 2, 13, 16, 5]),\n",
       " array('i', [7, 6, 12, 3, 0, 15, 11, 8, 4, 1, 9, 10, 14, 2, 13, 16, 5]),\n",
       " array('i', [7, 6, 12, 3, 0, 15, 11, 8, 4, 1, 9, 10, 14, 2, 13, 16, 5]),\n",
       " array('i', [7, 6, 12, 3, 0, 15, 11, 8, 4, 1, 9, 10, 14, 2, 13, 16, 5]),\n",
       " array('i', [7, 6, 12, 3, 0, 15, 11, 8, 4, 1, 9, 10, 2, 14, 13, 16, 5]),\n",
       " array('i', [7, 6, 12, 3, 0, 15, 11, 8, 4, 1, 9, 10, 14, 2, 13, 16, 5]),\n",
       " array('i', [7, 6, 12, 3, 0, 15, 11, 8, 4, 1, 9, 10, 14, 2, 13, 16, 5]),\n",
       " array('i', [7, 6, 12, 3, 0, 15, 11, 8, 4, 1, 9, 10, 14, 2, 13, 16, 5]),\n",
       " array('i', [7, 6, 12, 3, 0, 15, 11, 8, 4, 1, 9, 10, 14, 2, 13, 16, 5]),\n",
       " array('i', [7, 6, 12, 3, 0, 15, 11, 8, 4, 1, 9, 10, 14, 2, 13, 16, 5]),\n",
       " array('i', [7, 6, 12, 3, 0, 15, 11, 8, 4, 1, 9, 10, 14, 2, 13, 16, 5]),\n",
       " array('i', [7, 6, 12, 3, 0, 15, 11, 8, 4, 1, 9, 10, 14, 2, 13, 16, 5]),\n",
       " array('i', [7, 6, 12, 3, 0, 15, 11, 8, 4, 1, 9, 10, 14, 2, 13, 16, 5]),\n",
       " array('i', [7, 6, 12, 3, 0, 15, 11, 8, 4, 1, 9, 10, 14, 2, 13, 16, 5]),\n",
       " array('i', [7, 6, 12, 3, 0, 15, 11, 8, 4, 1, 9, 10, 14, 2, 13, 16, 5]),\n",
       " array('i', [7, 6, 12, 3, 0, 15, 11, 8, 4, 1, 9, 10, 14, 2, 13, 16, 5]),\n",
       " array('i', [7, 6, 12, 3, 0, 15, 11, 8, 4, 1, 9, 10, 14, 2, 13, 16, 5]),\n",
       " array('i', [7, 6, 12, 3, 0, 15, 11, 8, 4, 1, 9, 10, 14, 2, 13, 16, 5]),\n",
       " array('i', [7, 6, 12, 3, 0, 15, 11, 8, 4, 1, 9, 10, 2, 14, 13, 16, 5]),\n",
       " array('i', [7, 6, 12, 3, 0, 15, 11, 8, 4, 1, 9, 10, 14, 2, 13, 16, 5]),\n",
       " array('i', [7, 6, 12, 3, 0, 15, 11, 8, 4, 1, 9, 10, 14, 2, 13, 16, 5]),\n",
       " array('i', [7, 6, 12, 3, 0, 15, 11, 8, 4, 1, 9, 10, 14, 2, 13, 16, 5]),\n",
       " array('i', [7, 6, 12, 3, 0, 15, 11, 8, 4, 1, 9, 10, 14, 2, 13, 16, 5]),\n",
       " array('i', [15, 6, 12, 3, 0, 7, 11, 8, 4, 1, 9, 10, 14, 2, 13, 16, 5]),\n",
       " array('i', [7, 6, 12, 3, 0, 15, 11, 8, 4, 1, 9, 10, 14, 2, 13, 16, 5]),\n",
       " array('i', [7, 6, 12, 3, 0, 15, 11, 8, 4, 1, 9, 10, 14, 2, 13, 16, 5]),\n",
       " array('i', [7, 6, 12, 3, 0, 15, 11, 8, 4, 1, 9, 10, 14, 2, 13, 16, 5]),\n",
       " array('i', [7, 6, 12, 3, 0, 15, 11, 8, 4, 1, 9, 10, 14, 2, 13, 16, 5]),\n",
       " array('i', [7, 6, 12, 3, 0, 15, 11, 8, 4, 1, 9, 10, 14, 2, 13, 16, 5]),\n",
       " array('i', [7, 6, 12, 3, 0, 15, 11, 8, 4, 1, 9, 10, 14, 2, 13, 16, 5]),\n",
       " array('i', [7, 6, 12, 3, 0, 15, 11, 8, 4, 1, 9, 10, 14, 2, 13, 16, 5]),\n",
       " array('i', [7, 6, 12, 3, 0, 15, 11, 8, 4, 1, 9, 10, 14, 2, 13, 16, 5]),\n",
       " array('i', [7, 6, 12, 3, 0, 15, 11, 8, 4, 1, 9, 10, 14, 2, 13, 16, 5]),\n",
       " array('i', [7, 6, 12, 3, 0, 15, 11, 8, 4, 1, 9, 10, 14, 2, 13, 16, 5]),\n",
       " array('i', [1, 6, 12, 3, 0, 15, 11, 8, 4, 7, 9, 10, 14, 2, 13, 16, 5]),\n",
       " array('i', [7, 6, 12, 3, 0, 15, 11, 8, 4, 1, 9, 10, 14, 2, 13, 16, 5]),\n",
       " array('i', [7, 6, 12, 3, 0, 15, 11, 8, 4, 1, 9, 10, 14, 2, 13, 16, 5]),\n",
       " array('i', [7, 6, 12, 3, 0, 15, 11, 8, 4, 1, 9, 10, 14, 2, 13, 16, 5]),\n",
       " array('i', [7, 6, 12, 3, 0, 15, 11, 8, 4, 1, 9, 10, 14, 2, 13, 16, 5]),\n",
       " array('i', [7, 6, 12, 3, 0, 15, 11, 8, 4, 1, 9, 10, 14, 2, 13, 16, 5]),\n",
       " array('i', [7, 6, 12, 3, 0, 15, 11, 8, 4, 1, 9, 10, 14, 2, 13, 16, 5]),\n",
       " array('i', [7, 6, 12, 3, 0, 15, 11, 8, 4, 1, 16, 10, 14, 2, 13, 9, 5]),\n",
       " array('i', [7, 6, 12, 15, 0, 3, 11, 4, 8, 1, 9, 10, 14, 2, 13, 16, 5]),\n",
       " array('i', [7, 6, 12, 3, 0, 15, 11, 8, 4, 1, 9, 10, 14, 2, 13, 16, 5]),\n",
       " array('i', [7, 6, 12, 3, 0, 15, 11, 8, 4, 1, 9, 10, 14, 2, 13, 16, 5]),\n",
       " array('i', [7, 6, 12, 3, 0, 15, 11, 8, 4, 1, 9, 10, 14, 2, 13, 16, 5]),\n",
       " array('i', [7, 6, 12, 3, 0, 15, 11, 8, 4, 1, 9, 10, 14, 2, 13, 16, 5]),\n",
       " array('i', [7, 6, 12, 3, 0, 15, 11, 8, 4, 1, 9, 10, 14, 2, 13, 16, 5]),\n",
       " array('i', [7, 6, 12, 3, 0, 15, 11, 8, 4, 1, 9, 10, 14, 2, 13, 16, 5]),\n",
       " array('i', [7, 6, 12, 3, 0, 15, 11, 8, 4, 1, 9, 10, 14, 2, 13, 16, 5]),\n",
       " array('i', [7, 6, 12, 3, 0, 15, 11, 8, 4, 1, 2, 10, 14, 9, 13, 16, 5]),\n",
       " array('i', [7, 6, 12, 3, 0, 15, 11, 8, 4, 1, 9, 10, 14, 2, 13, 16, 5]),\n",
       " array('i', [7, 6, 12, 3, 0, 15, 11, 8, 13, 1, 9, 10, 14, 2, 4, 16, 5]),\n",
       " array('i', [7, 6, 12, 3, 0, 15, 11, 8, 4, 1, 9, 10, 14, 2, 13, 16, 5]),\n",
       " array('i', [7, 6, 12, 3, 0, 15, 11, 8, 4, 1, 9, 10, 14, 2, 13, 16, 5]),\n",
       " array('i', [7, 6, 12, 3, 0, 15, 11, 8, 4, 1, 9, 10, 14, 2, 13, 16, 5]),\n",
       " array('i', [7, 6, 12, 3, 0, 15, 4, 8, 11, 1, 9, 10, 14, 2, 13, 16, 5]),\n",
       " array('i', [7, 6, 12, 3, 0, 15, 11, 8, 4, 1, 9, 10, 14, 2, 13, 16, 5]),\n",
       " array('i', [7, 1, 12, 3, 0, 15, 11, 8, 4, 6, 9, 10, 14, 2, 13, 16, 5]),\n",
       " array('i', [7, 6, 12, 3, 0, 15, 11, 8, 4, 1, 9, 10, 14, 2, 13, 16, 5]),\n",
       " array('i', [7, 6, 12, 3, 0, 15, 11, 8, 4, 1, 9, 10, 14, 2, 13, 16, 5]),\n",
       " array('i', [7, 6, 12, 3, 0, 15, 11, 8, 4, 1, 9, 10, 14, 2, 13, 16, 5]),\n",
       " array('i', [7, 6, 12, 3, 0, 15, 11, 8, 4, 1, 9, 10, 14, 2, 13, 16, 5]),\n",
       " array('i', [7, 6, 12, 3, 0, 15, 11, 8, 4, 1, 9, 10, 14, 2, 13, 16, 5]),\n",
       " array('i', [7, 6, 12, 3, 0, 15, 11, 8, 4, 1, 9, 10, 14, 2, 13, 16, 5]),\n",
       " array('i', [7, 6, 12, 3, 0, 15, 11, 8, 4, 1, 9, 10, 14, 2, 13, 16, 5]),\n",
       " array('i', [7, 6, 12, 3, 0, 15, 11, 8, 4, 1, 9, 10, 14, 2, 13, 16, 5]),\n",
       " array('i', [7, 6, 12, 3, 0, 15, 11, 8, 4, 1, 9, 10, 14, 2, 13, 16, 5]),\n",
       " array('i', [7, 6, 12, 3, 0, 15, 11, 8, 4, 1, 9, 10, 14, 2, 13, 16, 5]),\n",
       " array('i', [7, 6, 12, 3, 0, 15, 11, 8, 4, 1, 9, 10, 14, 2, 13, 16, 5]),\n",
       " array('i', [7, 6, 12, 3, 0, 15, 11, 8, 4, 1, 9, 10, 14, 2, 13, 16, 5]),\n",
       " array('i', [7, 6, 12, 3, 0, 15, 11, 8, 4, 1, 9, 10, 14, 2, 13, 16, 5]),\n",
       " array('i', [7, 6, 12, 3, 0, 15, 11, 8, 4, 1, 9, 10, 14, 2, 13, 16, 5]),\n",
       " array('i', [7, 6, 12, 3, 0, 15, 11, 8, 4, 1, 9, 10, 14, 2, 13, 16, 5]),\n",
       " array('i', [7, 6, 12, 3, 0, 13, 11, 8, 4, 1, 9, 10, 14, 2, 15, 16, 5]),\n",
       " array('i', [7, 6, 12, 3, 0, 15, 11, 8, 4, 1, 9, 10, 14, 2, 13, 16, 5]),\n",
       " array('i', [7, 6, 12, 3, 0, 15, 11, 8, 4, 1, 9, 10, 14, 2, 13, 16, 5]),\n",
       " array('i', [7, 6, 12, 3, 0, 15, 11, 8, 4, 1, 9, 10, 14, 2, 13, 16, 5]),\n",
       " array('i', [7, 6, 12, 3, 0, 15, 11, 8, 4, 1, 9, 10, 2, 14, 13, 16, 5]),\n",
       " array('i', [7, 6, 12, 3, 0, 15, 11, 8, 4, 1, 9, 10, 14, 2, 13, 16, 5]),\n",
       " array('i', [7, 6, 12, 3, 0, 15, 11, 8, 4, 1, 9, 10, 14, 2, 13, 16, 5]),\n",
       " array('i', [7, 6, 12, 3, 0, 15, 11, 8, 4, 1, 9, 10, 14, 2, 13, 16, 5]),\n",
       " array('i', [7, 6, 12, 3, 0, 15, 11, 8, 4, 1, 9, 10, 14, 2, 13, 16, 5]),\n",
       " array('i', [7, 6, 12, 3, 0, 15, 11, 8, 4, 1, 9, 10, 14, 2, 13, 16, 5]),\n",
       " array('i', [7, 6, 12, 3, 0, 15, 11, 8, 4, 1, 9, 10, 14, 2, 13, 16, 5]),\n",
       " array('i', [7, 6, 12, 3, 0, 15, 11, 8, 4, 1, 9, 10, 14, 2, 13, 16, 5]),\n",
       " array('i', [7, 6, 12, 3, 0, 15, 11, 8, 4, 1, 9, 10, 14, 2, 13, 16, 5]),\n",
       " array('i', [7, 6, 12, 3, 0, 15, 11, 8, 4, 1, 9, 10, 14, 2, 13, 16, 5]),\n",
       " array('i', [7, 6, 12, 3, 0, 15, 11, 8, 4, 1, 9, 10, 14, 2, 13, 16, 5]),\n",
       " array('i', [7, 6, 12, 3, 0, 15, 11, 8, 4, 1, 9, 10, 14, 2, 13, 16, 5]),\n",
       " array('i', [7, 6, 12, 3, 0, 15, 11, 8, 4, 1, 9, 10, 14, 2, 13, 16, 5]),\n",
       " array('i', [7, 6, 12, 3, 0, 15, 11, 8, 4, 1, 9, 10, 14, 2, 13, 16, 5]),\n",
       " array('i', [7, 6, 12, 3, 0, 15, 11, 8, 4, 1, 9, 10, 14, 2, 13, 16, 5]),\n",
       " array('i', [7, 6, 12, 3, 0, 15, 11, 8, 4, 1, 9, 10, 14, 2, 13, 16, 5]),\n",
       " array('i', [7, 6, 12, 3, 0, 15, 11, 8, 4, 1, 9, 10, 14, 2, 13, 16, 5]),\n",
       " array('i', [7, 6, 12, 3, 0, 15, 11, 8, 4, 1, 9, 10, 14, 2, 13, 16, 5]),\n",
       " array('i', [7, 6, 12, 3, 0, 15, 11, 8, 4, 1, 9, 10, 2, 14, 13, 16, 5]),\n",
       " array('i', [7, 6, 12, 3, 0, 15, 11, 8, 4, 1, 9, 10, 14, 2, 13, 16, 5]),\n",
       " array('i', [7, 6, 12, 3, 0, 15, 11, 8, 4, 1, 9, 10, 14, 2, 13, 16, 5]),\n",
       " array('i', [7, 6, 12, 3, 0, 15, 11, 8, 4, 1, 9, 10, 14, 2, 13, 16, 5]),\n",
       " array('i', [7, 6, 12, 3, 0, 15, 11, 8, 4, 1, 9, 10, 14, 2, 13, 16, 5]),\n",
       " array('i', [7, 6, 12, 3, 0, 15, 11, 8, 4, 1, 9, 10, 14, 2, 13, 16, 5]),\n",
       " array('i', [7, 6, 12, 3, 0, 15, 11, 8, 4, 1, 9, 10, 14, 2, 13, 16, 5]),\n",
       " array('i', [7, 6, 12, 3, 0, 15, 11, 8, 4, 1, 9, 10, 14, 2, 13, 16, 5]),\n",
       " array('i', [7, 6, 12, 3, 0, 15, 11, 8, 4, 1, 9, 10, 14, 2, 13, 16, 5]),\n",
       " array('i', [7, 6, 12, 3, 0, 15, 11, 8, 4, 1, 9, 10, 14, 2, 13, 16, 5]),\n",
       " array('i', [7, 6, 12, 3, 0, 15, 11, 8, 4, 1, 9, 10, 14, 2, 13, 16, 5]),\n",
       " array('i', [7, 6, 12, 3, 0, 15, 11, 8, 4, 1, 9, 10, 14, 2, 13, 16, 5]),\n",
       " array('i', [7, 6, 12, 3, 0, 15, 11, 8, 4, 1, 9, 10, 14, 2, 13, 16, 5]),\n",
       " array('i', [7, 6, 12, 3, 0, 15, 11, 8, 4, 1, 9, 10, 14, 2, 13, 16, 5]),\n",
       " array('i', [7, 6, 12, 3, 0, 15, 11, 1, 4, 8, 9, 10, 14, 2, 13, 16, 5]),\n",
       " array('i', [7, 6, 12, 3, 0, 15, 11, 8, 4, 1, 9, 10, 14, 2, 13, 16, 5]),\n",
       " array('i', [7, 6, 12, 3, 0, 15, 11, 8, 4, 1, 9, 10, 14, 2, 13, 16, 5]),\n",
       " array('i', [7, 6, 12, 3, 0, 15, 11, 8, 4, 1, 9, 10, 14, 2, 13, 16, 5]),\n",
       " array('i', [7, 6, 12, 3, 0, 15, 11, 8, 4, 1, 9, 10, 2, 14, 13, 16, 5]),\n",
       " array('i', [7, 6, 12, 3, 0, 15, 11, 8, 4, 1, 9, 10, 14, 2, 13, 16, 5]),\n",
       " array('i', [7, 6, 12, 3, 0, 15, 11, 8, 4, 1, 9, 10, 14, 2, 13, 16, 5]),\n",
       " array('i', [7, 6, 12, 3, 0, 15, 11, 8, 4, 1, 9, 10, 14, 2, 13, 16, 5]),\n",
       " array('i', [7, 6, 12, 3, 0, 15, 11, 8, 4, 1, 9, 10, 14, 2, 13, 16, 5]),\n",
       " array('i', [7, 6, 12, 3, 0, 15, 11, 8, 4, 1, 9, 10, 14, 2, 13, 16, 5]),\n",
       " array('i', [7, 6, 12, 3, 0, 15, 11, 8, 4, 1, 9, 10, 14, 2, 13, 16, 5]),\n",
       " array('i', [7, 6, 12, 3, 0, 15, 11, 8, 4, 1, 9, 10, 14, 2, 13, 16, 5]),\n",
       " array('i', [7, 6, 12, 3, 0, 15, 11, 8, 4, 1, 9, 10, 14, 2, 13, 16, 5]),\n",
       " array('i', [7, 6, 12, 3, 0, 15, 11, 8, 4, 1, 9, 10, 14, 2, 13, 16, 5]),\n",
       " array('i', [7, 6, 12, 3, 0, 15, 11, 8, 4, 1, 9, 10, 14, 2, 13, 16, 5]),\n",
       " array('i', [7, 6, 12, 3, 0, 15, 11, 8, 4, 1, 9, 10, 14, 2, 13, 16, 5]),\n",
       " array('i', [7, 6, 12, 3, 0, 15, 11, 8, 4, 1, 9, 10, 14, 2, 13, 16, 5]),\n",
       " array('i', [7, 6, 12, 3, 0, 15, 11, 8, 4, 1, 9, 10, 2, 14, 13, 16, 5]),\n",
       " array('i', [7, 6, 12, 3, 0, 15, 11, 8, 4, 1, 9, 10, 14, 2, 13, 16, 5]),\n",
       " array('i', [11, 6, 12, 3, 0, 15, 7, 8, 4, 1, 9, 10, 14, 2, 13, 16, 5]),\n",
       " array('i', [7, 6, 12, 3, 0, 15, 11, 8, 4, 1, 9, 10, 14, 2, 13, 16, 5]),\n",
       " array('i', [7, 6, 12, 3, 0, 15, 11, 8, 4, 1, 9, 10, 14, 2, 13, 16, 5]),\n",
       " array('i', [7, 6, 12, 3, 0, 15, 11, 8, 4, 1, 9, 10, 14, 2, 13, 16, 5]),\n",
       " array('i', [7, 6, 12, 3, 0, 15, 11, 8, 4, 1, 9, 10, 14, 2, 13, 16, 5]),\n",
       " array('i', [7, 6, 12, 3, 0, 15, 11, 8, 4, 1, 9, 10, 14, 2, 13, 16, 5]),\n",
       " array('i', [7, 6, 12, 3, 0, 15, 11, 8, 4, 1, 9, 10, 2, 14, 13, 16, 5]),\n",
       " array('i', [7, 6, 13, 3, 14, 15, 11, 8, 10, 1, 9, 4, 0, 2, 12, 16, 5]),\n",
       " array('i', [7, 6, 12, 3, 0, 15, 11, 8, 4, 1, 9, 10, 2, 14, 13, 16, 5]),\n",
       " array('i', [7, 6, 12, 3, 0, 15, 11, 8, 4, 1, 9, 10, 14, 2, 13, 16, 5]),\n",
       " array('i', [7, 6, 12, 3, 0, 15, 11, 8, 4, 1, 9, 10, 14, 2, 13, 16, 5]),\n",
       " array('i', [7, 6, 12, 3, 0, 15, 11, 8, 4, 1, 9, 10, 14, 2, 13, 16, 5]),\n",
       " array('i', [7, 6, 12, 3, 0, 15, 11, 8, 4, 1, 9, 10, 14, 2, 13, 16, 5]),\n",
       " array('i', [7, 6, 12, 3, 0, 15, 11, 8, 4, 1, 9, 10, 14, 2, 13, 16, 5]),\n",
       " array('i', [7, 6, 12, 3, 0, 15, 11, 8, 4, 1, 9, 10, 14, 2, 13, 16, 5])]"
      ]
     },
     "execution_count": 11,
     "metadata": {},
     "output_type": "execute_result"
    }
   ],
   "source": [
    "pop"
   ]
  },
  {
   "cell_type": "code",
   "execution_count": 12,
   "metadata": {
    "collapsed": true
   },
   "outputs": [],
   "source": [
    "df.plot?"
   ]
  },
  {
   "cell_type": "code",
   "execution_count": 13,
   "metadata": {
    "collapsed": false,
    "scrolled": false
   },
   "outputs": [
    {
     "data": {
      "text/plain": [
       "<matplotlib.axes._subplots.AxesSubplot at 0x7f2d888a5c10>"
      ]
     },
     "execution_count": 13,
     "metadata": {},
     "output_type": "execute_result"
    },
    {
     "data": {
      "image/png": "[encoded data removed]",
      "text/plain": [
       "<matplotlib.figure.Figure at 0x7f2d888bb450>"
      ]
     },
     "metadata": {},
     "output_type": "display_data"
    }
   ],
   "source": [
    "df.plot(y=['max','min','std'])"
   ]
  },
  {
   "cell_type": "code",
   "execution_count": 14,
   "metadata": {
    "collapsed": false,
    "scrolled": true
   },
   "outputs": [
    {
     "data": {
      "image/png": "[encoded data removed]",
      "text/plain": [
       "<matplotlib.figure.Figure at 0x7f2d88737d10>"
      ]
     },
     "metadata": {},
     "output_type": "display_data"
    }
   ],
   "source": [
    "a=df.plot(y=['max','min']).fill_between(xrange(0,41),df['min'],df['max'],color='red',alpha='0.5')\n"
   ]
  },
  {
   "cell_type": "code",
   "execution_count": 15,
   "metadata": {
    "collapsed": false,
    "scrolled": true
   },
   "outputs": [
    {
     "ename": "AttributeError",
     "evalue": "'PolyCollection' object has no attribute 'fill_between'",
     "output_type": "error",
     "traceback": [
      "\u001b[1;31m---------------------------------------------------------------------------\u001b[0m",
      "\u001b[1;31mAttributeError\u001b[0m                            Traceback (most recent call last)",
      "\u001b[1;32m<ipython-input-15-cfbe80c3f489>\u001b[0m in \u001b[0;36m<module>\u001b[1;34m()\u001b[0m\n\u001b[1;32m----> 1\u001b[1;33m \u001b[0ma\u001b[0m\u001b[1;33m.\u001b[0m\u001b[0mfill_between\u001b[0m\u001b[1;33m(\u001b[0m\u001b[0mxrange\u001b[0m\u001b[1;33m(\u001b[0m\u001b[1;36m0\u001b[0m\u001b[1;33m,\u001b[0m\u001b[1;36m41\u001b[0m\u001b[1;33m)\u001b[0m\u001b[1;33m,\u001b[0m\u001b[0mdf\u001b[0m\u001b[1;33m[\u001b[0m\u001b[1;34m'min'\u001b[0m\u001b[1;33m]\u001b[0m\u001b[1;33m,\u001b[0m\u001b[0mdf\u001b[0m\u001b[1;33m[\u001b[0m\u001b[1;34m'max'\u001b[0m\u001b[1;33m]\u001b[0m\u001b[1;33m,\u001b[0m\u001b[0mcolor\u001b[0m\u001b[1;33m=\u001b[0m\u001b[1;34m'grey'\u001b[0m\u001b[1;33m,\u001b[0m\u001b[0malpha\u001b[0m\u001b[1;33m=\u001b[0m\u001b[1;34m'0.5'\u001b[0m\u001b[1;33m)\u001b[0m\u001b[1;33m\u001b[0m\u001b[0m\n\u001b[0m",
      "\u001b[1;31mAttributeError\u001b[0m: 'PolyCollection' object has no attribute 'fill_between'"
     ]
    }
   ],
   "source": [
    "a.fill_between(xrange(0,41),df['min'],df['max'],color='grey',alpha='0.5')"
   ]
  }
 ],
 "metadata": {
  "kernelspec": {
   "display_name": "Python 2",
   "language": "python",
   "name": "python2"
  },
  "language_info": {
   "codemirror_mode": {
    "name": "ipython",
    "version": 2
   },
   "file_extension": ".py",
   "mimetype": "text/x-python",
   "name": "python",
   "nbconvert_exporter": "python",
   "pygments_lexer": "ipython2",
   "version": "2.7.11"
  }
 },
 "nbformat": 4,
 "nbformat_minor": 0
}

{
 "cells": [
  {
   "cell_type": "code",
   "execution_count": 27,
   "metadata": {
    "collapsed": true
   },
   "outputs": [],
   "source": [
    "import deap as dp\n",
    "import array\n",
    "import random\n",
    "import json\n",
    "import pandas as pd\n",
    "import numpy\n",
    "\n",
    "from deap import algorithms\n",
    "from deap import base\n",
    "from deap import creator\n",
    "from deap import tools"
   ]
  },
  {
   "cell_type": "code",
   "execution_count": 5,
   "metadata": {
    "collapsed": false,
    "scrolled": false
   },
   "outputs": [],
   "source": [
    "# gr*.json contains the distance map in list of list style in JSON format\n",
    "# Optimal solutions are : gr17 = 2085, gr24 = 1272, gr120 = 6942\n",
    "with open(\"gr17.json\", \"r\") as tsp_data:\n",
    "    tsp = json.load(tsp_data)\n",
    "\n",
    "distance_map = tsp[\"DistanceMatrix\"]\n",
    "IND_SIZE = tsp[\"TourSize\"]\n",
    "\n",
    "creator.create(\"FitnessMin\", base.Fitness, weights=(-1.0,))\n",
    "creator.create(\"Individual\", array.array, typecode='i', fitness=creator.FitnessMin)\n"
   ]
  },
  {
   "cell_type": "code",
   "execution_count": 6,
   "metadata": {
    "collapsed": false
   },
   "outputs": [],
   "source": [
    "toolbox = base.Toolbox()\n",
    "\n",
    "# Attribute generator\n",
    "toolbox.register(\"indices\", random.sample, range(IND_SIZE), IND_SIZE)\n",
    "\n",
    "# Structure initializers\n",
    "toolbox.register(\"individual\", tools.initIterate, creator.Individual, toolbox.indices)\n",
    "toolbox.register(\"population\", tools.initRepeat, list, toolbox.individual)\n",
    "\n",
    "def evalTSP(individual):\n",
    "    distance = distance_map[individual[-1]][individual[0]]\n",
    "    for gene1, gene2 in zip(individual[0:-1], individual[1:]):\n",
    "        distance += distance_map[gene1][gene2]\n",
    "    return distance,\n",
    "\n",
    "toolbox.register(\"mate\", tools.cxPartialyMatched)\n",
    "toolbox.register(\"mutate\", tools.mutShuffleIndexes, indpb=0.05)\n",
    "toolbox.register(\"select\", tools.selTournament, tournsize=3)\n",
    "toolbox.register(\"evaluate\", evalTSP)"
   ]
  },
  {
   "cell_type": "code",
   "execution_count": 54,
   "metadata": {
    "collapsed": false
   },
   "outputs": [
    {
     "name": "stdout",
     "output_type": "stream",
     "text": [
      "gen\tnevals\tavg   \tstd    \tmin \tmax \n",
      "0  \t300   \t4700.7\t424.386\t3606\t5842\n",
      "1  \t217   \t4463.74\t385.243\t3587\t5808\n",
      "2  \t225   \t4364.21\t416.823\t3364\t5513\n",
      "3  \t223   \t4285.67\t458.048\t3201\t5501\n",
      "4  \t223   \t4206.02\t475.679\t3215\t5606\n",
      "5  \t230   \t4146.42\t504.015\t3150\t5943\n",
      "6  \t247   \t4123.21\t513.325\t3078\t5652\n",
      "7  \t231   \t4081.35\t533.341\t2616\t5580\n",
      "8  \t232   \t4027.11\t510.98 \t2616\t5571\n",
      "9  \t214   \t3978.78\t525.99 \t2616\t5645\n",
      "10 \t228   \t3943.08\t569.815\t2811\t5422\n",
      "11 \t235   \t3900.61\t570.03 \t2542\t5524\n",
      "12 \t213   \t3816.81\t565.796\t2542\t5477\n",
      "13 \t222   \t3744.63\t560.789\t2542\t5049\n",
      "14 \t228   \t3643.4 \t559.641\t2542\t5217\n",
      "15 \t229   \t3551.48\t572.28 \t2526\t5100\n",
      "16 \t226   \t3391.22\t491.641\t2505\t5370\n",
      "17 \t236   \t3253.73\t496.11 \t2468\t5012\n",
      "18 \t221   \t3050.2 \t378.099\t2412\t4823\n",
      "19 \t215   \t2918.94\t328.25 \t2339\t4331\n",
      "20 \t205   \t2798.48\t314.093\t2339\t3940\n",
      "21 \t209   \t2707.55\t352.161\t2276\t4257\n",
      "22 \t216   \t2568.45\t321.18 \t2233\t4708\n",
      "23 \t244   \t2498.27\t336.388\t2233\t4785\n",
      "24 \t219   \t2424.09\t262.651\t2228\t3928\n",
      "25 \t231   \t2406.27\t326.672\t2157\t4838\n",
      "26 \t217   \t2357.61\t288.564\t2147\t4444\n",
      "27 \t209   \t2310.19\t229.065\t2157\t3857\n",
      "28 \t228   \t2322.92\t336.49 \t2144\t4419\n",
      "29 \t236   \t2287.16\t286.619\t2143\t4101\n",
      "30 \t238   \t2292.43\t344.675\t2135\t4190\n",
      "31 \t215   \t2244.14\t256.413\t2132\t3866\n",
      "32 \t224   \t2237.4 \t300.56 \t2132\t4216\n",
      "33 \t237   \t2298.76\t394.533\t2132\t4408\n",
      "34 \t213   \t2241.81\t310.337\t2132\t3916\n",
      "35 \t241   \t2235.37\t298.392\t2132\t4026\n",
      "36 \t219   \t2264.78\t379.305\t2132\t4704\n",
      "37 \t239   \t2230.39\t303.224\t2132\t3919\n",
      "38 \t226   \t2249.34\t345.478\t2132\t4776\n",
      "39 \t226   \t2222.23\t303.603\t2085\t4391\n",
      "40 \t220   \t2228.51\t329.468\t2085\t4235\n"
     ]
    }
   ],
   "source": [
    "# main() exposed\n",
    "\n",
    "random.seed(169)\n",
    "\n",
    "pop = toolbox.population(n=300)\n",
    "\n",
    "hof = tools.HallOfFame(1)\n",
    "stats = tools.Statistics(lambda ind: ind.fitness.values)\n",
    "stats.register(\"avg\", numpy.mean)\n",
    "stats.register(\"std\", numpy.std)\n",
    "stats.register(\"min\", numpy.min)\n",
    "stats.register(\"max\", numpy.max)\n",
    "\n",
    "result_object=algorithms.eaSimple(pop, toolbox, 0.7, 0.2, 40, stats=stats, \n",
    "                    halloffame=hof)"
   ]
  },
  {
   "cell_type": "code",
   "execution_count": 55,
   "metadata": {
    "collapsed": false
   },
   "outputs": [
    {
     "data": {
      "text/plain": [
       "385.24293512881798"
      ]
     },
     "execution_count": 55,
     "metadata": {},
     "output_type": "execute_result"
    }
   ],
   "source": [
    "result_object[1][1]['std']"
   ]
  },
  {
   "cell_type": "code",
   "execution_count": 61,
   "metadata": {
    "collapsed": false
   },
   "outputs": [
    {
     "data": {
      "text/plain": [
       "dict"
      ]
     },
     "execution_count": 61,
     "metadata": {},
     "output_type": "execute_result"
    }
   ],
   "source": [
    "type(result_object[1][1])"
   ]
  },
  {
   "cell_type": "code",
   "execution_count": null,
   "metadata": {
    "collapsed": true
   },
   "outputs": [],
   "source": []
  }
 ],
 "metadata": {
  "kernelspec": {
   "display_name": "Python 2",
   "language": "python",
   "name": "python2"
  },
  "language_info": {
   "codemirror_mode": {
    "name": "ipython",
    "version": 2
   },
   "file_extension": ".py",
   "mimetype": "text/x-python",
   "name": "python",
   "nbconvert_exporter": "python",
   "pygments_lexer": "ipython2",
   "version": "2.7.11"
  }
 },
 "nbformat": 4,
 "nbformat_minor": 0
}
